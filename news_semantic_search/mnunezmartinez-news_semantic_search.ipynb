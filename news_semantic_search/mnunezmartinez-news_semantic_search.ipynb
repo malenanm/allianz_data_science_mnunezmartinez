{
  "cells": [
    {
      "cell_type": "markdown",
      "metadata": {
        "id": "Sn3M54YBOQ3p"
      },
      "source": [
        "---\n",
        "# News Category Semantic Search with Generative AI\n",
        "---"
      ]
    },
    {
      "cell_type": "markdown",
      "metadata": {
        "id": "GHm8lros0TFj"
      },
      "source": [
        "# 1. Dataset Sourcing"
      ]
    },
    {
      "cell_type": "markdown",
      "metadata": {
        "id": "OTGG9f2q0TFn"
      },
      "source": [
        "## Dataset Selection\n",
        "\n",
        "The dataset chosen for this project is the **News Category Dataset**, a publicly available dataset containing over 200,000 news headlines with accompanying metadata. Each entry in the dataset includes:\n",
        "- **Headline:** The title of the news article.\n",
        "- **Short Description:** A summary or abstract of the article's content.\n",
        "- **Category:** The classification of the article into one of 42 predefined categories, such as business, politics, technology, sports, and more.\n",
        "- **Date:** The publication date of the article.\n",
        "\n",
        "Initially, I considered two potential datasets for this project: the **CNN/Daily Mail Dataset** and the **News Category Dataset**. While both are well-suited for tasks involving news articles, I ultimately selected the News Category Dataset for the following reasons:\n",
        "\n",
        "1. **Concise and Pre-Processed Content:** The News Category Dataset provides short, well-structured summaries and headlines, eliminating the need for extensive pre-processing. This allows for a more efficient pipeline.\n",
        "2. **Lightweight and Faster Processing:** Compared to the larger and more complex CNN/Daily Mail Dataset, the News Category Dataset is significantly smaller, making it more practical to process on a machine without a GPU.\n",
        "3. **Accessibility:** Since my local setup lacks a GPU, I relied on Google Colab for computations. The smaller size of the News Category Dataset ensured smoother and faster processing in this environment.\n",
        "4. **Diversity of Categories:** It spans a wide range of topics, from politics to lifestyle, which is ideal for testing the flexibility of semantic search models across varied domains.\n",
        "\n",
        "## Relevance to the Task\n",
        "\n",
        "This dataset aligns perfectly with the project goals for several reasons:\n",
        "- **Diversity of Topics:** The dataset includes articles from a broad range of categories such as business, politics, entertainment, and sports. This diversity provides a comprehensive base for building a semantic search system capable of handling varied user queries.\n",
        "- **Textual Richness:** Both headlines and short descriptions are included for each article, enabling us to explore multiple text representations. These fields are essential for creating robust embeddings that capture semantic meaning.\n",
        "- **Categorical Information:** The predefined categories in the dataset are crucial for training and validating the semantic search model. They also provide a natural extension for tasks like classification and topic modeling.\n",
        "- **Scalability:** With 200,000 records, the dataset is substantial enough to train and evaluate advanced NLP models while being manageable within the constraints of the project timeline.\n",
        "\n",
        "## Why This Dataset Was Selected\n",
        "\n",
        "The News Category Dataset was chosen over other alternatives because of its combination of:\n",
        "- **Real-World Relevance:** The dataset closely resembles the type of data managed by a media company, whose flagship publication, The Wall Street Journal, also features categorized news articles. Using this dataset allows us to simulate real-world scenarios for semantic search and other NLP tasks.\n",
        "- **Alignment with NLP Goals:** An NLP system requires textual data with meaningful patterns and relationships. The dataset's headlines and descriptions offer ideal input for generating embeddings and testing semantic similarity.\n",
        "- **Potential for Generative AI:** The dataset can be integrated with GPT to generate summaries, answer questions, and provide detailed responses based on the retrieved articles. This showcases the practical utility of combining semantic search with Generative AI.\n",
        "- **Practicality:** Compared to larger datasets (e.g., CNN/Daily Mail), the size of the News Category Dataset makes it computationally efficient to process while still being large enough to demonstrate robust results."
      ]
    },
    {
      "cell_type": "markdown",
      "metadata": {
        "id": "9fNDCsQ00TFt"
      },
      "source": [
        "# 2. Problem Definition"
      ]
    },
    {
      "cell_type": "markdown",
      "metadata": {
        "id": "hxqyfJJA0TFu"
      },
      "source": [
        "## Problem Statement\n",
        "\n",
        "The goal of this project is to design and implement a **Semantic Search system enhanced with Generative AI capabilities** using the **News Category Dataset**. The system aims to allow users to retrieve and interact with news articles through natural language queries. By leveraging **semantic embeddings** for better contextual understanding and integrating LLMs, the system can provide features such as question-answering functionalities or labeling a document with classes.\n",
        "\n",
        "## Significance of the Problem\n",
        "\n",
        "1. **Information overload:** In the digital age, users often struggle to find relevant information quickly due to the overwhelming volume of content. Semantic search addresses this issue by retrieving documents based on meaning rather than simple keyword matching, making search results more relevant and intuitive.\n",
        "\n",
        "2. **Demand for advanced search features:** As users expect richer interactions with search systems, basic retrieval models are no longer sufficient. The integration of **Generative AI** allows the system to go beyond retrieval, providing users with dynamic insights, summaries, and answers tailored to their queries.\n",
        "\n",
        "3. **Alignment with real-world applications:** For media companies, which rely on organizing, categorizing, and delivering business and financial news, an advanced search and recommendation system can significantly enhance user engagement and satisfaction.\n",
        "\n",
        "4. **Scalable framework for NLP tasks:** A semantic search system powered by embeddings and LLMs (Large Language Models) serves as the foundation for several downstream tasks such as summarization, classification, and recommendations. This modular approach demonstrates technical expertise while ensuring extensibility.\n",
        "\n",
        "## Impact of Solving the Problem\n",
        "\n",
        "1. **Enhanced user experience:** By implementing a robust semantic search system, users can find content faster and with greater accuracy, improving overall satisfaction. Features like dynamic summaries and Q&A further enhance the interaction, offering value beyond basic search functionality.\n",
        "\n",
        "2. **Business Relevance:** For media companies, semantic search can revolutionize how users interact with their content platforms. It can lead to increased user retention, better personalization, and ultimately, higher revenue through improved content delivery.\n",
        "\n",
        "3. **Demonstration of core skills:** Building this system showcases expertise in several critical areas relevant to the Senior Data Scientist role, such as:\n",
        "    - NLP Techniques: Text preprocessing, embedding generation, and tokenization.\n",
        "    - Information Retrieval (IR): Efficient document filtering and ranking based on semantic relevance.\n",
        "    - Generative AI: Integration of LLMs for producing dynamic, human-like outputs.\n",
        "    - System Scalability: Design of a modular architecture that can be expanded to include classification, topic modeling, and more.\n",
        "\n",
        "## Proposed Tasks and Extensions\n",
        "\n",
        "The project begins with **Semantic Search** as the core functionality and expands into other related NLP tasks if time permits:\n",
        "\n",
        "1. **Core functionality: Semantic Search**\n",
        "    - Use sentence embeddings to encode article headlines and descriptions.\n",
        "    - Implement a nearest-neighbor search to find articles semantically related to user queries.\n",
        "\n",
        "2. **Extensions to demonstrate flexibility:**\n",
        "    - Question Answering (RAG): Filter relevant articles using embeddings and generate answers with GenAI.\n",
        "    - Summarization: Use GenAI to summarize search results dynamically.\n",
        "    - Classification: Group documents into predefined or new categories based on semantic embeddings.\n",
        "    - Topic Modeling: Apply techniques like clustering to identify latent topics within the dataset.\n",
        "    - Tagging: Classify news into different labels such as sentiment, language, style and covered topics.\n"
      ]
    },
    {
      "cell_type": "markdown",
      "metadata": {
        "id": "wBl1Az1o0TF0"
      },
      "source": [
        "# 3. Approach and Pipeline"
      ]
    },
    {
      "cell_type": "markdown",
      "metadata": {
        "id": "GJqFbz0a0TF2"
      },
      "source": [
        "## Approach\n",
        "\n",
        "The project aims to develop a robust **Semantic Search system** enhanced with **Generative AI**. The Semantic Search will leverage vector-based retrieval to find relevant documents based on the semantic meaning of queries. By incorporating GenAI, the system will enhance user interaction with capabilities like query-specific summaries and natural language responses.\n",
        "\n",
        "The pipeline will prioritize modularity and scalability, ensuring compatibility with future tasks like classification, summarization, and recommendations. While the core Semantic Search system will focus on generating embeddings and performing nearest-neighbor searches, tools like **LangChain** will help simplify processes like text splitting, metadata handling, and integration with generative models.\n",
        "\n"
      ]
    },
    {
      "cell_type": "markdown",
      "metadata": {
        "id": "_GzVK8ec0TF3"
      },
      "source": [
        "## Tools, Libraries, and Frameworks\n",
        "\n",
        "1. **Core Python Libraries:**\n",
        "    - NumPy and Pandas: For efficient data handling and manipulation.\n",
        "    - Matplotlib and Seaborn: For creating meaningful visualizations during EDA and analysis.\n",
        "\n",
        "2. **Natural Language Processing Tools:**\n",
        "    - LangChain: Utilized for managing document chunking, metadata assignment, and integration with vectorstores and LLMs.\n",
        "    - Hugging Face Transformers: To access state-of-the-art models for embedding generation (sentence-transformers for dense vector embeddings).\n",
        "\n",
        "3. **Semantic Search Engine:**\n",
        "    - FAISS (Facebook AI Similarity Search): To implement a fast and efficient vector search index. We will rely on the CPU implementation to suit the current hardware, ensuring scalability without requiring a GPU.\n",
        "\n",
        "4. **Generative AI Integration:**\n",
        "  - MistralAI's open-mistral-nemo: Selected for its free availability and lightweight requirements, as it operates efficiently on hardware with up to 16GB of GPU RAM, which aligns with the resources available in Google Colab.\n",
        "\n",
        "5. **Development and Environment:**\n",
        "    - Local development in Visual Studio Code with Python, focusing on CPU-based implementations.\n",
        "    - Google Colab as a fallback option for GPU-based experimentation or additional scalability testing.\n",
        "\n",
        "6. **Version Control and Documentation:**\n",
        "    - Git/GitHub: For version control and collaborative documentation. The notebook will contain markdown annotations for explanations and visualizations."
      ]
    },
    {
      "cell_type": "markdown",
      "metadata": {
        "id": "jsRqTTT10TF4"
      },
      "source": [
        "## Pipeline Details\n",
        "\n",
        "1. **Data Preprocessing and Splitting:**\n",
        "    - Minimal text cleaning:\n",
        "        - Remove duplicates and non-text artifacts, ensuring a consistent dataset.\n",
        "        - Maintain as much original text as possible to preserve semantic richness.\n",
        "          - Long documents will be split into smaller chunks using LangChain's RecursiveCharacterTextSplitter. This ensures compatibility with model input limitations and improves retrieval granularity.\n",
        "\n",
        "2. **Feature Engineering:**\n",
        "    - Generate embeddings for each text chunk using sentence-transformers.\n",
        "    - Attach metadata (e.g., category, headline, publication date) to embeddings for better filtering and query-specific results.\n",
        "    - Store embeddings and metadata in a vectorstore (FAISS / Chroma), chosen for its performance and seamless integration with LangChain.\n",
        "\n",
        "4. **Model Building:**\n",
        "    - **Semantic Search:**\n",
        "        - User queries are encoded as embeddings using the same model as the documents.\n",
        "        - Perform nearest-neighbor searches using the vectorstore, retrieving the most semantically relevant chunks.\n",
        "    - **Generative AI:**\n",
        "        - Integrate MistralAI to:\n",
        "            - Generate query-specific summaries of retrieved results.\n",
        "            - Provide enhanced responses by synthesizing information across retrieved documents.\n",
        "            - Make a topic modelling aplying clustering and GenAI capabilities.\n",
        "            - Tag each text with classes.\n",
        "\n",
        "5. **Evaluation:**\n",
        "    - Quantitative metrics: Precision@K, Recall@K, and Mean Average Precision (MAP) to measure retrieval quality.\n",
        "    - Qualitative analysis: Review the coherence and relevance of LLM-generated summaries and responses."
      ]
    },
    {
      "cell_type": "markdown",
      "metadata": {
        "id": "KmOx6NbW0TF7"
      },
      "source": [
        "# 4. Implementation"
      ]
    },
    {
      "cell_type": "markdown",
      "metadata": {
        "id": "7PxRx4fG-U_q"
      },
      "source": [
        "## a) Google Drive"
      ]
    },
    {
      "cell_type": "code",
      "execution_count": 1,
      "metadata": {
        "colab": {
          "base_uri": "https://localhost:8080/"
        },
        "id": "kW5j--IS-UVB",
        "outputId": "3ce5ebbe-002d-436c-884b-e2fab0b31656"
      },
      "outputs": [
        {
          "name": "stdout",
          "output_type": "stream",
          "text": [
            "Mounted at /content/drive\n",
            "Base path: /content/drive/My Drive/news_category\n"
          ]
        }
      ],
      "source": [
        "from google.colab import drive\n",
        "\n",
        "# Conectar Google Drive\n",
        "drive.mount('/content/drive')\n",
        "\n",
        "# Establecer el directorio donde guardarás tus archivos\n",
        "import os\n",
        "base_path = '/content/drive/My Drive/news_category'\n",
        "os.makedirs(base_path, exist_ok=True)\n",
        "print(f\"Base path: {base_path}\")\n"
      ]
    },
    {
      "cell_type": "markdown",
      "metadata": {
        "id": "CPymT0NMD1bR"
      },
      "source": [
        "## a) Instalations"
      ]
    },
    {
      "cell_type": "code",
      "execution_count": 27,
      "metadata": {
        "colab": {
          "base_uri": "https://localhost:8080/"
        },
        "id": "3Htep9SWTk3W",
        "outputId": "31762d4e-89d3-4f26-9369-ca597ea6c7c5"
      },
      "outputs": [
        {
          "name": "stdout",
          "output_type": "stream",
          "text": [
            "Collecting faiss-cpu\n",
            "  Downloading faiss_cpu-1.9.0.post1-cp311-cp311-manylinux_2_17_x86_64.manylinux2014_x86_64.whl.metadata (4.4 kB)\n",
            "Requirement already satisfied: numpy<3.0,>=1.25.0 in /usr/local/lib/python3.11/dist-packages (from faiss-cpu) (1.26.4)\n",
            "Requirement already satisfied: packaging in /usr/local/lib/python3.11/dist-packages (from faiss-cpu) (24.2)\n",
            "Downloading faiss_cpu-1.9.0.post1-cp311-cp311-manylinux_2_17_x86_64.manylinux2014_x86_64.whl (27.5 MB)\n",
            "\u001b[2K   \u001b[90m━━━━━━━━━━━━━━━━━━━━━━━━━━━━━━━━━━━━━━━━\u001b[0m \u001b[32m27.5/27.5 MB\u001b[0m \u001b[31m31.1 MB/s\u001b[0m eta \u001b[36m0:00:00\u001b[0m\n",
            "\u001b[?25hInstalling collected packages: faiss-cpu\n",
            "Successfully installed faiss-cpu-1.9.0.post1\n"
          ]
        }
      ],
      "source": [
        "!pip install faiss-cpu"
      ]
    },
    {
      "cell_type": "code",
      "execution_count": 29,
      "metadata": {
        "colab": {
          "base_uri": "https://localhost:8080/"
        },
        "id": "lnHscP9BTnpU",
        "outputId": "fc77170f-1c09-43d9-90d6-f16c7fb0b72a"
      },
      "outputs": [
        {
          "name": "stdout",
          "output_type": "stream",
          "text": [
            "\u001b[31mERROR: Could not find a version that satisfies the requirement faiss-gpu (from versions: none)\u001b[0m\u001b[31m\n",
            "\u001b[0m\u001b[31mERROR: No matching distribution found for faiss-gpu\u001b[0m\u001b[31m\n",
            "\u001b[0m"
          ]
        }
      ],
      "source": [
        "pip install faiss-gpu"
      ]
    },
    {
      "cell_type": "code",
      "execution_count": 2,
      "metadata": {
        "colab": {
          "base_uri": "https://localhost:8080/"
        },
        "id": "1C0FQjwjD816",
        "outputId": "32cfaa8c-35b2-48ad-ff88-05db4d6dac05"
      },
      "outputs": [
        {
          "name": "stdout",
          "output_type": "stream",
          "text": [
            "Requirement already satisfied: langchain in /usr/local/lib/python3.11/dist-packages (0.3.14)\n",
            "Requirement already satisfied: PyYAML>=5.3 in /usr/local/lib/python3.11/dist-packages (from langchain) (6.0.2)\n",
            "Requirement already satisfied: SQLAlchemy<3,>=1.4 in /usr/local/lib/python3.11/dist-packages (from langchain) (2.0.37)\n",
            "Requirement already satisfied: aiohttp<4.0.0,>=3.8.3 in /usr/local/lib/python3.11/dist-packages (from langchain) (3.11.11)\n",
            "Requirement already satisfied: langchain-core<0.4.0,>=0.3.29 in /usr/local/lib/python3.11/dist-packages (from langchain) (0.3.29)\n",
            "Requirement already satisfied: langchain-text-splitters<0.4.0,>=0.3.3 in /usr/local/lib/python3.11/dist-packages (from langchain) (0.3.5)\n",
            "Requirement already satisfied: langsmith<0.3,>=0.1.17 in /usr/local/lib/python3.11/dist-packages (from langchain) (0.2.10)\n",
            "Requirement already satisfied: numpy<2,>=1.22.4 in /usr/local/lib/python3.11/dist-packages (from langchain) (1.26.4)\n",
            "Requirement already satisfied: pydantic<3.0.0,>=2.7.4 in /usr/local/lib/python3.11/dist-packages (from langchain) (2.10.5)\n",
            "Requirement already satisfied: requests<3,>=2 in /usr/local/lib/python3.11/dist-packages (from langchain) (2.32.3)\n",
            "Requirement already satisfied: tenacity!=8.4.0,<10,>=8.1.0 in /usr/local/lib/python3.11/dist-packages (from langchain) (9.0.0)\n",
            "Requirement already satisfied: aiohappyeyeballs>=2.3.0 in /usr/local/lib/python3.11/dist-packages (from aiohttp<4.0.0,>=3.8.3->langchain) (2.4.4)\n",
            "Requirement already satisfied: aiosignal>=1.1.2 in /usr/local/lib/python3.11/dist-packages (from aiohttp<4.0.0,>=3.8.3->langchain) (1.3.2)\n",
            "Requirement already satisfied: attrs>=17.3.0 in /usr/local/lib/python3.11/dist-packages (from aiohttp<4.0.0,>=3.8.3->langchain) (24.3.0)\n",
            "Requirement already satisfied: frozenlist>=1.1.1 in /usr/local/lib/python3.11/dist-packages (from aiohttp<4.0.0,>=3.8.3->langchain) (1.5.0)\n",
            "Requirement already satisfied: multidict<7.0,>=4.5 in /usr/local/lib/python3.11/dist-packages (from aiohttp<4.0.0,>=3.8.3->langchain) (6.1.0)\n",
            "Requirement already satisfied: propcache>=0.2.0 in /usr/local/lib/python3.11/dist-packages (from aiohttp<4.0.0,>=3.8.3->langchain) (0.2.1)\n",
            "Requirement already satisfied: yarl<2.0,>=1.17.0 in /usr/local/lib/python3.11/dist-packages (from aiohttp<4.0.0,>=3.8.3->langchain) (1.18.3)\n",
            "Requirement already satisfied: jsonpatch<2.0,>=1.33 in /usr/local/lib/python3.11/dist-packages (from langchain-core<0.4.0,>=0.3.29->langchain) (1.33)\n",
            "Requirement already satisfied: packaging<25,>=23.2 in /usr/local/lib/python3.11/dist-packages (from langchain-core<0.4.0,>=0.3.29->langchain) (24.2)\n",
            "Requirement already satisfied: typing-extensions>=4.7 in /usr/local/lib/python3.11/dist-packages (from langchain-core<0.4.0,>=0.3.29->langchain) (4.12.2)\n",
            "Requirement already satisfied: httpx<1,>=0.23.0 in /usr/local/lib/python3.11/dist-packages (from langsmith<0.3,>=0.1.17->langchain) (0.28.1)\n",
            "Requirement already satisfied: orjson<4.0.0,>=3.9.14 in /usr/local/lib/python3.11/dist-packages (from langsmith<0.3,>=0.1.17->langchain) (3.10.14)\n",
            "Requirement already satisfied: requests-toolbelt<2.0.0,>=1.0.0 in /usr/local/lib/python3.11/dist-packages (from langsmith<0.3,>=0.1.17->langchain) (1.0.0)\n",
            "Requirement already satisfied: annotated-types>=0.6.0 in /usr/local/lib/python3.11/dist-packages (from pydantic<3.0.0,>=2.7.4->langchain) (0.7.0)\n",
            "Requirement already satisfied: pydantic-core==2.27.2 in /usr/local/lib/python3.11/dist-packages (from pydantic<3.0.0,>=2.7.4->langchain) (2.27.2)\n",
            "Requirement already satisfied: charset-normalizer<4,>=2 in /usr/local/lib/python3.11/dist-packages (from requests<3,>=2->langchain) (3.4.1)\n",
            "Requirement already satisfied: idna<4,>=2.5 in /usr/local/lib/python3.11/dist-packages (from requests<3,>=2->langchain) (3.10)\n",
            "Requirement already satisfied: urllib3<3,>=1.21.1 in /usr/local/lib/python3.11/dist-packages (from requests<3,>=2->langchain) (2.3.0)\n",
            "Requirement already satisfied: certifi>=2017.4.17 in /usr/local/lib/python3.11/dist-packages (from requests<3,>=2->langchain) (2024.12.14)\n",
            "Requirement already satisfied: greenlet!=0.4.17 in /usr/local/lib/python3.11/dist-packages (from SQLAlchemy<3,>=1.4->langchain) (3.1.1)\n",
            "Requirement already satisfied: anyio in /usr/local/lib/python3.11/dist-packages (from httpx<1,>=0.23.0->langsmith<0.3,>=0.1.17->langchain) (3.7.1)\n",
            "Requirement already satisfied: httpcore==1.* in /usr/local/lib/python3.11/dist-packages (from httpx<1,>=0.23.0->langsmith<0.3,>=0.1.17->langchain) (1.0.7)\n",
            "Requirement already satisfied: h11<0.15,>=0.13 in /usr/local/lib/python3.11/dist-packages (from httpcore==1.*->httpx<1,>=0.23.0->langsmith<0.3,>=0.1.17->langchain) (0.14.0)\n",
            "Requirement already satisfied: jsonpointer>=1.9 in /usr/local/lib/python3.11/dist-packages (from jsonpatch<2.0,>=1.33->langchain-core<0.4.0,>=0.3.29->langchain) (3.0.0)\n",
            "Requirement already satisfied: sniffio>=1.1 in /usr/local/lib/python3.11/dist-packages (from anyio->httpx<1,>=0.23.0->langsmith<0.3,>=0.1.17->langchain) (1.3.1)\n",
            "Requirement already satisfied: langchain-core in /usr/local/lib/python3.11/dist-packages (0.3.29)\n",
            "Requirement already satisfied: PyYAML>=5.3 in /usr/local/lib/python3.11/dist-packages (from langchain-core) (6.0.2)\n",
            "Requirement already satisfied: jsonpatch<2.0,>=1.33 in /usr/local/lib/python3.11/dist-packages (from langchain-core) (1.33)\n",
            "Requirement already satisfied: langsmith<0.3,>=0.1.125 in /usr/local/lib/python3.11/dist-packages (from langchain-core) (0.2.10)\n",
            "Requirement already satisfied: packaging<25,>=23.2 in /usr/local/lib/python3.11/dist-packages (from langchain-core) (24.2)\n",
            "Requirement already satisfied: pydantic<3.0.0,>=2.5.2 in /usr/local/lib/python3.11/dist-packages (from langchain-core) (2.10.5)\n",
            "Requirement already satisfied: tenacity!=8.4.0,<10.0.0,>=8.1.0 in /usr/local/lib/python3.11/dist-packages (from langchain-core) (9.0.0)\n",
            "Requirement already satisfied: typing-extensions>=4.7 in /usr/local/lib/python3.11/dist-packages (from langchain-core) (4.12.2)\n",
            "Requirement already satisfied: jsonpointer>=1.9 in /usr/local/lib/python3.11/dist-packages (from jsonpatch<2.0,>=1.33->langchain-core) (3.0.0)\n",
            "Requirement already satisfied: httpx<1,>=0.23.0 in /usr/local/lib/python3.11/dist-packages (from langsmith<0.3,>=0.1.125->langchain-core) (0.28.1)\n",
            "Requirement already satisfied: orjson<4.0.0,>=3.9.14 in /usr/local/lib/python3.11/dist-packages (from langsmith<0.3,>=0.1.125->langchain-core) (3.10.14)\n",
            "Requirement already satisfied: requests<3,>=2 in /usr/local/lib/python3.11/dist-packages (from langsmith<0.3,>=0.1.125->langchain-core) (2.32.3)\n",
            "Requirement already satisfied: requests-toolbelt<2.0.0,>=1.0.0 in /usr/local/lib/python3.11/dist-packages (from langsmith<0.3,>=0.1.125->langchain-core) (1.0.0)\n",
            "Requirement already satisfied: annotated-types>=0.6.0 in /usr/local/lib/python3.11/dist-packages (from pydantic<3.0.0,>=2.5.2->langchain-core) (0.7.0)\n",
            "Requirement already satisfied: pydantic-core==2.27.2 in /usr/local/lib/python3.11/dist-packages (from pydantic<3.0.0,>=2.5.2->langchain-core) (2.27.2)\n",
            "Requirement already satisfied: anyio in /usr/local/lib/python3.11/dist-packages (from httpx<1,>=0.23.0->langsmith<0.3,>=0.1.125->langchain-core) (3.7.1)\n",
            "Requirement already satisfied: certifi in /usr/local/lib/python3.11/dist-packages (from httpx<1,>=0.23.0->langsmith<0.3,>=0.1.125->langchain-core) (2024.12.14)\n",
            "Requirement already satisfied: httpcore==1.* in /usr/local/lib/python3.11/dist-packages (from httpx<1,>=0.23.0->langsmith<0.3,>=0.1.125->langchain-core) (1.0.7)\n",
            "Requirement already satisfied: idna in /usr/local/lib/python3.11/dist-packages (from httpx<1,>=0.23.0->langsmith<0.3,>=0.1.125->langchain-core) (3.10)\n",
            "Requirement already satisfied: h11<0.15,>=0.13 in /usr/local/lib/python3.11/dist-packages (from httpcore==1.*->httpx<1,>=0.23.0->langsmith<0.3,>=0.1.125->langchain-core) (0.14.0)\n",
            "Requirement already satisfied: charset-normalizer<4,>=2 in /usr/local/lib/python3.11/dist-packages (from requests<3,>=2->langsmith<0.3,>=0.1.125->langchain-core) (3.4.1)\n",
            "Requirement already satisfied: urllib3<3,>=1.21.1 in /usr/local/lib/python3.11/dist-packages (from requests<3,>=2->langsmith<0.3,>=0.1.125->langchain-core) (2.3.0)\n",
            "Requirement already satisfied: sniffio>=1.1 in /usr/local/lib/python3.11/dist-packages (from anyio->httpx<1,>=0.23.0->langsmith<0.3,>=0.1.125->langchain-core) (1.3.1)\n",
            "Collecting langchain-community\n",
            "  Downloading langchain_community-0.3.14-py3-none-any.whl.metadata (2.9 kB)\n",
            "Requirement already satisfied: PyYAML>=5.3 in /usr/local/lib/python3.11/dist-packages (from langchain-community) (6.0.2)\n",
            "Requirement already satisfied: SQLAlchemy<3,>=1.4 in /usr/local/lib/python3.11/dist-packages (from langchain-community) (2.0.37)\n",
            "Requirement already satisfied: aiohttp<4.0.0,>=3.8.3 in /usr/local/lib/python3.11/dist-packages (from langchain-community) (3.11.11)\n",
            "Collecting dataclasses-json<0.7,>=0.5.7 (from langchain-community)\n",
            "  Downloading dataclasses_json-0.6.7-py3-none-any.whl.metadata (25 kB)\n",
            "Collecting httpx-sse<0.5.0,>=0.4.0 (from langchain-community)\n",
            "  Downloading httpx_sse-0.4.0-py3-none-any.whl.metadata (9.0 kB)\n",
            "Requirement already satisfied: langchain<0.4.0,>=0.3.14 in /usr/local/lib/python3.11/dist-packages (from langchain-community) (0.3.14)\n",
            "Requirement already satisfied: langchain-core<0.4.0,>=0.3.29 in /usr/local/lib/python3.11/dist-packages (from langchain-community) (0.3.29)\n",
            "Requirement already satisfied: langsmith<0.3,>=0.1.125 in /usr/local/lib/python3.11/dist-packages (from langchain-community) (0.2.10)\n",
            "Requirement already satisfied: numpy<2,>=1.22.4 in /usr/local/lib/python3.11/dist-packages (from langchain-community) (1.26.4)\n",
            "Collecting pydantic-settings<3.0.0,>=2.4.0 (from langchain-community)\n",
            "  Downloading pydantic_settings-2.7.1-py3-none-any.whl.metadata (3.5 kB)\n",
            "Requirement already satisfied: requests<3,>=2 in /usr/local/lib/python3.11/dist-packages (from langchain-community) (2.32.3)\n",
            "Requirement already satisfied: tenacity!=8.4.0,<10,>=8.1.0 in /usr/local/lib/python3.11/dist-packages (from langchain-community) (9.0.0)\n",
            "Requirement already satisfied: aiohappyeyeballs>=2.3.0 in /usr/local/lib/python3.11/dist-packages (from aiohttp<4.0.0,>=3.8.3->langchain-community) (2.4.4)\n",
            "Requirement already satisfied: aiosignal>=1.1.2 in /usr/local/lib/python3.11/dist-packages (from aiohttp<4.0.0,>=3.8.3->langchain-community) (1.3.2)\n",
            "Requirement already satisfied: attrs>=17.3.0 in /usr/local/lib/python3.11/dist-packages (from aiohttp<4.0.0,>=3.8.3->langchain-community) (24.3.0)\n",
            "Requirement already satisfied: frozenlist>=1.1.1 in /usr/local/lib/python3.11/dist-packages (from aiohttp<4.0.0,>=3.8.3->langchain-community) (1.5.0)\n",
            "Requirement already satisfied: multidict<7.0,>=4.5 in /usr/local/lib/python3.11/dist-packages (from aiohttp<4.0.0,>=3.8.3->langchain-community) (6.1.0)\n",
            "Requirement already satisfied: propcache>=0.2.0 in /usr/local/lib/python3.11/dist-packages (from aiohttp<4.0.0,>=3.8.3->langchain-community) (0.2.1)\n",
            "Requirement already satisfied: yarl<2.0,>=1.17.0 in /usr/local/lib/python3.11/dist-packages (from aiohttp<4.0.0,>=3.8.3->langchain-community) (1.18.3)\n",
            "Collecting marshmallow<4.0.0,>=3.18.0 (from dataclasses-json<0.7,>=0.5.7->langchain-community)\n",
            "  Downloading marshmallow-3.25.1-py3-none-any.whl.metadata (7.3 kB)\n",
            "Collecting typing-inspect<1,>=0.4.0 (from dataclasses-json<0.7,>=0.5.7->langchain-community)\n",
            "  Downloading typing_inspect-0.9.0-py3-none-any.whl.metadata (1.5 kB)\n",
            "Requirement already satisfied: langchain-text-splitters<0.4.0,>=0.3.3 in /usr/local/lib/python3.11/dist-packages (from langchain<0.4.0,>=0.3.14->langchain-community) (0.3.5)\n",
            "Requirement already satisfied: pydantic<3.0.0,>=2.7.4 in /usr/local/lib/python3.11/dist-packages (from langchain<0.4.0,>=0.3.14->langchain-community) (2.10.5)\n",
            "Requirement already satisfied: jsonpatch<2.0,>=1.33 in /usr/local/lib/python3.11/dist-packages (from langchain-core<0.4.0,>=0.3.29->langchain-community) (1.33)\n",
            "Requirement already satisfied: packaging<25,>=23.2 in /usr/local/lib/python3.11/dist-packages (from langchain-core<0.4.0,>=0.3.29->langchain-community) (24.2)\n",
            "Requirement already satisfied: typing-extensions>=4.7 in /usr/local/lib/python3.11/dist-packages (from langchain-core<0.4.0,>=0.3.29->langchain-community) (4.12.2)\n",
            "Requirement already satisfied: httpx<1,>=0.23.0 in /usr/local/lib/python3.11/dist-packages (from langsmith<0.3,>=0.1.125->langchain-community) (0.28.1)\n",
            "Requirement already satisfied: orjson<4.0.0,>=3.9.14 in /usr/local/lib/python3.11/dist-packages (from langsmith<0.3,>=0.1.125->langchain-community) (3.10.14)\n",
            "Requirement already satisfied: requests-toolbelt<2.0.0,>=1.0.0 in /usr/local/lib/python3.11/dist-packages (from langsmith<0.3,>=0.1.125->langchain-community) (1.0.0)\n",
            "Collecting python-dotenv>=0.21.0 (from pydantic-settings<3.0.0,>=2.4.0->langchain-community)\n",
            "  Downloading python_dotenv-1.0.1-py3-none-any.whl.metadata (23 kB)\n",
            "Requirement already satisfied: charset-normalizer<4,>=2 in /usr/local/lib/python3.11/dist-packages (from requests<3,>=2->langchain-community) (3.4.1)\n",
            "Requirement already satisfied: idna<4,>=2.5 in /usr/local/lib/python3.11/dist-packages (from requests<3,>=2->langchain-community) (3.10)\n",
            "Requirement already satisfied: urllib3<3,>=1.21.1 in /usr/local/lib/python3.11/dist-packages (from requests<3,>=2->langchain-community) (2.3.0)\n",
            "Requirement already satisfied: certifi>=2017.4.17 in /usr/local/lib/python3.11/dist-packages (from requests<3,>=2->langchain-community) (2024.12.14)\n",
            "Requirement already satisfied: greenlet!=0.4.17 in /usr/local/lib/python3.11/dist-packages (from SQLAlchemy<3,>=1.4->langchain-community) (3.1.1)\n",
            "Requirement already satisfied: anyio in /usr/local/lib/python3.11/dist-packages (from httpx<1,>=0.23.0->langsmith<0.3,>=0.1.125->langchain-community) (3.7.1)\n",
            "Requirement already satisfied: httpcore==1.* in /usr/local/lib/python3.11/dist-packages (from httpx<1,>=0.23.0->langsmith<0.3,>=0.1.125->langchain-community) (1.0.7)\n",
            "Requirement already satisfied: h11<0.15,>=0.13 in /usr/local/lib/python3.11/dist-packages (from httpcore==1.*->httpx<1,>=0.23.0->langsmith<0.3,>=0.1.125->langchain-community) (0.14.0)\n",
            "Requirement already satisfied: jsonpointer>=1.9 in /usr/local/lib/python3.11/dist-packages (from jsonpatch<2.0,>=1.33->langchain-core<0.4.0,>=0.3.29->langchain-community) (3.0.0)\n",
            "Requirement already satisfied: annotated-types>=0.6.0 in /usr/local/lib/python3.11/dist-packages (from pydantic<3.0.0,>=2.7.4->langchain<0.4.0,>=0.3.14->langchain-community) (0.7.0)\n",
            "Requirement already satisfied: pydantic-core==2.27.2 in /usr/local/lib/python3.11/dist-packages (from pydantic<3.0.0,>=2.7.4->langchain<0.4.0,>=0.3.14->langchain-community) (2.27.2)\n",
            "Collecting mypy-extensions>=0.3.0 (from typing-inspect<1,>=0.4.0->dataclasses-json<0.7,>=0.5.7->langchain-community)\n",
            "  Downloading mypy_extensions-1.0.0-py3-none-any.whl.metadata (1.1 kB)\n",
            "Requirement already satisfied: sniffio>=1.1 in /usr/local/lib/python3.11/dist-packages (from anyio->httpx<1,>=0.23.0->langsmith<0.3,>=0.1.125->langchain-community) (1.3.1)\n",
            "Downloading langchain_community-0.3.14-py3-none-any.whl (2.5 MB)\n",
            "\u001b[2K   \u001b[90m━━━━━━━━━━━━━━━━━━━━━━━━━━━━━━━━━━━━━━━━\u001b[0m \u001b[32m2.5/2.5 MB\u001b[0m \u001b[31m48.3 MB/s\u001b[0m eta \u001b[36m0:00:00\u001b[0m\n",
            "\u001b[?25hDownloading dataclasses_json-0.6.7-py3-none-any.whl (28 kB)\n",
            "Downloading httpx_sse-0.4.0-py3-none-any.whl (7.8 kB)\n",
            "Downloading pydantic_settings-2.7.1-py3-none-any.whl (29 kB)\n",
            "Downloading marshmallow-3.25.1-py3-none-any.whl (49 kB)\n",
            "\u001b[2K   \u001b[90m━━━━━━━━━━━━━━━━━━━━━━━━━━━━━━━━━━━━━━━━\u001b[0m \u001b[32m49.6/49.6 kB\u001b[0m \u001b[31m5.2 MB/s\u001b[0m eta \u001b[36m0:00:00\u001b[0m\n",
            "\u001b[?25hDownloading python_dotenv-1.0.1-py3-none-any.whl (19 kB)\n",
            "Downloading typing_inspect-0.9.0-py3-none-any.whl (8.8 kB)\n",
            "Downloading mypy_extensions-1.0.0-py3-none-any.whl (4.7 kB)\n",
            "Installing collected packages: python-dotenv, mypy-extensions, marshmallow, httpx-sse, typing-inspect, pydantic-settings, dataclasses-json, langchain-community\n",
            "Successfully installed dataclasses-json-0.6.7 httpx-sse-0.4.0 langchain-community-0.3.14 marshmallow-3.25.1 mypy-extensions-1.0.0 pydantic-settings-2.7.1 python-dotenv-1.0.1 typing-inspect-0.9.0\n",
            "Collecting langchain-openai\n",
            "  Downloading langchain_openai-0.3.0-py3-none-any.whl.metadata (2.7 kB)\n",
            "Requirement already satisfied: langchain-core<0.4.0,>=0.3.29 in /usr/local/lib/python3.11/dist-packages (from langchain-openai) (0.3.29)\n",
            "Requirement already satisfied: openai<2.0.0,>=1.58.1 in /usr/local/lib/python3.11/dist-packages (from langchain-openai) (1.59.6)\n",
            "Collecting tiktoken<1,>=0.7 (from langchain-openai)\n",
            "  Downloading tiktoken-0.8.0-cp311-cp311-manylinux_2_17_x86_64.manylinux2014_x86_64.whl.metadata (6.6 kB)\n",
            "Requirement already satisfied: PyYAML>=5.3 in /usr/local/lib/python3.11/dist-packages (from langchain-core<0.4.0,>=0.3.29->langchain-openai) (6.0.2)\n",
            "Requirement already satisfied: jsonpatch<2.0,>=1.33 in /usr/local/lib/python3.11/dist-packages (from langchain-core<0.4.0,>=0.3.29->langchain-openai) (1.33)\n",
            "Requirement already satisfied: langsmith<0.3,>=0.1.125 in /usr/local/lib/python3.11/dist-packages (from langchain-core<0.4.0,>=0.3.29->langchain-openai) (0.2.10)\n",
            "Requirement already satisfied: packaging<25,>=23.2 in /usr/local/lib/python3.11/dist-packages (from langchain-core<0.4.0,>=0.3.29->langchain-openai) (24.2)\n",
            "Requirement already satisfied: pydantic<3.0.0,>=2.5.2 in /usr/local/lib/python3.11/dist-packages (from langchain-core<0.4.0,>=0.3.29->langchain-openai) (2.10.5)\n",
            "Requirement already satisfied: tenacity!=8.4.0,<10.0.0,>=8.1.0 in /usr/local/lib/python3.11/dist-packages (from langchain-core<0.4.0,>=0.3.29->langchain-openai) (9.0.0)\n",
            "Requirement already satisfied: typing-extensions>=4.7 in /usr/local/lib/python3.11/dist-packages (from langchain-core<0.4.0,>=0.3.29->langchain-openai) (4.12.2)\n",
            "Requirement already satisfied: anyio<5,>=3.5.0 in /usr/local/lib/python3.11/dist-packages (from openai<2.0.0,>=1.58.1->langchain-openai) (3.7.1)\n",
            "Requirement already satisfied: distro<2,>=1.7.0 in /usr/local/lib/python3.11/dist-packages (from openai<2.0.0,>=1.58.1->langchain-openai) (1.9.0)\n",
            "Requirement already satisfied: httpx<1,>=0.23.0 in /usr/local/lib/python3.11/dist-packages (from openai<2.0.0,>=1.58.1->langchain-openai) (0.28.1)\n",
            "Requirement already satisfied: jiter<1,>=0.4.0 in /usr/local/lib/python3.11/dist-packages (from openai<2.0.0,>=1.58.1->langchain-openai) (0.8.2)\n",
            "Requirement already satisfied: sniffio in /usr/local/lib/python3.11/dist-packages (from openai<2.0.0,>=1.58.1->langchain-openai) (1.3.1)\n",
            "Requirement already satisfied: tqdm>4 in /usr/local/lib/python3.11/dist-packages (from openai<2.0.0,>=1.58.1->langchain-openai) (4.67.1)\n",
            "Requirement already satisfied: regex>=2022.1.18 in /usr/local/lib/python3.11/dist-packages (from tiktoken<1,>=0.7->langchain-openai) (2024.11.6)\n",
            "Requirement already satisfied: requests>=2.26.0 in /usr/local/lib/python3.11/dist-packages (from tiktoken<1,>=0.7->langchain-openai) (2.32.3)\n",
            "Requirement already satisfied: idna>=2.8 in /usr/local/lib/python3.11/dist-packages (from anyio<5,>=3.5.0->openai<2.0.0,>=1.58.1->langchain-openai) (3.10)\n",
            "Requirement already satisfied: certifi in /usr/local/lib/python3.11/dist-packages (from httpx<1,>=0.23.0->openai<2.0.0,>=1.58.1->langchain-openai) (2024.12.14)\n",
            "Requirement already satisfied: httpcore==1.* in /usr/local/lib/python3.11/dist-packages (from httpx<1,>=0.23.0->openai<2.0.0,>=1.58.1->langchain-openai) (1.0.7)\n",
            "Requirement already satisfied: h11<0.15,>=0.13 in /usr/local/lib/python3.11/dist-packages (from httpcore==1.*->httpx<1,>=0.23.0->openai<2.0.0,>=1.58.1->langchain-openai) (0.14.0)\n",
            "Requirement already satisfied: jsonpointer>=1.9 in /usr/local/lib/python3.11/dist-packages (from jsonpatch<2.0,>=1.33->langchain-core<0.4.0,>=0.3.29->langchain-openai) (3.0.0)\n",
            "Requirement already satisfied: orjson<4.0.0,>=3.9.14 in /usr/local/lib/python3.11/dist-packages (from langsmith<0.3,>=0.1.125->langchain-core<0.4.0,>=0.3.29->langchain-openai) (3.10.14)\n",
            "Requirement already satisfied: requests-toolbelt<2.0.0,>=1.0.0 in /usr/local/lib/python3.11/dist-packages (from langsmith<0.3,>=0.1.125->langchain-core<0.4.0,>=0.3.29->langchain-openai) (1.0.0)\n",
            "Requirement already satisfied: annotated-types>=0.6.0 in /usr/local/lib/python3.11/dist-packages (from pydantic<3.0.0,>=2.5.2->langchain-core<0.4.0,>=0.3.29->langchain-openai) (0.7.0)\n",
            "Requirement already satisfied: pydantic-core==2.27.2 in /usr/local/lib/python3.11/dist-packages (from pydantic<3.0.0,>=2.5.2->langchain-core<0.4.0,>=0.3.29->langchain-openai) (2.27.2)\n",
            "Requirement already satisfied: charset-normalizer<4,>=2 in /usr/local/lib/python3.11/dist-packages (from requests>=2.26.0->tiktoken<1,>=0.7->langchain-openai) (3.4.1)\n",
            "Requirement already satisfied: urllib3<3,>=1.21.1 in /usr/local/lib/python3.11/dist-packages (from requests>=2.26.0->tiktoken<1,>=0.7->langchain-openai) (2.3.0)\n",
            "Downloading langchain_openai-0.3.0-py3-none-any.whl (54 kB)\n",
            "\u001b[2K   \u001b[90m━━━━━━━━━━━━━━━━━━━━━━━━━━━━━━━━━━━━━━━━\u001b[0m \u001b[32m54.2/54.2 kB\u001b[0m \u001b[31m3.5 MB/s\u001b[0m eta \u001b[36m0:00:00\u001b[0m\n",
            "\u001b[?25hDownloading tiktoken-0.8.0-cp311-cp311-manylinux_2_17_x86_64.manylinux2014_x86_64.whl (1.2 MB)\n",
            "\u001b[2K   \u001b[90m━━━━━━━━━━━━━━━━━━━━━━━━━━━━━━━━━━━━━━━━\u001b[0m \u001b[32m1.2/1.2 MB\u001b[0m \u001b[31m27.5 MB/s\u001b[0m eta \u001b[36m0:00:00\u001b[0m\n",
            "\u001b[?25hInstalling collected packages: tiktoken, langchain-openai\n",
            "Successfully installed langchain-openai-0.3.0 tiktoken-0.8.0\n",
            "Collecting langchain-huggingface\n",
            "  Downloading langchain_huggingface-0.1.2-py3-none-any.whl.metadata (1.3 kB)\n",
            "Requirement already satisfied: huggingface-hub>=0.23.0 in /usr/local/lib/python3.11/dist-packages (from langchain-huggingface) (0.27.1)\n",
            "Requirement already satisfied: langchain-core<0.4.0,>=0.3.15 in /usr/local/lib/python3.11/dist-packages (from langchain-huggingface) (0.3.29)\n",
            "Requirement already satisfied: sentence-transformers>=2.6.0 in /usr/local/lib/python3.11/dist-packages (from langchain-huggingface) (3.3.1)\n",
            "Requirement already satisfied: tokenizers>=0.19.1 in /usr/local/lib/python3.11/dist-packages (from langchain-huggingface) (0.21.0)\n",
            "Requirement already satisfied: transformers>=4.39.0 in /usr/local/lib/python3.11/dist-packages (from langchain-huggingface) (4.47.1)\n",
            "Requirement already satisfied: filelock in /usr/local/lib/python3.11/dist-packages (from huggingface-hub>=0.23.0->langchain-huggingface) (3.16.1)\n",
            "Requirement already satisfied: fsspec>=2023.5.0 in /usr/local/lib/python3.11/dist-packages (from huggingface-hub>=0.23.0->langchain-huggingface) (2024.10.0)\n",
            "Requirement already satisfied: packaging>=20.9 in /usr/local/lib/python3.11/dist-packages (from huggingface-hub>=0.23.0->langchain-huggingface) (24.2)\n",
            "Requirement already satisfied: pyyaml>=5.1 in /usr/local/lib/python3.11/dist-packages (from huggingface-hub>=0.23.0->langchain-huggingface) (6.0.2)\n",
            "Requirement already satisfied: requests in /usr/local/lib/python3.11/dist-packages (from huggingface-hub>=0.23.0->langchain-huggingface) (2.32.3)\n",
            "Requirement already satisfied: tqdm>=4.42.1 in /usr/local/lib/python3.11/dist-packages (from huggingface-hub>=0.23.0->langchain-huggingface) (4.67.1)\n",
            "Requirement already satisfied: typing-extensions>=3.7.4.3 in /usr/local/lib/python3.11/dist-packages (from huggingface-hub>=0.23.0->langchain-huggingface) (4.12.2)\n",
            "Requirement already satisfied: jsonpatch<2.0,>=1.33 in /usr/local/lib/python3.11/dist-packages (from langchain-core<0.4.0,>=0.3.15->langchain-huggingface) (1.33)\n",
            "Requirement already satisfied: langsmith<0.3,>=0.1.125 in /usr/local/lib/python3.11/dist-packages (from langchain-core<0.4.0,>=0.3.15->langchain-huggingface) (0.2.10)\n",
            "Requirement already satisfied: pydantic<3.0.0,>=2.5.2 in /usr/local/lib/python3.11/dist-packages (from langchain-core<0.4.0,>=0.3.15->langchain-huggingface) (2.10.5)\n",
            "Requirement already satisfied: tenacity!=8.4.0,<10.0.0,>=8.1.0 in /usr/local/lib/python3.11/dist-packages (from langchain-core<0.4.0,>=0.3.15->langchain-huggingface) (9.0.0)\n",
            "Requirement already satisfied: torch>=1.11.0 in /usr/local/lib/python3.11/dist-packages (from sentence-transformers>=2.6.0->langchain-huggingface) (2.5.1+cu121)\n",
            "Requirement already satisfied: scikit-learn in /usr/local/lib/python3.11/dist-packages (from sentence-transformers>=2.6.0->langchain-huggingface) (1.6.0)\n",
            "Requirement already satisfied: scipy in /usr/local/lib/python3.11/dist-packages (from sentence-transformers>=2.6.0->langchain-huggingface) (1.13.1)\n",
            "Requirement already satisfied: Pillow in /usr/local/lib/python3.11/dist-packages (from sentence-transformers>=2.6.0->langchain-huggingface) (11.1.0)\n",
            "Requirement already satisfied: numpy>=1.17 in /usr/local/lib/python3.11/dist-packages (from transformers>=4.39.0->langchain-huggingface) (1.26.4)\n",
            "Requirement already satisfied: regex!=2019.12.17 in /usr/local/lib/python3.11/dist-packages (from transformers>=4.39.0->langchain-huggingface) (2024.11.6)\n",
            "Requirement already satisfied: safetensors>=0.4.1 in /usr/local/lib/python3.11/dist-packages (from transformers>=4.39.0->langchain-huggingface) (0.5.2)\n",
            "Requirement already satisfied: jsonpointer>=1.9 in /usr/local/lib/python3.11/dist-packages (from jsonpatch<2.0,>=1.33->langchain-core<0.4.0,>=0.3.15->langchain-huggingface) (3.0.0)\n",
            "Requirement already satisfied: httpx<1,>=0.23.0 in /usr/local/lib/python3.11/dist-packages (from langsmith<0.3,>=0.1.125->langchain-core<0.4.0,>=0.3.15->langchain-huggingface) (0.28.1)\n",
            "Requirement already satisfied: orjson<4.0.0,>=3.9.14 in /usr/local/lib/python3.11/dist-packages (from langsmith<0.3,>=0.1.125->langchain-core<0.4.0,>=0.3.15->langchain-huggingface) (3.10.14)\n",
            "Requirement already satisfied: requests-toolbelt<2.0.0,>=1.0.0 in /usr/local/lib/python3.11/dist-packages (from langsmith<0.3,>=0.1.125->langchain-core<0.4.0,>=0.3.15->langchain-huggingface) (1.0.0)\n",
            "Requirement already satisfied: annotated-types>=0.6.0 in /usr/local/lib/python3.11/dist-packages (from pydantic<3.0.0,>=2.5.2->langchain-core<0.4.0,>=0.3.15->langchain-huggingface) (0.7.0)\n",
            "Requirement already satisfied: pydantic-core==2.27.2 in /usr/local/lib/python3.11/dist-packages (from pydantic<3.0.0,>=2.5.2->langchain-core<0.4.0,>=0.3.15->langchain-huggingface) (2.27.2)\n",
            "Requirement already satisfied: charset-normalizer<4,>=2 in /usr/local/lib/python3.11/dist-packages (from requests->huggingface-hub>=0.23.0->langchain-huggingface) (3.4.1)\n",
            "Requirement already satisfied: idna<4,>=2.5 in /usr/local/lib/python3.11/dist-packages (from requests->huggingface-hub>=0.23.0->langchain-huggingface) (3.10)\n",
            "Requirement already satisfied: urllib3<3,>=1.21.1 in /usr/local/lib/python3.11/dist-packages (from requests->huggingface-hub>=0.23.0->langchain-huggingface) (2.3.0)\n",
            "Requirement already satisfied: certifi>=2017.4.17 in /usr/local/lib/python3.11/dist-packages (from requests->huggingface-hub>=0.23.0->langchain-huggingface) (2024.12.14)\n",
            "Requirement already satisfied: networkx in /usr/local/lib/python3.11/dist-packages (from torch>=1.11.0->sentence-transformers>=2.6.0->langchain-huggingface) (3.4.2)\n",
            "Requirement already satisfied: jinja2 in /usr/local/lib/python3.11/dist-packages (from torch>=1.11.0->sentence-transformers>=2.6.0->langchain-huggingface) (3.1.5)\n",
            "Requirement already satisfied: nvidia-cuda-nvrtc-cu12==12.1.105 in /usr/local/lib/python3.11/dist-packages (from torch>=1.11.0->sentence-transformers>=2.6.0->langchain-huggingface) (12.1.105)\n",
            "Requirement already satisfied: nvidia-cuda-runtime-cu12==12.1.105 in /usr/local/lib/python3.11/dist-packages (from torch>=1.11.0->sentence-transformers>=2.6.0->langchain-huggingface) (12.1.105)\n",
            "Requirement already satisfied: nvidia-cuda-cupti-cu12==12.1.105 in /usr/local/lib/python3.11/dist-packages (from torch>=1.11.0->sentence-transformers>=2.6.0->langchain-huggingface) (12.1.105)\n",
            "Requirement already satisfied: nvidia-cudnn-cu12==9.1.0.70 in /usr/local/lib/python3.11/dist-packages (from torch>=1.11.0->sentence-transformers>=2.6.0->langchain-huggingface) (9.1.0.70)\n",
            "Requirement already satisfied: nvidia-cublas-cu12==12.1.3.1 in /usr/local/lib/python3.11/dist-packages (from torch>=1.11.0->sentence-transformers>=2.6.0->langchain-huggingface) (12.1.3.1)\n",
            "Requirement already satisfied: nvidia-cufft-cu12==11.0.2.54 in /usr/local/lib/python3.11/dist-packages (from torch>=1.11.0->sentence-transformers>=2.6.0->langchain-huggingface) (11.0.2.54)\n",
            "Requirement already satisfied: nvidia-curand-cu12==10.3.2.106 in /usr/local/lib/python3.11/dist-packages (from torch>=1.11.0->sentence-transformers>=2.6.0->langchain-huggingface) (10.3.2.106)\n",
            "Requirement already satisfied: nvidia-cusolver-cu12==11.4.5.107 in /usr/local/lib/python3.11/dist-packages (from torch>=1.11.0->sentence-transformers>=2.6.0->langchain-huggingface) (11.4.5.107)\n",
            "Requirement already satisfied: nvidia-cusparse-cu12==12.1.0.106 in /usr/local/lib/python3.11/dist-packages (from torch>=1.11.0->sentence-transformers>=2.6.0->langchain-huggingface) (12.1.0.106)\n",
            "Requirement already satisfied: nvidia-nccl-cu12==2.21.5 in /usr/local/lib/python3.11/dist-packages (from torch>=1.11.0->sentence-transformers>=2.6.0->langchain-huggingface) (2.21.5)\n",
            "Requirement already satisfied: nvidia-nvtx-cu12==12.1.105 in /usr/local/lib/python3.11/dist-packages (from torch>=1.11.0->sentence-transformers>=2.6.0->langchain-huggingface) (12.1.105)\n",
            "Requirement already satisfied: triton==3.1.0 in /usr/local/lib/python3.11/dist-packages (from torch>=1.11.0->sentence-transformers>=2.6.0->langchain-huggingface) (3.1.0)\n",
            "Requirement already satisfied: sympy==1.13.1 in /usr/local/lib/python3.11/dist-packages (from torch>=1.11.0->sentence-transformers>=2.6.0->langchain-huggingface) (1.13.1)\n",
            "Requirement already satisfied: nvidia-nvjitlink-cu12 in /usr/local/lib/python3.11/dist-packages (from nvidia-cusolver-cu12==11.4.5.107->torch>=1.11.0->sentence-transformers>=2.6.0->langchain-huggingface) (12.6.85)\n",
            "Requirement already satisfied: mpmath<1.4,>=1.1.0 in /usr/local/lib/python3.11/dist-packages (from sympy==1.13.1->torch>=1.11.0->sentence-transformers>=2.6.0->langchain-huggingface) (1.3.0)\n",
            "Requirement already satisfied: joblib>=1.2.0 in /usr/local/lib/python3.11/dist-packages (from scikit-learn->sentence-transformers>=2.6.0->langchain-huggingface) (1.4.2)\n",
            "Requirement already satisfied: threadpoolctl>=3.1.0 in /usr/local/lib/python3.11/dist-packages (from scikit-learn->sentence-transformers>=2.6.0->langchain-huggingface) (3.5.0)\n",
            "Requirement already satisfied: anyio in /usr/local/lib/python3.11/dist-packages (from httpx<1,>=0.23.0->langsmith<0.3,>=0.1.125->langchain-core<0.4.0,>=0.3.15->langchain-huggingface) (3.7.1)\n",
            "Requirement already satisfied: httpcore==1.* in /usr/local/lib/python3.11/dist-packages (from httpx<1,>=0.23.0->langsmith<0.3,>=0.1.125->langchain-core<0.4.0,>=0.3.15->langchain-huggingface) (1.0.7)\n",
            "Requirement already satisfied: h11<0.15,>=0.13 in /usr/local/lib/python3.11/dist-packages (from httpcore==1.*->httpx<1,>=0.23.0->langsmith<0.3,>=0.1.125->langchain-core<0.4.0,>=0.3.15->langchain-huggingface) (0.14.0)\n",
            "Requirement already satisfied: MarkupSafe>=2.0 in /usr/local/lib/python3.11/dist-packages (from jinja2->torch>=1.11.0->sentence-transformers>=2.6.0->langchain-huggingface) (3.0.2)\n",
            "Requirement already satisfied: sniffio>=1.1 in /usr/local/lib/python3.11/dist-packages (from anyio->httpx<1,>=0.23.0->langsmith<0.3,>=0.1.125->langchain-core<0.4.0,>=0.3.15->langchain-huggingface) (1.3.1)\n",
            "Downloading langchain_huggingface-0.1.2-py3-none-any.whl (21 kB)\n",
            "Installing collected packages: langchain-huggingface\n",
            "Successfully installed langchain-huggingface-0.1.2\n",
            "\u001b[31mERROR: Could not find a version that satisfies the requirement faiss-gpu (from versions: none)\u001b[0m\u001b[31m\n",
            "\u001b[0m\u001b[31mERROR: No matching distribution found for faiss-gpu\u001b[0m\u001b[31m\n",
            "\u001b[0m"
          ]
        }
      ],
      "source": [
        "! pip install langchain\n",
        "! pip install langchain-core\n",
        "! pip install langchain-community\n",
        "! pip install langchain-openai\n",
        "! pip install langchain-huggingface\n",
        "! pip install faiss-gpu\n",
        "! pip install -qU langchain-mistralai"
      ]
    },
    {
      "cell_type": "markdown",
      "metadata": {
        "id": "trTT5oHi0TF8"
      },
      "source": [
        "## b) Imports"
      ]
    },
    {
      "cell_type": "code",
      "execution_count": 3,
      "metadata": {
        "id": "RqX4SjY30TF8"
      },
      "outputs": [],
      "source": [
        "import json\n",
        "import os\n",
        "import pickle\n",
        "import re\n",
        "import string\n",
        "import time\n",
        "\n",
        "\n",
        "import matplotlib.pyplot as plt\n",
        "import numpy as np\n",
        "import pandas as pd\n",
        "from dotenv import load_dotenv\n",
        "from pydantic import BaseModel, Field\n",
        "from sklearn.cluster import KMeans, MiniBatchKMeans\n",
        "from sklearn.metrics import homogeneity_score, precision_score, recall_score, silhouette_score\n",
        "\n",
        "import tiktoken\n",
        "from langchain.chains import RetrievalQA, create_retrieval_chain\n",
        "from langchain.chains.combine_documents import create_stuff_documents_chain\n",
        "from langchain.document_loaders import JSONLoader\n",
        "from langchain.llms import OpenAI\n",
        "from langchain.text_splitter import RecursiveCharacterTextSplitter\n",
        "from langchain.vectorstores import FAISS\n",
        "from langchain_core.documents import Document\n",
        "from langchain_core.output_parsers import StrOutputParser\n",
        "from langchain_core.prompts import ChatPromptTemplate\n",
        "from langchain_core.runnables import RunnablePassthrough\n",
        "from langchain_huggingface import HuggingFaceEmbeddings\n",
        "from langchain_mistralai import ChatMistralAI\n",
        "from langchain_openai import ChatOpenAI, OpenAIEmbeddings\n"
      ]
    },
    {
      "cell_type": "markdown",
      "metadata": {
        "id": "hHFSbTSV0TF-"
      },
      "source": [
        "## b) OpenAI API Key"
      ]
    },
    {
      "cell_type": "code",
      "execution_count": 4,
      "metadata": {
        "colab": {
          "base_uri": "https://localhost:8080/"
        },
        "id": "RKcymP7R0TF_",
        "outputId": "54e3a480-cae4-43ab-afb4-1b0c9ade170e"
      },
      "outputs": [
        {
          "name": "stdout",
          "output_type": "stream",
          "text": [
            "OpenAI API Key has been loaded successfully.\n"
          ]
        }
      ],
      "source": [
        "# Configure the OpenAI API key directly\n",
        "os.environ[\"OPENAI_API_KEY\"] = \"XXX\"\n",
        "\n",
        "# Verify if the key was set correctly\n",
        "api_key = os.getenv(\"OPENAI_API_KEY\")\n",
        "\n",
        "if api_key:\n",
        "    print(\"OpenAI API Key has been loaded successfully.\")\n",
        "else:\n",
        "    print(\"Error: OpenAI API Key is not set in the environment.\")"
      ]
    },
    {
      "cell_type": "markdown",
      "metadata": {
        "id": "mo2T7qlsJ17b"
      },
      "source": [
        "## c) MistralAI API Key"
      ]
    },
    {
      "cell_type": "code",
      "execution_count": 5,
      "metadata": {
        "colab": {
          "base_uri": "https://localhost:8080/"
        },
        "id": "vCHI-5AkJ8sy",
        "outputId": "d6715560-d6b3-4a85-c032-533107602fa2"
      },
      "outputs": [
        {
          "name": "stdout",
          "output_type": "stream",
          "text": [
            "MistralAI API Key has been loaded successfully.\n"
          ]
        }
      ],
      "source": [
        "# Configuring the OpenAI API key directly\n",
        "os.environ[\"MISTRAL_API_KEY\"] = \"XXX\"\n",
        "\n",
        "# Verify if the key was set correctly\n",
        "api_key = os.getenv(\"MISTRAL_API_KEY\")\n",
        "\n",
        "if api_key:\n",
        "    print(\"MistralAI API Key has been loaded successfully.\")\n",
        "else:\n",
        "    print(\"Error: MistralAI API Key is not set in the environment.\")"
      ]
    },
    {
      "cell_type": "markdown",
      "metadata": {
        "id": "_kC4jNNU0TGB"
      },
      "source": [
        "## 4.1. Load the dataset"
      ]
    },
    {
      "cell_type": "code",
      "execution_count": 6,
      "metadata": {
        "colab": {
          "base_uri": "https://localhost:8080/"
        },
        "id": "amOSbtMV0TGB",
        "outputId": "820a4506-ba28-4958-a410-e1fa93876c4b"
      },
      "outputs": [
        {
          "name": "stdout",
          "output_type": "stream",
          "text": [
            "/content\n"
          ]
        }
      ],
      "source": [
        "# Verify current directory\n",
        "print(os.getcwd())"
      ]
    },
    {
      "cell_type": "code",
      "execution_count": 7,
      "metadata": {
        "id": "2HYCK5f80TGC"
      },
      "outputs": [],
      "source": [
        "# Loading the dataset\n",
        "file_path = \"/content/drive/MyDrive/Colab Notebooks/news_category/data/news_category/News_Category_Dataset_v3.json\"\n",
        "\n",
        "# Reading the JSON file into a DataFrame\n",
        "with open(file_path, 'r') as file:\n",
        "    data = [json.loads(line) for line in file]\n",
        "\n",
        "df = pd.DataFrame(data)"
      ]
    },
    {
      "cell_type": "code",
      "execution_count": 8,
      "metadata": {
        "colab": {
          "base_uri": "https://localhost:8080/",
          "height": 224
        },
        "id": "Irf37i3D0TGC",
        "outputId": "4863fb06-7e74-49f0-95b9-ae0eec20a42b"
      },
      "outputs": [
        {
          "name": "stdout",
          "output_type": "stream",
          "text": [
            "Dataset preview:\n"
          ]
        },
        {
          "data": {
            "application/vnd.google.colaboratory.intrinsic+json": {
              "type": "dataframe",
              "variable_name": "df"
            },
            "text/html": [
              "\n",
              "  <div id=\"df-1d6aac4d-7460-4978-86a6-0f773d31adaf\" class=\"colab-df-container\">\n",
              "    <div>\n",
              "<style scoped>\n",
              "    .dataframe tbody tr th:only-of-type {\n",
              "        vertical-align: middle;\n",
              "    }\n",
              "\n",
              "    .dataframe tbody tr th {\n",
              "        vertical-align: top;\n",
              "    }\n",
              "\n",
              "    .dataframe thead th {\n",
              "        text-align: right;\n",
              "    }\n",
              "</style>\n",
              "<table border=\"1\" class=\"dataframe\">\n",
              "  <thead>\n",
              "    <tr style=\"text-align: right;\">\n",
              "      <th></th>\n",
              "      <th>link</th>\n",
              "      <th>headline</th>\n",
              "      <th>category</th>\n",
              "      <th>short_description</th>\n",
              "      <th>authors</th>\n",
              "      <th>date</th>\n",
              "    </tr>\n",
              "  </thead>\n",
              "  <tbody>\n",
              "    <tr>\n",
              "      <th>0</th>\n",
              "      <td>https://www.huffpost.com/entry/covid-boosters-...</td>\n",
              "      <td>Over 4 Million Americans Roll Up Sleeves For O...</td>\n",
              "      <td>U.S. NEWS</td>\n",
              "      <td>Health experts said it is too early to predict...</td>\n",
              "      <td>Carla K. Johnson, AP</td>\n",
              "      <td>2022-09-23</td>\n",
              "    </tr>\n",
              "    <tr>\n",
              "      <th>1</th>\n",
              "      <td>https://www.huffpost.com/entry/american-airlin...</td>\n",
              "      <td>American Airlines Flyer Charged, Banned For Li...</td>\n",
              "      <td>U.S. NEWS</td>\n",
              "      <td>He was subdued by passengers and crew when he ...</td>\n",
              "      <td>Mary Papenfuss</td>\n",
              "      <td>2022-09-23</td>\n",
              "    </tr>\n",
              "    <tr>\n",
              "      <th>2</th>\n",
              "      <td>https://www.huffpost.com/entry/funniest-tweets...</td>\n",
              "      <td>23 Of The Funniest Tweets About Cats And Dogs ...</td>\n",
              "      <td>COMEDY</td>\n",
              "      <td>\"Until you have a dog you don't understand wha...</td>\n",
              "      <td>Elyse Wanshel</td>\n",
              "      <td>2022-09-23</td>\n",
              "    </tr>\n",
              "    <tr>\n",
              "      <th>3</th>\n",
              "      <td>https://www.huffpost.com/entry/funniest-parent...</td>\n",
              "      <td>The Funniest Tweets From Parents This Week (Se...</td>\n",
              "      <td>PARENTING</td>\n",
              "      <td>\"Accidentally put grown-up toothpaste on my to...</td>\n",
              "      <td>Caroline Bologna</td>\n",
              "      <td>2022-09-23</td>\n",
              "    </tr>\n",
              "    <tr>\n",
              "      <th>4</th>\n",
              "      <td>https://www.huffpost.com/entry/amy-cooper-lose...</td>\n",
              "      <td>Woman Who Called Cops On Black Bird-Watcher Lo...</td>\n",
              "      <td>U.S. NEWS</td>\n",
              "      <td>Amy Cooper accused investment firm Franklin Te...</td>\n",
              "      <td>Nina Golgowski</td>\n",
              "      <td>2022-09-22</td>\n",
              "    </tr>\n",
              "  </tbody>\n",
              "</table>\n",
              "</div>\n",
              "    <div class=\"colab-df-buttons\">\n",
              "\n",
              "  <div class=\"colab-df-container\">\n",
              "    <button class=\"colab-df-convert\" onclick=\"convertToInteractive('df-1d6aac4d-7460-4978-86a6-0f773d31adaf')\"\n",
              "            title=\"Convert this dataframe to an interactive table.\"\n",
              "            style=\"display:none;\">\n",
              "\n",
              "  <svg xmlns=\"http://www.w3.org/2000/svg\" height=\"24px\" viewBox=\"0 -960 960 960\">\n",
              "    <path d=\"M120-120v-720h720v720H120Zm60-500h600v-160H180v160Zm220 220h160v-160H400v160Zm0 220h160v-160H400v160ZM180-400h160v-160H180v160Zm440 0h160v-160H620v160ZM180-180h160v-160H180v160Zm440 0h160v-160H620v160Z\"/>\n",
              "  </svg>\n",
              "    </button>\n",
              "\n",
              "  <style>\n",
              "    .colab-df-container {\n",
              "      display:flex;\n",
              "      gap: 12px;\n",
              "    }\n",
              "\n",
              "    .colab-df-convert {\n",
              "      background-color: #E8F0FE;\n",
              "      border: none;\n",
              "      border-radius: 50%;\n",
              "      cursor: pointer;\n",
              "      display: none;\n",
              "      fill: #1967D2;\n",
              "      height: 32px;\n",
              "      padding: 0 0 0 0;\n",
              "      width: 32px;\n",
              "    }\n",
              "\n",
              "    .colab-df-convert:hover {\n",
              "      background-color: #E2EBFA;\n",
              "      box-shadow: 0px 1px 2px rgba(60, 64, 67, 0.3), 0px 1px 3px 1px rgba(60, 64, 67, 0.15);\n",
              "      fill: #174EA6;\n",
              "    }\n",
              "\n",
              "    .colab-df-buttons div {\n",
              "      margin-bottom: 4px;\n",
              "    }\n",
              "\n",
              "    [theme=dark] .colab-df-convert {\n",
              "      background-color: #3B4455;\n",
              "      fill: #D2E3FC;\n",
              "    }\n",
              "\n",
              "    [theme=dark] .colab-df-convert:hover {\n",
              "      background-color: #434B5C;\n",
              "      box-shadow: 0px 1px 3px 1px rgba(0, 0, 0, 0.15);\n",
              "      filter: drop-shadow(0px 1px 2px rgba(0, 0, 0, 0.3));\n",
              "      fill: #FFFFFF;\n",
              "    }\n",
              "  </style>\n",
              "\n",
              "    <script>\n",
              "      const buttonEl =\n",
              "        document.querySelector('#df-1d6aac4d-7460-4978-86a6-0f773d31adaf button.colab-df-convert');\n",
              "      buttonEl.style.display =\n",
              "        google.colab.kernel.accessAllowed ? 'block' : 'none';\n",
              "\n",
              "      async function convertToInteractive(key) {\n",
              "        const element = document.querySelector('#df-1d6aac4d-7460-4978-86a6-0f773d31adaf');\n",
              "        const dataTable =\n",
              "          await google.colab.kernel.invokeFunction('convertToInteractive',\n",
              "                                                    [key], {});\n",
              "        if (!dataTable) return;\n",
              "\n",
              "        const docLinkHtml = 'Like what you see? Visit the ' +\n",
              "          '<a target=\"_blank\" href=https://colab.research.google.com/notebooks/data_table.ipynb>data table notebook</a>'\n",
              "          + ' to learn more about interactive tables.';\n",
              "        element.innerHTML = '';\n",
              "        dataTable['output_type'] = 'display_data';\n",
              "        await google.colab.output.renderOutput(dataTable, element);\n",
              "        const docLink = document.createElement('div');\n",
              "        docLink.innerHTML = docLinkHtml;\n",
              "        element.appendChild(docLink);\n",
              "      }\n",
              "    </script>\n",
              "  </div>\n",
              "\n",
              "\n",
              "<div id=\"df-8fd580e9-0660-4364-bb12-2ab8005601c2\">\n",
              "  <button class=\"colab-df-quickchart\" onclick=\"quickchart('df-8fd580e9-0660-4364-bb12-2ab8005601c2')\"\n",
              "            title=\"Suggest charts\"\n",
              "            style=\"display:none;\">\n",
              "\n",
              "<svg xmlns=\"http://www.w3.org/2000/svg\" height=\"24px\"viewBox=\"0 0 24 24\"\n",
              "     width=\"24px\">\n",
              "    <g>\n",
              "        <path d=\"M19 3H5c-1.1 0-2 .9-2 2v14c0 1.1.9 2 2 2h14c1.1 0 2-.9 2-2V5c0-1.1-.9-2-2-2zM9 17H7v-7h2v7zm4 0h-2V7h2v10zm4 0h-2v-4h2v4z\"/>\n",
              "    </g>\n",
              "</svg>\n",
              "  </button>\n",
              "\n",
              "<style>\n",
              "  .colab-df-quickchart {\n",
              "      --bg-color: #E8F0FE;\n",
              "      --fill-color: #1967D2;\n",
              "      --hover-bg-color: #E2EBFA;\n",
              "      --hover-fill-color: #174EA6;\n",
              "      --disabled-fill-color: #AAA;\n",
              "      --disabled-bg-color: #DDD;\n",
              "  }\n",
              "\n",
              "  [theme=dark] .colab-df-quickchart {\n",
              "      --bg-color: #3B4455;\n",
              "      --fill-color: #D2E3FC;\n",
              "      --hover-bg-color: #434B5C;\n",
              "      --hover-fill-color: #FFFFFF;\n",
              "      --disabled-bg-color: #3B4455;\n",
              "      --disabled-fill-color: #666;\n",
              "  }\n",
              "\n",
              "  .colab-df-quickchart {\n",
              "    background-color: var(--bg-color);\n",
              "    border: none;\n",
              "    border-radius: 50%;\n",
              "    cursor: pointer;\n",
              "    display: none;\n",
              "    fill: var(--fill-color);\n",
              "    height: 32px;\n",
              "    padding: 0;\n",
              "    width: 32px;\n",
              "  }\n",
              "\n",
              "  .colab-df-quickchart:hover {\n",
              "    background-color: var(--hover-bg-color);\n",
              "    box-shadow: 0 1px 2px rgba(60, 64, 67, 0.3), 0 1px 3px 1px rgba(60, 64, 67, 0.15);\n",
              "    fill: var(--button-hover-fill-color);\n",
              "  }\n",
              "\n",
              "  .colab-df-quickchart-complete:disabled,\n",
              "  .colab-df-quickchart-complete:disabled:hover {\n",
              "    background-color: var(--disabled-bg-color);\n",
              "    fill: var(--disabled-fill-color);\n",
              "    box-shadow: none;\n",
              "  }\n",
              "\n",
              "  .colab-df-spinner {\n",
              "    border: 2px solid var(--fill-color);\n",
              "    border-color: transparent;\n",
              "    border-bottom-color: var(--fill-color);\n",
              "    animation:\n",
              "      spin 1s steps(1) infinite;\n",
              "  }\n",
              "\n",
              "  @keyframes spin {\n",
              "    0% {\n",
              "      border-color: transparent;\n",
              "      border-bottom-color: var(--fill-color);\n",
              "      border-left-color: var(--fill-color);\n",
              "    }\n",
              "    20% {\n",
              "      border-color: transparent;\n",
              "      border-left-color: var(--fill-color);\n",
              "      border-top-color: var(--fill-color);\n",
              "    }\n",
              "    30% {\n",
              "      border-color: transparent;\n",
              "      border-left-color: var(--fill-color);\n",
              "      border-top-color: var(--fill-color);\n",
              "      border-right-color: var(--fill-color);\n",
              "    }\n",
              "    40% {\n",
              "      border-color: transparent;\n",
              "      border-right-color: var(--fill-color);\n",
              "      border-top-color: var(--fill-color);\n",
              "    }\n",
              "    60% {\n",
              "      border-color: transparent;\n",
              "      border-right-color: var(--fill-color);\n",
              "    }\n",
              "    80% {\n",
              "      border-color: transparent;\n",
              "      border-right-color: var(--fill-color);\n",
              "      border-bottom-color: var(--fill-color);\n",
              "    }\n",
              "    90% {\n",
              "      border-color: transparent;\n",
              "      border-bottom-color: var(--fill-color);\n",
              "    }\n",
              "  }\n",
              "</style>\n",
              "\n",
              "  <script>\n",
              "    async function quickchart(key) {\n",
              "      const quickchartButtonEl =\n",
              "        document.querySelector('#' + key + ' button');\n",
              "      quickchartButtonEl.disabled = true;  // To prevent multiple clicks.\n",
              "      quickchartButtonEl.classList.add('colab-df-spinner');\n",
              "      try {\n",
              "        const charts = await google.colab.kernel.invokeFunction(\n",
              "            'suggestCharts', [key], {});\n",
              "      } catch (error) {\n",
              "        console.error('Error during call to suggestCharts:', error);\n",
              "      }\n",
              "      quickchartButtonEl.classList.remove('colab-df-spinner');\n",
              "      quickchartButtonEl.classList.add('colab-df-quickchart-complete');\n",
              "    }\n",
              "    (() => {\n",
              "      let quickchartButtonEl =\n",
              "        document.querySelector('#df-8fd580e9-0660-4364-bb12-2ab8005601c2 button');\n",
              "      quickchartButtonEl.style.display =\n",
              "        google.colab.kernel.accessAllowed ? 'block' : 'none';\n",
              "    })();\n",
              "  </script>\n",
              "</div>\n",
              "\n",
              "    </div>\n",
              "  </div>\n"
            ],
            "text/plain": [
              "                                                link  \\\n",
              "0  https://www.huffpost.com/entry/covid-boosters-...   \n",
              "1  https://www.huffpost.com/entry/american-airlin...   \n",
              "2  https://www.huffpost.com/entry/funniest-tweets...   \n",
              "3  https://www.huffpost.com/entry/funniest-parent...   \n",
              "4  https://www.huffpost.com/entry/amy-cooper-lose...   \n",
              "\n",
              "                                            headline   category  \\\n",
              "0  Over 4 Million Americans Roll Up Sleeves For O...  U.S. NEWS   \n",
              "1  American Airlines Flyer Charged, Banned For Li...  U.S. NEWS   \n",
              "2  23 Of The Funniest Tweets About Cats And Dogs ...     COMEDY   \n",
              "3  The Funniest Tweets From Parents This Week (Se...  PARENTING   \n",
              "4  Woman Who Called Cops On Black Bird-Watcher Lo...  U.S. NEWS   \n",
              "\n",
              "                                   short_description               authors  \\\n",
              "0  Health experts said it is too early to predict...  Carla K. Johnson, AP   \n",
              "1  He was subdued by passengers and crew when he ...        Mary Papenfuss   \n",
              "2  \"Until you have a dog you don't understand wha...         Elyse Wanshel   \n",
              "3  \"Accidentally put grown-up toothpaste on my to...      Caroline Bologna   \n",
              "4  Amy Cooper accused investment firm Franklin Te...        Nina Golgowski   \n",
              "\n",
              "         date  \n",
              "0  2022-09-23  \n",
              "1  2022-09-23  \n",
              "2  2022-09-23  \n",
              "3  2022-09-23  \n",
              "4  2022-09-22  "
            ]
          },
          "execution_count": 8,
          "metadata": {},
          "output_type": "execute_result"
        }
      ],
      "source": [
        "# Displaying the first few rows\n",
        "print(\"Dataset preview:\")\n",
        "df.head()"
      ]
    },
    {
      "cell_type": "code",
      "execution_count": 9,
      "metadata": {
        "colab": {
          "base_uri": "https://localhost:8080/"
        },
        "id": "gWvEFYWH0TGD",
        "outputId": "23d69a2f-3d94-4783-a180-2b1debc8e45a"
      },
      "outputs": [
        {
          "name": "stdout",
          "output_type": "stream",
          "text": [
            "\n",
            "Dataset Info:\n",
            "<class 'pandas.core.frame.DataFrame'>\n",
            "RangeIndex: 209527 entries, 0 to 209526\n",
            "Data columns (total 6 columns):\n",
            " #   Column             Non-Null Count   Dtype \n",
            "---  ------             --------------   ----- \n",
            " 0   link               209527 non-null  object\n",
            " 1   headline           209527 non-null  object\n",
            " 2   category           209527 non-null  object\n",
            " 3   short_description  209527 non-null  object\n",
            " 4   authors            209527 non-null  object\n",
            " 5   date               209527 non-null  object\n",
            "dtypes: object(6)\n",
            "memory usage: 9.6+ MB\n"
          ]
        }
      ],
      "source": [
        "# Basic structure and overview\n",
        "print(\"\\nDataset Info:\")\n",
        "df.info()"
      ]
    },
    {
      "cell_type": "code",
      "execution_count": 10,
      "metadata": {
        "colab": {
          "base_uri": "https://localhost:8080/"
        },
        "id": "GjQiZbT00TGE",
        "outputId": "de3f70c7-d5d8-4023-e6a8-7e25c2d08993"
      },
      "outputs": [
        {
          "name": "stdout",
          "output_type": "stream",
          "text": [
            "\n",
            "Number of unique categories: 42\n",
            "\n",
            "Categories:\n",
            "['U.S. NEWS' 'COMEDY' 'PARENTING' 'WORLD NEWS' 'CULTURE & ARTS' 'TECH'\n",
            " 'SPORTS' 'ENTERTAINMENT' 'POLITICS' 'WEIRD NEWS' 'ENVIRONMENT'\n",
            " 'EDUCATION' 'CRIME' 'SCIENCE' 'WELLNESS' 'BUSINESS' 'STYLE & BEAUTY'\n",
            " 'FOOD & DRINK' 'MEDIA' 'QUEER VOICES' 'HOME & LIVING' 'WOMEN'\n",
            " 'BLACK VOICES' 'TRAVEL' 'MONEY' 'RELIGION' 'LATINO VOICES' 'IMPACT'\n",
            " 'WEDDINGS' 'COLLEGE' 'PARENTS' 'ARTS & CULTURE' 'STYLE' 'GREEN' 'TASTE'\n",
            " 'HEALTHY LIVING' 'THE WORLDPOST' 'GOOD NEWS' 'WORLDPOST' 'FIFTY' 'ARTS'\n",
            " 'DIVORCE']\n",
            "\n",
            "Category distribution:\n",
            "category\n",
            "POLITICS          35602\n",
            "WELLNESS          17945\n",
            "ENTERTAINMENT     17362\n",
            "TRAVEL             9900\n",
            "STYLE & BEAUTY     9814\n",
            "PARENTING          8791\n",
            "HEALTHY LIVING     6694\n",
            "QUEER VOICES       6347\n",
            "FOOD & DRINK       6340\n",
            "BUSINESS           5992\n",
            "COMEDY             5400\n",
            "SPORTS             5077\n",
            "BLACK VOICES       4583\n",
            "HOME & LIVING      4320\n",
            "PARENTS            3955\n",
            "THE WORLDPOST      3664\n",
            "WEDDINGS           3653\n",
            "WOMEN              3572\n",
            "CRIME              3562\n",
            "IMPACT             3484\n",
            "DIVORCE            3426\n",
            "WORLD NEWS         3299\n",
            "MEDIA              2944\n",
            "WEIRD NEWS         2777\n",
            "GREEN              2622\n",
            "WORLDPOST          2579\n",
            "RELIGION           2577\n",
            "STYLE              2254\n",
            "SCIENCE            2206\n",
            "TECH               2104\n",
            "TASTE              2096\n",
            "MONEY              1756\n",
            "ARTS               1509\n",
            "ENVIRONMENT        1444\n",
            "FIFTY              1401\n",
            "GOOD NEWS          1398\n",
            "U.S. NEWS          1377\n",
            "ARTS & CULTURE     1339\n",
            "COLLEGE            1144\n",
            "LATINO VOICES      1130\n",
            "CULTURE & ARTS     1074\n",
            "EDUCATION          1014\n",
            "Name: count, dtype: int64\n"
          ]
        }
      ],
      "source": [
        "# Number of unique categories\n",
        "unique_categories = df['category'].nunique()\n",
        "print(f\"\\nNumber of unique categories: {unique_categories}\")\n",
        "\n",
        "# Displaying unique categories\n",
        "print(\"\\nCategories:\")\n",
        "print(df['category'].unique())\n",
        "\n",
        "# Number of records per category\n",
        "category_distribution = df['category'].value_counts()\n",
        "print(\"\\nCategory distribution:\")\n",
        "print(category_distribution)"
      ]
    },
    {
      "cell_type": "code",
      "execution_count": 11,
      "metadata": {
        "colab": {
          "base_uri": "https://localhost:8080/"
        },
        "id": "lC_7XtsR0TGE",
        "outputId": "f7b81844-0014-44ed-d578-ddde73de05bb"
      },
      "outputs": [
        {
          "name": "stdout",
          "output_type": "stream",
          "text": [
            "\n",
            "Example record:\n",
            "headline             Over 4 Million Americans Roll Up Sleeves For O...\n",
            "short_description    Health experts said it is too early to predict...\n",
            "category                                                     U.S. NEWS\n",
            "Name: 0, dtype: object\n"
          ]
        }
      ],
      "source": [
        "# Example of text and category\n",
        "print(\"\\nExample record:\")\n",
        "print(df[['headline', 'short_description', 'category']].iloc[0])"
      ]
    },
    {
      "cell_type": "markdown",
      "metadata": {
        "id": "et8j3cFa0TGG"
      },
      "source": [
        "## 4.2. Preprocessing and Splitting"
      ]
    },
    {
      "cell_type": "markdown",
      "metadata": {
        "id": "fwQIfgOv0TGH"
      },
      "source": [
        "### Model token limits\n",
        "\n",
        "**gpt-4o**\n",
        "- Context window: 128,000 tokens\n",
        "- Max output tokens: 16,384 tokens\n",
        "- Training data: Up to Oct 2023\n",
        "\n",
        "**gpt-4o-mini**\n",
        "- Context window: 128,000 tokens\n",
        "- Max output tokens: 16,384 tokens\n",
        "- Training data: Up to Oct 2023"
      ]
    },
    {
      "cell_type": "code",
      "execution_count": 12,
      "metadata": {
        "id": "UNRBtXBt0TGH"
      },
      "outputs": [],
      "source": [
        "# Cleanning function\n",
        "\n",
        "def clean_text(text):\n",
        "    text = re.sub(r'\\s+', ' ', text)  # Remove extra whitespace\n",
        "    text = re.sub(r'[^\\w\\s]', '', text)  # Remove punctuation\n",
        "    return text.lower()\n",
        "\n",
        "#df[\"text\"] = df[\"text\"].apply(clean_text)"
      ]
    },
    {
      "cell_type": "code",
      "execution_count": 13,
      "metadata": {
        "id": "f6KeGeYx0TGI"
      },
      "outputs": [],
      "source": [
        "# Function to count tokens using OpenAI's tokenization scheme\n",
        "def count_tokens(text: str, model: str = \"text-embedding-ada-002\"):\n",
        "    \"\"\"\n",
        "    Counts the number of tokens in a given text using the tokenization scheme of OpenAI models.\n",
        "\n",
        "    Args:\n",
        "        text (str): The input text to be tokenized.\n",
        "        model (str): The OpenAI model whose tokenization scheme will be used.\n",
        "\n",
        "    Returns:\n",
        "        int: The number of tokens in the text.\n",
        "    \"\"\"\n",
        "    try:\n",
        "        encoding = tiktoken.encoding_for_model(model)\n",
        "        token_count = len(encoding.encode(text))\n",
        "        return token_count\n",
        "    except KeyError:\n",
        "        raise ValueError(f\"Model '{model}' is not supported for tokenization.\")"
      ]
    },
    {
      "cell_type": "code",
      "execution_count": 14,
      "metadata": {
        "id": "fKlCxWZt0TGJ"
      },
      "outputs": [],
      "source": [
        "# Define a text splitter for long documents\n",
        "text_splitter = RecursiveCharacterTextSplitter(\n",
        "    chunk_size=500,  # Maximum tokens per chunk\n",
        "    chunk_overlap=100,  # Overlap between chunks to maintain context\n",
        ")"
      ]
    },
    {
      "cell_type": "code",
      "execution_count": 15,
      "metadata": {
        "id": "FTCBagKw0TGJ"
      },
      "outputs": [],
      "source": [
        "# Function to process documents: check token count and split if necessary\n",
        "def process_documents(documents, chunk_size=500, model=\"text-embedding-ada-002\"):\n",
        "    \"\"\"\n",
        "    Processes a list of documents: splits long documents into smaller chunks if needed.\n",
        "\n",
        "    Args:\n",
        "        documents (list of langchain_core.documents.Document): The input documents.\n",
        "        chunk_size (int): The maximum token count per chunk.\n",
        "        model (str): The OpenAI model to use for token counting.\n",
        "\n",
        "    Returns:\n",
        "        list: Processed documents, split as necessary.\n",
        "    \"\"\"\n",
        "    processed_documents = []\n",
        "    for doc in documents:\n",
        "        token_count = count_tokens(doc.page_content, model=model)\n",
        "        #print(token_count)\n",
        "        if token_count > chunk_size:\n",
        "            # Split the document if token count exceeds chunk_size\n",
        "            chunks = text_splitter.split_documents([doc])\n",
        "            processed_documents.extend(chunks)\n",
        "        else:\n",
        "            # Keep the document as is\n",
        "            processed_documents.append(doc)\n",
        "    return processed_documents"
      ]
    },
    {
      "cell_type": "code",
      "execution_count": 16,
      "metadata": {
        "id": "Q8g6iavv0TGL"
      },
      "outputs": [],
      "source": [
        "# Create documents with metadata and assign unique IDs\n",
        "documents = [\n",
        "    Document(\n",
        "        page_content=f\"{row['headline']}. {row['short_description']}\",\n",
        "        metadata={\n",
        "            \"id\": str(idx),  # Unique ID for each document\n",
        "            \"category\": row[\"category\"],\n",
        "            \"date\": row[\"date\"],\n",
        "            \"headline\": row[\"headline\"],\n",
        "        },\n",
        "    )\n",
        "    for idx, row in df.iterrows()\n",
        "]"
      ]
    },
    {
      "cell_type": "code",
      "execution_count": 17,
      "metadata": {
        "id": "edth5e9f0TGL"
      },
      "outputs": [],
      "source": [
        "# Process the documents: split if necessary\n",
        "processed_documents = process_documents(documents)"
      ]
    },
    {
      "cell_type": "code",
      "execution_count": 18,
      "metadata": {
        "id": "t3ZQnIV8jVj8"
      },
      "outputs": [],
      "source": [
        "# Map document IDs to their original text for later retrieval\n",
        "id_to_text = {doc.metadata[\"id\"]: doc.page_content for doc in processed_documents}"
      ]
    },
    {
      "cell_type": "markdown",
      "metadata": {
        "id": "gm7XvszO0TGO"
      },
      "source": [
        "## 4.3. Embedding Generation"
      ]
    },
    {
      "cell_type": "code",
      "execution_count": 19,
      "metadata": {
        "colab": {
          "base_uri": "https://localhost:8080/",
          "height": 473,
          "referenced_widgets": [
            "741bd9d5837e4756b067d6a4f135a6e3",
            "4477d4cd32ce4a05970d5ccd9150e194",
            "4635d516b1b6461884a4d1b1ec39e5a9",
            "6122d007c8d34757a94f62d2a743da9a",
            "ca385207b41745eba0ed4564f19b4096",
            "605c4e7e8fda4c7bbf27f81e55f5e030",
            "d9358d503ae54c0da1575cd8a1125012",
            "4ef596742c71402f8c3232f9ded8f80d",
            "73ef18bfa17b4001bf31bc00410fa8e6",
            "44c53b354bfe4be880ffa55943b3afd7",
            "9f717e047b044a80904ef55bc75c49d5",
            "804fd99d280d4185bbd50b86a74386ec",
            "7c89570a6e7343b2bad977a6a44bed8b",
            "26c3cbf4c3a6458cabfb32918a5bcc7c",
            "a1e9c002701041179711c61173fde3c6",
            "2eda18632f88414299a38d5fc6617701",
            "a2fbbbb9ac484347b545a0e82753ff24",
            "e12fa82c29bb4c25b12f5f820b78e9f7",
            "aa6a8997a2df47ff918ac2378112adc8",
            "ee80f32461784baa9c1a087d660a86b0",
            "80b7cc6b26b4422eaaa4ca546e4494b3",
            "1f7279b0e8a14ee5b1ca9a58aeacf547",
            "89d1bc9ac942468a9564ef129fd8044d",
            "0d6d8dbd30c941e5a75946166bfbc526",
            "900c7f6c64c2489da1cf9e5ac2cccd68",
            "f88bd296ffdc4ddc9658a190270c1815",
            "037f13d93f9348e9991e92910b933ba4",
            "d526649a612e46d58ac61c65d8f867fb",
            "efaec478e6ff440981707e1010034b65",
            "005a1ee5e17940d4b4901169a806652e",
            "d3c0b6824d29465cbf3015209589c6f6",
            "d465e8e01c624a05ae497e5114b1b283",
            "f38bebeb6fbd4fae8a4f9229bf2582d2",
            "ea0c15614ebc4356a01d56e4c3285567",
            "4a6f6b9e9eac4bc6bc3ee6137876a3ab",
            "cfae91953e51488f870df009e2f21d4c",
            "efaef0769a344533b35a88b729576edd",
            "90689ba2e7d94bcab2d043fa2bb73401",
            "ff74c64bcc804eec98fec7a1b28de68c",
            "50ecad91e2504f5c94901de899c4be07",
            "ce9d73ac5c8f49fd8b6f419a373595eb",
            "9a1932ddcb84489493ace791a7c4eabc",
            "99304902e5124f9ea71891a8f1021150",
            "3a232ec8a2a9490f94c0dda6b0c7bc83",
            "0002ecee3ff74214a7aef7858265c5d8",
            "d6e03063e02b4a64a4c0cd9adf291322",
            "6bfb6fdd7255479e89d9f4aab14b8b69",
            "a68b4e94f8ce4bfca9f75f023f7d4cd1",
            "89841e1755fa493e8b6e788c128ca6cb",
            "74bf79607b114d32a888f73d508416a5",
            "7d5b0851bd664c038cb2b69f7a500d02",
            "b09668d05b3f49ef8f312db1283d5dc8",
            "d8dd7139f3404d9b9db73016a63b0449",
            "5a887f03a3f84dbe82e7b4605f4bc01c",
            "a6339f7cd3d642ce892a19287a9b31f0",
            "e92a47d1e36148468d0815c1d50fdafe",
            "05ff7ddc11bf4dca83d6fec99483d184",
            "94b7cf936e7b485cad7dedcc3f4414e0",
            "6526e607718e4b2baa81c933bac754c5",
            "98f948b911fd4ad792476f37f013dbc6",
            "d6e2d4cfaabc40c2b520cd40d560ee2d",
            "e39b0a82ec394aac963d080a0dae8eef",
            "3430ea5141254604809d3257d5c4974a",
            "f16d58a4b3e84623946c1a3c2b1d2d6c",
            "d0eeb806b77748558d10fa4741dae48d",
            "5911c9c48fa54292aae8aeb52c46e760",
            "2deef55c159748958e4440bbc4de3456",
            "0cde9ce472cc47e488f1a2d28d4d9047",
            "4319de9f556d49f6b176c902a690da79",
            "06e205491ab041fdb874571a7a66adb4",
            "dd3910700a914e28834f4a8a154eab13",
            "722489332606459e9b366b4d5077c7f7",
            "e2800eb874be4f0697193d8d94f33d5c",
            "83428e88ecf548ed8cedaa579f77da3d",
            "f5c49e043e134be49fff584ef100e0c1",
            "e8c98bb6105b46bb94120369f4bfc9d0",
            "61ac33f2c84f49ca866270b13b247e9b",
            "009a62ec6271420b99ed4e0cbe7e3154",
            "d88bf03a903649faa0a28d52ae5e70f1",
            "d8565c5c4c6547ec9c57a2beb302b7ab",
            "b6236c0295274f5ea9dc38d17022fb0c",
            "a6a2716e7be84afea1bcd3da47a51916",
            "50aff91eed684c1993aa0f03bd59a92a",
            "5105b05e91bc4735a6fab5fd52f2ae29",
            "4c703dba73a54108a2253bc203773963",
            "c936af9d6cd74a06816e55384e0af366",
            "642cc1e590064a778273119463a3a2f5",
            "e3e67810a8524955830b5ad8fa38ec16",
            "27e0d7feb67f48b4b0085b362ccde186",
            "453c2fc0c01d4308be05976a9369c8c4",
            "cca2ee7b7eef47a6b203dff41d6031c5",
            "21878d9d3b0848338bab418efe8ef936",
            "2abfda27707d446db0113a6531eabe9a",
            "7394a75b712e410d9297719694c13f85",
            "239fa9af261d437e83494e17e59d8eeb",
            "0a29379a455a47d8861e89572970a950",
            "1689b5bf95ec4259977f914143a4182d",
            "68fa953c76044f9aba420c4fa81af67f",
            "cbc44f5d1d3d4bfe9145df584ff34407",
            "95796ecbd9a6413f98e60a95515f75a5",
            "556dc801c3e845b8906b06ffdf9d42fb",
            "89e780875e7a4bd3a7be01d3bc35efb9",
            "425ff2fe355a440384db50e0fe2c29a8",
            "f628f5dba4d64263a6ba3bcd75f310ac",
            "0a5f404df1aa4e8d8da3013181ba1b8d",
            "32f3bb85b0134833ac7c57efc2e6dc5e",
            "1a68541eb362427e9d9bbf41ba7ae642",
            "af994e08198c4593ac6b90066a5d6d1c",
            "d460872215dd4fdb87e75fb0beedebbd",
            "32767d3f76534b8abc9b4ceaa175eb51",
            "13d9d660228e4dcca22a70f831328e31",
            "f683378210ce4f29bda8dade662910ab",
            "b9f7b145ee944820aea90fe51d40a510",
            "2f44337e1fd148399e0d78dca31c1895",
            "8b93efe6247d4ca18185e1da41281cc0",
            "014a938fd5734ea283fc3fdb000ce6b9",
            "b313f5d4bf1d4b13b57cccc6075f09de",
            "651d5cb722074e60bb70767883c4c7f6",
            "08e847de650642969902d2201fb87b1b",
            "16d81cad7e7540dbbf33a5a583536c85",
            "ff8d3d36e14f48259cf35ea7bc2e937d"
          ]
        },
        "id": "KJwzJVl50TGO",
        "outputId": "7486fadc-0f93-4492-b780-b2a634b653c4"
      },
      "outputs": [
        {
          "name": "stderr",
          "output_type": "stream",
          "text": [
            "/usr/local/lib/python3.11/dist-packages/huggingface_hub/utils/_auth.py:94: UserWarning: \n",
            "The secret `HF_TOKEN` does not exist in your Colab secrets.\n",
            "To authenticate with the Hugging Face Hub, create a token in your settings tab (https://huggingface.co/settings/tokens), set it as secret in your Google Colab and restart your session.\n",
            "You will be able to reuse this secret in all of your notebooks.\n",
            "Please note that authentication is recommended but still optional to access public models or datasets.\n",
            "  warnings.warn(\n"
          ]
        },
        {
          "data": {
            "application/vnd.jupyter.widget-view+json": {
              "model_id": "741bd9d5837e4756b067d6a4f135a6e3",
              "version_major": 2,
              "version_minor": 0
            },
            "text/plain": [
              "modules.json:   0%|          | 0.00/349 [00:00<?, ?B/s]"
            ]
          },
          "metadata": {},
          "output_type": "display_data"
        },
        {
          "data": {
            "application/vnd.jupyter.widget-view+json": {
              "model_id": "804fd99d280d4185bbd50b86a74386ec",
              "version_major": 2,
              "version_minor": 0
            },
            "text/plain": [
              "config_sentence_transformers.json:   0%|          | 0.00/116 [00:00<?, ?B/s]"
            ]
          },
          "metadata": {},
          "output_type": "display_data"
        },
        {
          "data": {
            "application/vnd.jupyter.widget-view+json": {
              "model_id": "89d1bc9ac942468a9564ef129fd8044d",
              "version_major": 2,
              "version_minor": 0
            },
            "text/plain": [
              "README.md:   0%|          | 0.00/10.7k [00:00<?, ?B/s]"
            ]
          },
          "metadata": {},
          "output_type": "display_data"
        },
        {
          "data": {
            "application/vnd.jupyter.widget-view+json": {
              "model_id": "ea0c15614ebc4356a01d56e4c3285567",
              "version_major": 2,
              "version_minor": 0
            },
            "text/plain": [
              "sentence_bert_config.json:   0%|          | 0.00/53.0 [00:00<?, ?B/s]"
            ]
          },
          "metadata": {},
          "output_type": "display_data"
        },
        {
          "data": {
            "application/vnd.jupyter.widget-view+json": {
              "model_id": "0002ecee3ff74214a7aef7858265c5d8",
              "version_major": 2,
              "version_minor": 0
            },
            "text/plain": [
              "config.json:   0%|          | 0.00/612 [00:00<?, ?B/s]"
            ]
          },
          "metadata": {},
          "output_type": "display_data"
        },
        {
          "data": {
            "application/vnd.jupyter.widget-view+json": {
              "model_id": "e92a47d1e36148468d0815c1d50fdafe",
              "version_major": 2,
              "version_minor": 0
            },
            "text/plain": [
              "model.safetensors:   0%|          | 0.00/90.9M [00:00<?, ?B/s]"
            ]
          },
          "metadata": {},
          "output_type": "display_data"
        },
        {
          "data": {
            "application/vnd.jupyter.widget-view+json": {
              "model_id": "2deef55c159748958e4440bbc4de3456",
              "version_major": 2,
              "version_minor": 0
            },
            "text/plain": [
              "tokenizer_config.json:   0%|          | 0.00/350 [00:00<?, ?B/s]"
            ]
          },
          "metadata": {},
          "output_type": "display_data"
        },
        {
          "data": {
            "application/vnd.jupyter.widget-view+json": {
              "model_id": "009a62ec6271420b99ed4e0cbe7e3154",
              "version_major": 2,
              "version_minor": 0
            },
            "text/plain": [
              "vocab.txt:   0%|          | 0.00/232k [00:00<?, ?B/s]"
            ]
          },
          "metadata": {},
          "output_type": "display_data"
        },
        {
          "data": {
            "application/vnd.jupyter.widget-view+json": {
              "model_id": "27e0d7feb67f48b4b0085b362ccde186",
              "version_major": 2,
              "version_minor": 0
            },
            "text/plain": [
              "tokenizer.json:   0%|          | 0.00/466k [00:00<?, ?B/s]"
            ]
          },
          "metadata": {},
          "output_type": "display_data"
        },
        {
          "data": {
            "application/vnd.jupyter.widget-view+json": {
              "model_id": "95796ecbd9a6413f98e60a95515f75a5",
              "version_major": 2,
              "version_minor": 0
            },
            "text/plain": [
              "special_tokens_map.json:   0%|          | 0.00/112 [00:00<?, ?B/s]"
            ]
          },
          "metadata": {},
          "output_type": "display_data"
        },
        {
          "data": {
            "application/vnd.jupyter.widget-view+json": {
              "model_id": "13d9d660228e4dcca22a70f831328e31",
              "version_major": 2,
              "version_minor": 0
            },
            "text/plain": [
              "1_Pooling/config.json:   0%|          | 0.00/190 [00:00<?, ?B/s]"
            ]
          },
          "metadata": {},
          "output_type": "display_data"
        }
      ],
      "source": [
        "# Initialize the embedding model\n",
        "embedding_model = HuggingFaceEmbeddings(model_name=\"all-MiniLM-L6-v2\")  # Sentence Transformers on Hugging Face"
      ]
    },
    {
      "cell_type": "markdown",
      "metadata": {
        "id": "TzOoV3pv0TGP"
      },
      "source": [
        "## 4.4. Vectorstore Creation"
      ]
    },
    {
      "cell_type": "code",
      "execution_count": 23,
      "metadata": {
        "colab": {
          "base_uri": "https://localhost:8080/",
          "height": 35
        },
        "id": "TiYF-UyP0TGP",
        "outputId": "4fae4a08-230c-4032-e7c4-947ea804c521"
      },
      "outputs": [
        {
          "data": {
            "application/vnd.google.colaboratory.intrinsic+json": {
              "type": "string"
            },
            "text/plain": [
              "'\\n# Create a FAISS VectorStore\\nvectorstore = FAISS.from_documents(documents=processed_documents, embedding=embedding_model)\\n'"
            ]
          },
          "execution_count": 23,
          "metadata": {},
          "output_type": "execute_result"
        }
      ],
      "source": [
        "\"\"\"\n",
        "# Create a FAISS VectorStore\n",
        "vectorstore = FAISS.from_documents(documents=processed_documents, embedding=embedding_model)\n",
        "\"\"\""
      ]
    },
    {
      "cell_type": "code",
      "execution_count": 24,
      "metadata": {
        "colab": {
          "base_uri": "https://localhost:8080/",
          "height": 53
        },
        "id": "BM3d1B5e0TGQ",
        "outputId": "c7c8a017-7bdd-492b-8f27-058ffc4aedfc"
      },
      "outputs": [
        {
          "data": {
            "application/vnd.google.colaboratory.intrinsic+json": {
              "type": "string"
            },
            "text/plain": [
              "'\\n# Verify the VectorStore\\nprint(f\"Number of documents in VectorStore: {len(processed_documents)}\")\\nfor doc in processed_documents[:5]:\\n    print(f\"Content: {doc.page_content[:100]}... | Metadata: {doc.metadata}\")\\n'"
            ]
          },
          "execution_count": 24,
          "metadata": {},
          "output_type": "execute_result"
        }
      ],
      "source": [
        "\"\"\"\n",
        "# Verify the VectorStore\n",
        "print(f\"Number of documents in VectorStore: {len(processed_documents)}\")\n",
        "for doc in processed_documents[:5]:\n",
        "    print(f\"Content: {doc.page_content[:100]}... | Metadata: {doc.metadata}\")\n",
        "\"\"\""
      ]
    },
    {
      "cell_type": "code",
      "execution_count": 25,
      "metadata": {
        "colab": {
          "base_uri": "https://localhost:8080/",
          "height": 53
        },
        "id": "6XO7kJDb0TGR",
        "outputId": "d7f79142-75fd-4c6d-ce26-30a3ae0a7d81"
      },
      "outputs": [
        {
          "data": {
            "application/vnd.google.colaboratory.intrinsic+json": {
              "type": "string"
            },
            "text/plain": [
              "'\\n# Save the vectorstore to disk for future use\\nvectorstore.save_local(\"/content/drive/MyDrive/Colab Notebooks/news_category/results/vectorstore_news_category\")\\n# vectorstore.persist(directory=\"../results/vectorstore_news_category\") # To maintain Chorma\\'s format\\n'"
            ]
          },
          "execution_count": 25,
          "metadata": {},
          "output_type": "execute_result"
        }
      ],
      "source": [
        "\"\"\"\n",
        "# Save the vectorstore to disk for future use\n",
        "vectorstore.save_local(\"/content/drive/MyDrive/Colab Notebooks/news_category/results/vectorstore_news_category\")\n",
        "# vectorstore.persist(directory=\"../results/vectorstore_news_category\") # To maintain Chorma's format\n",
        "\"\"\""
      ]
    },
    {
      "cell_type": "code",
      "execution_count": 30,
      "metadata": {
        "id": "p9uk83ZL0TGR"
      },
      "outputs": [],
      "source": [
        "# Load the vectorstore from the local directory\n",
        "vectorstore = FAISS.load_local(\"/content/drive/MyDrive/Colab Notebooks/news_category/results/vectorstore_news_category\", embeddings=embedding_model,  allow_dangerous_deserialization=True)"
      ]
    },
    {
      "cell_type": "code",
      "execution_count": 32,
      "metadata": {
        "colab": {
          "base_uri": "https://localhost:8080/"
        },
        "id": "WhBVEkXjdcgI",
        "outputId": "5b963696-6e41-49d8-815c-315e09b40457"
      },
      "outputs": [
        {
          "name": "stdout",
          "output_type": "stream",
          "text": [
            "Number of documents in VectorStore: 209527\n",
            "Content: Over 4 Million Americans Roll Up Sleeves For Omicron-Targeted COVID Boosters. Health experts said it... | Metadata: {'id': '0', 'category': 'U.S. NEWS', 'date': '2022-09-23', 'headline': 'Over 4 Million Americans Roll Up Sleeves For Omicron-Targeted COVID Boosters'}\n",
            "Content: American Airlines Flyer Charged, Banned For Life After Punching Flight Attendant On Video. He was su... | Metadata: {'id': '1', 'category': 'U.S. NEWS', 'date': '2022-09-23', 'headline': 'American Airlines Flyer Charged, Banned For Life After Punching Flight Attendant On Video'}\n",
            "Content: 23 Of The Funniest Tweets About Cats And Dogs This Week (Sept. 17-23). \"Until you have a dog you don... | Metadata: {'id': '2', 'category': 'COMEDY', 'date': '2022-09-23', 'headline': '23 Of The Funniest Tweets About Cats And Dogs This Week (Sept. 17-23)'}\n",
            "Content: The Funniest Tweets From Parents This Week (Sept. 17-23). \"Accidentally put grown-up toothpaste on m... | Metadata: {'id': '3', 'category': 'PARENTING', 'date': '2022-09-23', 'headline': 'The Funniest Tweets From Parents This Week (Sept. 17-23)'}\n",
            "Content: Woman Who Called Cops On Black Bird-Watcher Loses Lawsuit Against Ex-Employer. Amy Cooper accused in... | Metadata: {'id': '4', 'category': 'U.S. NEWS', 'date': '2022-09-22', 'headline': 'Woman Who Called Cops On Black Bird-Watcher Loses Lawsuit Against Ex-Employer'}\n"
          ]
        }
      ],
      "source": [
        "# Verify the VectorStore\n",
        "print(f\"Number of documents in VectorStore: {len(processed_documents)}\")\n",
        "for doc in processed_documents[:5]:\n",
        "    print(f\"Content: {doc.page_content[:100]}... | Metadata: {doc.metadata}\")"
      ]
    },
    {
      "cell_type": "code",
      "execution_count": 33,
      "metadata": {
        "colab": {
          "base_uri": "https://localhost:8080/"
        },
        "id": "EQVgm7LVdh-j",
        "outputId": "799ddaee-49cd-4f70-fd0a-7554e8bca983"
      },
      "outputs": [
        {
          "name": "stdout",
          "output_type": "stream",
          "text": [
            "Doc ID: 0a95b053-2bdb-4830-8f0f-a5b495e1d060, Content: Over 4 Million Americans Roll Up Sleeves For Omicron-Targeted COVID Boosters. Health experts said it, Metadata: {'id': '0', 'category': 'U.S. NEWS', 'date': '2022-09-23', 'headline': 'Over 4 Million Americans Roll Up Sleeves For Omicron-Targeted COVID Boosters'}\n",
            "Doc ID: 2cd16f28-3b28-451a-87fa-931d642bb5bb, Content: American Airlines Flyer Charged, Banned For Life After Punching Flight Attendant On Video. He was su, Metadata: {'id': '1', 'category': 'U.S. NEWS', 'date': '2022-09-23', 'headline': 'American Airlines Flyer Charged, Banned For Life After Punching Flight Attendant On Video'}\n",
            "Doc ID: fa043dc4-d127-4423-a860-a47bd3f560d7, Content: 23 Of The Funniest Tweets About Cats And Dogs This Week (Sept. 17-23). \"Until you have a dog you don, Metadata: {'id': '2', 'category': 'COMEDY', 'date': '2022-09-23', 'headline': '23 Of The Funniest Tweets About Cats And Dogs This Week (Sept. 17-23)'}\n",
            "Doc ID: dba94f4e-c73e-4614-89e9-737a4de6aaa7, Content: The Funniest Tweets From Parents This Week (Sept. 17-23). \"Accidentally put grown-up toothpaste on m, Metadata: {'id': '3', 'category': 'PARENTING', 'date': '2022-09-23', 'headline': 'The Funniest Tweets From Parents This Week (Sept. 17-23)'}\n",
            "Doc ID: 465da011-9199-4305-be3c-83dc6ab387a0, Content: Woman Who Called Cops On Black Bird-Watcher Loses Lawsuit Against Ex-Employer. Amy Cooper accused in, Metadata: {'id': '4', 'category': 'U.S. NEWS', 'date': '2022-09-22', 'headline': 'Woman Who Called Cops On Black Bird-Watcher Loses Lawsuit Against Ex-Employer'}\n",
            "Doc ID: 09fe42c7-4c93-4abe-81ca-c01abf539b84, Content: Cleaner Was Dead In Belk Bathroom For 4 Days Before Body Found: Police. The 63-year-old woman was se, Metadata: {'id': '5', 'category': 'U.S. NEWS', 'date': '2022-09-22', 'headline': 'Cleaner Was Dead In Belk Bathroom For 4 Days Before Body Found: Police'}\n",
            "Doc ID: 3a516608-a486-428f-996a-2b5329e38326, Content: Reporter Gets Adorable Surprise From Her Boyfriend While Live On TV. \"Who's that behind you?\" an anc, Metadata: {'id': '6', 'category': 'U.S. NEWS', 'date': '2022-09-22', 'headline': 'Reporter Gets Adorable Surprise From Her Boyfriend While Live On TV'}\n",
            "Doc ID: 0ea65213-cf4a-4c8d-b51d-8dc01ed4ed00, Content: Puerto Ricans Desperate For Water After Hurricane Fiona’s Rampage. More than half a million people r, Metadata: {'id': '7', 'category': 'WORLD NEWS', 'date': '2022-09-22', 'headline': 'Puerto Ricans Desperate For Water After Hurricane Fiona’s Rampage'}\n",
            "Doc ID: 400de0c2-5811-4589-a941-1d78228f2c13, Content: How A New Documentary Captures The Complexity Of Being A Child Of Immigrants. In \"Mija,\" director Is, Metadata: {'id': '8', 'category': 'CULTURE & ARTS', 'date': '2022-09-22', 'headline': 'How A New Documentary Captures The Complexity Of Being A Child Of Immigrants'}\n",
            "Doc ID: 53986712-561e-48e0-894d-d25c5bb4f9e9, Content: Biden At UN To Call Russian War An Affront To Body's Charter. White House officials say the crux of , Metadata: {'id': '9', 'category': 'WORLD NEWS', 'date': '2022-09-21', 'headline': \"Biden At UN To Call Russian War An Affront To Body's Charter\"}\n"
          ]
        }
      ],
      "source": [
        "# Verify documents in the docstore\n",
        "n = 0\n",
        "for doc_id, doc in vectorstore.docstore._dict.items():\n",
        "    n+=1\n",
        "    print(f\"Doc ID: {doc_id}, Content: {doc.page_content[:100]}, Metadata: {doc.metadata}\")\n",
        "    if n==10:\n",
        "      break\n"
      ]
    },
    {
      "cell_type": "markdown",
      "metadata": {
        "id": "Kcf65fcEOTmn"
      },
      "source": [
        "## 4.5. Retrival Process"
      ]
    },
    {
      "cell_type": "code",
      "execution_count": 34,
      "metadata": {
        "id": "WqQbZUO-vkYG"
      },
      "outputs": [],
      "source": [
        "# Create the object Document Retriver (VectorStoreRetriever instance)\n",
        "retriever = vectorstore.as_retriever(\n",
        "    search_type=\"similarity\",\n",
        "    search_kwargs={\n",
        "        \"k\": 10,\n",
        "        #\"filter\": {\"category\": \"politics\"}  # Ejemplo: filtrar por categoría\n",
        "    }\n",
        ")"
      ]
    },
    {
      "cell_type": "code",
      "execution_count": 35,
      "metadata": {
        "colab": {
          "base_uri": "https://localhost:8080/"
        },
        "id": "TeRTtUE3xQWk",
        "outputId": "b83395c5-7bab-4850-e8bb-35bc4dd33aea"
      },
      "outputs": [
        {
          "name": "stdout",
          "output_type": "stream",
          "text": [
            "\n",
            "Document 1:\n",
            "Content: HUFFPOLLSTER: Republicans And Democrats Are Growing Even Further Apart. The country's changing demographics have affected both parties, but in drastically different ways.:\n",
            "Metadata: {'id': '56761', 'category': 'POLITICS', 'date': '2016-09-13', 'headline': 'HUFFPOLLSTER: Republicans And Democrats Are Growing Even Further Apart'}\n",
            "\n",
            "Document 2:\n",
            "Content: See The Latest Updates On Elections From Around The Nation. :\n",
            "Metadata: {'id': '116223', 'category': 'POLITICS', 'date': '2014-11-04', 'headline': 'See The Latest Updates On Elections From Around The Nation'}\n",
            "\n",
            "Document 3:\n",
            "Content: Top 10 Tech Trends Transforming Humanity. Even amid a year of disheartening political news, 2016 brought a number of advancements that are changing the global tech terrain:\n",
            "Metadata: {'id': '47046', 'category': 'TECH', 'date': '2017-01-02', 'headline': 'Top 10 Tech Trends Transforming Humanity'}\n",
            "\n",
            "Document 4:\n",
            "Content: Congress Sets Politics Aside for Critical Development and Humanitarian Issues. 2014 saw an unprecedented number of humanitarian crises around the globe. At the same time, this year's mid-term congressional elections brought partisan tensions to new highs inside the Washington Beltway.:\n",
            "Metadata: {'id': '111662', 'category': 'IMPACT', 'date': '2014-12-27', 'headline': 'Congress Sets Politics Aside for Critical Development and Humanitarian Issues'}\n",
            "\n",
            "Document 5:\n",
            "Content: Leadership and Transparency 2015: The Social Media Imperative. By the time \"trends\" get mentioned in new year forecast blog posts, they can be a little more \"old\" than \"news.\" Though forward motion is always worth celebrating, change usually happens more slowly.:\n",
            "Metadata: {'id': '110834', 'category': 'BUSINESS', 'date': '2015-01-05', 'headline': 'Leadership and Transparency 2015: The Social Media Imperative'}\n",
            "\n",
            "Document 6:\n",
            "Content: Five Emerging Trends for the U.S. Elections. With the Iowa caucuses around the corner, the election fever should ideally be catching up. Far from it. There is an apparent gloom looming large over the American electorate.:\n",
            "Metadata: {'id': '76589', 'category': 'POLITICS', 'date': '2016-01-31', 'headline': 'Five Emerging Trends for the U.S. Elections'}\n",
            "\n",
            "Document 7:\n",
            "Content: The Future of Elections. We need to set an example to the world, which is facing a recession of democratic governance. Exploring ways to empower the people's vote would be the biggest innovation in governance in a long, long time.:\n",
            "Metadata: {'id': '101009', 'category': 'POLITICS', 'date': '2015-04-29', 'headline': 'The Future of Elections'}\n",
            "\n",
            "Document 8:\n",
            "Content: Changing The Political Climate. For months, activists, especially nonprofit and philanthropic leaders have been worrying about how they can best operate:\n",
            "Metadata: {'id': '38630', 'category': 'POLITICS', 'date': '2017-04-07', 'headline': 'Changing The Political Climate'}\n",
            "\n",
            "Document 9:\n",
            "Content: 2018: Moving Beyond Trump — Rebuilding Our Civilizations From Source. The year 2017 was strange. Full of surprises. Maybe the most significant and least noticed one came at the very end. Let:\n",
            "Metadata: {'id': '17298', 'category': 'IMPACT', 'date': '2017-12-30', 'headline': '2018: Moving Beyond Trump — Rebuilding Our Civilizations From Source'}\n",
            "\n",
            "Document 10:\n",
            "Content: Data: The Next Political Casualty?. Over the past seven years, tremendous momentum has grown behind the public release of data held by the U.S. government, and governments at all levels.:\n",
            "Metadata: {'id': '47448', 'category': 'POLITICS', 'date': '2016-12-28', 'headline': 'Data: The Next Political Casualty?'}\n"
          ]
        },
        {
          "name": "stderr",
          "output_type": "stream",
          "text": [
            "<ipython-input-35-de0dc029e8ea>:3: LangChainDeprecationWarning: The method `BaseRetriever.get_relevant_documents` was deprecated in langchain-core 0.1.46 and will be removed in 1.0. Use :meth:`~invoke` instead.\n",
            "  results = retriever.get_relevant_documents(query)\n"
          ]
        }
      ],
      "source": [
        "# Example query\n",
        "query = \"What are the latest political developments?\"\n",
        "results = retriever.get_relevant_documents(query)\n",
        "\n",
        "# Display retrieved documents\n",
        "for idx, doc in enumerate(results):\n",
        "    print(f\"\\nDocument {idx + 1}:\")\n",
        "    print(f\"Content: {doc.page_content}:\")\n",
        "    print(f\"Metadata: {doc.metadata}\")"
      ]
    },
    {
      "cell_type": "code",
      "execution_count": 36,
      "metadata": {
        "id": "fRngiEd91xR4"
      },
      "outputs": [],
      "source": [
        "# Create the object Document Retriver (VectorStoreRetriever instance)\n",
        "retriever_mmr = vectorstore.as_retriever(\n",
        "    search_type=\"mmr\",\n",
        "    search_kwargs={\n",
        "        \"k\": 10,\n",
        "        #\"filter\": {\"category\": \"politics\"}  # Ejemplo: filtrar por categoría\n",
        "    }\n",
        ")"
      ]
    },
    {
      "cell_type": "code",
      "execution_count": 37,
      "metadata": {
        "colab": {
          "base_uri": "https://localhost:8080/"
        },
        "id": "-KjilryI11Cs",
        "outputId": "9bb6b184-8b72-4c38-ae50-f02fcecd15e2"
      },
      "outputs": [
        {
          "name": "stdout",
          "output_type": "stream",
          "text": [
            "\n",
            "Document 1:\n",
            "Content: HUFFPOLLSTER: Republicans And Democrats Are Growing Even Further Apart. The country's changing demographics have affected both parties, but in drastically different ways.:\n",
            "Metadata: {'id': '56761', 'category': 'POLITICS', 'date': '2016-09-13', 'headline': 'HUFFPOLLSTER: Republicans And Democrats Are Growing Even Further Apart'}\n",
            "\n",
            "Document 2:\n",
            "Content: Top 10 Tech Trends Transforming Humanity. Even amid a year of disheartening political news, 2016 brought a number of advancements that are changing the global tech terrain:\n",
            "Metadata: {'id': '47046', 'category': 'TECH', 'date': '2017-01-02', 'headline': 'Top 10 Tech Trends Transforming Humanity'}\n",
            "\n",
            "Document 3:\n",
            "Content: Division Over Riders Forcing Congress To Edge Of Government-Funding Deadline. But what's new?:\n",
            "Metadata: {'id': '81167', 'category': 'POLITICS', 'date': '2015-12-09', 'headline': 'Division Over Riders Forcing Congress To Edge Of Government-Funding Deadline'}\n",
            "\n",
            "Document 4:\n",
            "Content: Gun Safes and Politics. The August 2014 issue of Guns and Ammo has an interesting article on a new generation of gun safes. While this probably is not of interest to many of my readers, it tells a bit about politics as well.:\n",
            "Metadata: {'id': '125509', 'category': 'POLITICS', 'date': '2014-07-22', 'headline': 'Gun Safes and Politics'}\n",
            "\n",
            "Document 5:\n",
            "Content: The Future of Elections. We need to set an example to the world, which is facing a recession of democratic governance. Exploring ways to empower the people's vote would be the biggest innovation in governance in a long, long time.:\n",
            "Metadata: {'id': '101009', 'category': 'POLITICS', 'date': '2015-04-29', 'headline': 'The Future of Elections'}\n",
            "\n",
            "Document 6:\n",
            "Content: Rising Political Risk in Asia. :\n",
            "Metadata: {'id': '44025', 'category': 'WORLDPOST', 'date': '2017-02-04', 'headline': 'Rising Political Risk in Asia'}\n",
            "\n",
            "Document 7:\n",
            "Content: Changing The Political Climate. For months, activists, especially nonprofit and philanthropic leaders have been worrying about how they can best operate:\n",
            "Metadata: {'id': '38630', 'category': 'POLITICS', 'date': '2017-04-07', 'headline': 'Changing The Political Climate'}\n",
            "\n",
            "Document 8:\n",
            "Content: Data: The Next Political Casualty?. Over the past seven years, tremendous momentum has grown behind the public release of data held by the U.S. government, and governments at all levels.:\n",
            "Metadata: {'id': '47448', 'category': 'POLITICS', 'date': '2016-12-28', 'headline': 'Data: The Next Political Casualty?'}\n",
            "\n",
            "Document 9:\n",
            "Content: See The Latest Updates On Elections From Around The Nation. :\n",
            "Metadata: {'id': '116223', 'category': 'POLITICS', 'date': '2014-11-04', 'headline': 'See The Latest Updates On Elections From Around The Nation'}\n",
            "\n",
            "Document 10:\n",
            "Content: The South's Rising Progressive Stars. They will most likely become national figures in the next few years.:\n",
            "Metadata: {'id': '25374', 'category': 'IMPACT', 'date': '2017-09-12', 'headline': \"The South's Rising Progressive Stars\"}\n"
          ]
        }
      ],
      "source": [
        "# Example query\n",
        "query = \"What are the latest political developments?\"\n",
        "results = retriever_mmr.get_relevant_documents(query)\n",
        "\n",
        "# Display retrieved documents\n",
        "for idx, doc in enumerate(results):\n",
        "    print(f\"\\nDocument {idx + 1}:\")\n",
        "    print(f\"Content: {doc.page_content}:\")\n",
        "    print(f\"Metadata: {doc.metadata}\")"
      ]
    },
    {
      "cell_type": "markdown",
      "metadata": {
        "id": "VBge2flo5yF-"
      },
      "source": [
        "## 4.6. Expansion Opportunities - QA with Generative AI"
      ]
    },
    {
      "cell_type": "code",
      "execution_count": 38,
      "metadata": {
        "id": "V0pOKuo650wu"
      },
      "outputs": [],
      "source": [
        "# Initialize OpenAI LLM\n",
        "llm_openai = ChatOpenAI(\n",
        "    model=\"gpt-4o-mini\",\n",
        "    temperature=0,\n",
        "    max_tokens=500\n",
        "    )"
      ]
    },
    {
      "cell_type": "code",
      "execution_count": 39,
      "metadata": {
        "id": "OkIwdERXLQiB"
      },
      "outputs": [],
      "source": [
        "# llm_openai.invoke(\"Hello, world!\")"
      ]
    },
    {
      "cell_type": "code",
      "execution_count": 40,
      "metadata": {
        "id": "G-qmzvOdJnxS"
      },
      "outputs": [],
      "source": [
        "# # Initialize MistralAI LLM\n",
        "llm_mistralai = ChatMistralAI(\n",
        "    model=\"open-mistral-nemo\",\n",
        "    temperature=0,\n",
        "    #max_tokens=500\n",
        "    )"
      ]
    },
    {
      "cell_type": "code",
      "execution_count": 41,
      "metadata": {
        "colab": {
          "base_uri": "https://localhost:8080/"
        },
        "id": "LTDlyAEELUci",
        "outputId": "751759f5-f8e4-4118-a8b7-d7a9605f77b9"
      },
      "outputs": [
        {
          "data": {
            "text/plain": [
              "AIMessage(content=\"Hello! How can I assist you today? Let's chat about anything you'd like. 😊\", additional_kwargs={}, response_metadata={'token_usage': {'prompt_tokens': 7, 'total_tokens': 28, 'completion_tokens': 21}, 'model': 'open-mistral-nemo', 'finish_reason': 'stop'}, id='run-f5895284-195f-4173-884b-7e08d757d0f5-0', usage_metadata={'input_tokens': 7, 'output_tokens': 21, 'total_tokens': 28})"
            ]
          },
          "execution_count": 41,
          "metadata": {},
          "output_type": "execute_result"
        }
      ],
      "source": [
        "llm_mistralai.invoke(\"Hello, world!\")"
      ]
    },
    {
      "cell_type": "code",
      "execution_count": 42,
      "metadata": {
        "id": "LqsAmUdr8Ik_"
      },
      "outputs": [],
      "source": [
        "# Create the prompt\n",
        "\n",
        "system_prompt = (\n",
        "    \"You are an assistant for question-answering tasks. \"\n",
        "    \"Use the following pieces of retrieved context to answer \"\n",
        "    \"the question. If you don't know the answer, say that you \"\n",
        "    \"don't know. Use three sentences maximum and keep the \"\n",
        "    \"answer concise.\"\n",
        "    \"\\n\\n\"\n",
        "    \"{context}\"\n",
        ")\n",
        "\n",
        "prompt = ChatPromptTemplate.from_messages(\n",
        "    [\n",
        "        (\"system\", system_prompt),\n",
        "        (\"human\", \"{input}\"),\n",
        "    ]\n",
        ")"
      ]
    },
    {
      "cell_type": "code",
      "execution_count": 43,
      "metadata": {
        "id": "PxKCyw_W86TM"
      },
      "outputs": [],
      "source": [
        "# To stuff the contents into the prompt (retrived context withount any summarization)\n",
        "question_answer_chain = create_stuff_documents_chain(llm_mistralai, prompt)\n",
        "\n",
        "# Create the retrieval chain that retrieves documents and then passes them on.\n",
        "rag_chain = create_retrieval_chain(retriever, question_answer_chain)"
      ]
    },
    {
      "cell_type": "code",
      "execution_count": 44,
      "metadata": {
        "colab": {
          "base_uri": "https://localhost:8080/"
        },
        "id": "N9GCD-s3AMkt",
        "outputId": "1c6a03a1-fe09-4234-e2b9-b85119149174"
      },
      "outputs": [
        {
          "name": "stdout",
          "output_type": "stream",
          "text": [
            "The latest political developments include growing partisan divisions between Republicans and Democrats in the U.S., with the country's changing demographics affecting each party differently. Additionally, the 2020 U.S. presidential election is approaching, with the Iowa caucuses scheduled for February 3rd.\n"
          ]
        }
      ],
      "source": [
        "# Example query\n",
        "response = rag_chain.invoke({\"input\": \"What are the latest political developments?\"})\n",
        "print(response[\"answer\"])"
      ]
    },
    {
      "cell_type": "code",
      "execution_count": 45,
      "metadata": {
        "colab": {
          "base_uri": "https://localhost:8080/"
        },
        "id": "pZeRitH_0TGR",
        "outputId": "59577e8c-95a3-4cb2-f1cb-4aa2bfdedc4d"
      },
      "outputs": [
        {
          "name": "stdout",
          "output_type": "stream",
          "text": [
            "page_content='HUFFPOLLSTER: Republicans And Democrats Are Growing Even Further Apart. The country's changing demographics have affected both parties, but in drastically different ways.' metadata={'id': '56761', 'category': 'POLITICS', 'date': '2016-09-13', 'headline': 'HUFFPOLLSTER: Republicans And Democrats Are Growing Even Further Apart'}\n",
            "\n",
            "page_content='See The Latest Updates On Elections From Around The Nation. ' metadata={'id': '116223', 'category': 'POLITICS', 'date': '2014-11-04', 'headline': 'See The Latest Updates On Elections From Around The Nation'}\n",
            "\n",
            "page_content='Top 10 Tech Trends Transforming Humanity. Even amid a year of disheartening political news, 2016 brought a number of advancements that are changing the global tech terrain' metadata={'id': '47046', 'category': 'TECH', 'date': '2017-01-02', 'headline': 'Top 10 Tech Trends Transforming Humanity'}\n",
            "\n",
            "page_content='Congress Sets Politics Aside for Critical Development and Humanitarian Issues. 2014 saw an unprecedented number of humanitarian crises around the globe. At the same time, this year's mid-term congressional elections brought partisan tensions to new highs inside the Washington Beltway.' metadata={'id': '111662', 'category': 'IMPACT', 'date': '2014-12-27', 'headline': 'Congress Sets Politics Aside for Critical Development and Humanitarian Issues'}\n",
            "\n",
            "page_content='Leadership and Transparency 2015: The Social Media Imperative. By the time \"trends\" get mentioned in new year forecast blog posts, they can be a little more \"old\" than \"news.\" Though forward motion is always worth celebrating, change usually happens more slowly.' metadata={'id': '110834', 'category': 'BUSINESS', 'date': '2015-01-05', 'headline': 'Leadership and Transparency 2015: The Social Media Imperative'}\n",
            "\n",
            "page_content='Five Emerging Trends for the U.S. Elections. With the Iowa caucuses around the corner, the election fever should ideally be catching up. Far from it. There is an apparent gloom looming large over the American electorate.' metadata={'id': '76589', 'category': 'POLITICS', 'date': '2016-01-31', 'headline': 'Five Emerging Trends for the U.S. Elections'}\n",
            "\n",
            "page_content='The Future of Elections. We need to set an example to the world, which is facing a recession of democratic governance. Exploring ways to empower the people's vote would be the biggest innovation in governance in a long, long time.' metadata={'id': '101009', 'category': 'POLITICS', 'date': '2015-04-29', 'headline': 'The Future of Elections'}\n",
            "\n",
            "page_content='Changing The Political Climate. For months, activists, especially nonprofit and philanthropic leaders have been worrying about how they can best operate' metadata={'id': '38630', 'category': 'POLITICS', 'date': '2017-04-07', 'headline': 'Changing The Political Climate'}\n",
            "\n",
            "page_content='2018: Moving Beyond Trump — Rebuilding Our Civilizations From Source. The year 2017 was strange. Full of surprises. Maybe the most significant and least noticed one came at the very end. Let' metadata={'id': '17298', 'category': 'IMPACT', 'date': '2017-12-30', 'headline': '2018: Moving Beyond Trump — Rebuilding Our Civilizations From Source'}\n",
            "\n",
            "page_content='Data: The Next Political Casualty?. Over the past seven years, tremendous momentum has grown behind the public release of data held by the U.S. government, and governments at all levels.' metadata={'id': '47448', 'category': 'POLITICS', 'date': '2016-12-28', 'headline': 'Data: The Next Political Casualty?'}\n",
            "\n"
          ]
        }
      ],
      "source": [
        "# Return the sources that were used to generate the answer\n",
        "for document in response[\"context\"]:\n",
        "    print(document)\n",
        "    print()"
      ]
    },
    {
      "cell_type": "markdown",
      "metadata": {
        "id": "Nj10stWoSxI-"
      },
      "source": [
        "## 4.7. Expansion Opportunities - Topic extraction"
      ]
    },
    {
      "cell_type": "code",
      "execution_count": 46,
      "metadata": {
        "colab": {
          "base_uri": "https://localhost:8080/",
          "height": 70
        },
        "id": "lugqkU7mXBWv",
        "outputId": "1739e2e4-7262-4b9d-f359-4adb39a1805d"
      },
      "outputs": [
        {
          "data": {
            "application/vnd.google.colaboratory.intrinsic+json": {
              "type": "string"
            },
            "text/plain": [
              "'\\n# Extracting embeddings and metadata from the vectorstore\\nembeddings = []\\nmetadata = []\\n\\nfor i in range(len(vectorstore.docstore._dict)):\\n    embedding_vector = vectorstore.index.reconstruct(i)  # Rebuild embedding by index\\n    embeddings.append(embedding_vector)\\n    doc_id = list(vectorstore.docstore._dict.keys())[i]  # Obtain document ID\\n    metadata.append(vectorstore.docstore._dict[doc_id].metadata)\\n\\nembeddings = np.array(embeddings)\\n'"
            ]
          },
          "execution_count": 46,
          "metadata": {},
          "output_type": "execute_result"
        }
      ],
      "source": [
        "\"\"\"\n",
        "# Extracting embeddings and metadata from the vectorstore\n",
        "embeddings = []\n",
        "metadata = []\n",
        "\n",
        "for i in range(len(vectorstore.docstore._dict)):\n",
        "    embedding_vector = vectorstore.index.reconstruct(i)  # Rebuild embedding by index\n",
        "    embeddings.append(embedding_vector)\n",
        "    doc_id = list(vectorstore.docstore._dict.keys())[i]  # Obtain document ID\n",
        "    metadata.append(vectorstore.docstore._dict[doc_id].metadata)\n",
        "\n",
        "embeddings = np.array(embeddings)\n",
        "\"\"\""
      ]
    },
    {
      "cell_type": "code",
      "execution_count": 47,
      "metadata": {
        "colab": {
          "base_uri": "https://localhost:8080/",
          "height": 53
        },
        "id": "BAoh8Bmu0SjH",
        "outputId": "d72bca22-bf0d-4ee2-d0f2-584a2741d0e1"
      },
      "outputs": [
        {
          "data": {
            "application/vnd.google.colaboratory.intrinsic+json": {
              "type": "string"
            },
            "text/plain": [
              "'\\n# Save embeddings and metadata\\n\\nembeddings_path = \"/content/drive/MyDrive/Colab Notebooks/news_category/results/embeddings.npy\"\\nnp.save(embeddings_path, embeddings)\\n\\nmetadata_path = \"/content/drive/MyDrive/Colab Notebooks/news_category/results/metadata.pkl\"\\nwith open(metadata_path, \"wb\") as f:\\n    pickle.dump(metadata, f)\\n'"
            ]
          },
          "execution_count": 47,
          "metadata": {},
          "output_type": "execute_result"
        }
      ],
      "source": [
        "\"\"\"\n",
        "# Save embeddings and metadata\n",
        "\n",
        "embeddings_path = \"/content/drive/MyDrive/Colab Notebooks/news_category/results/embeddings.npy\"\n",
        "np.save(embeddings_path, embeddings)\n",
        "\n",
        "metadata_path = \"/content/drive/MyDrive/Colab Notebooks/news_category/results/metadata.pkl\"\n",
        "with open(metadata_path, \"wb\") as f:\n",
        "    pickle.dump(metadata, f)\n",
        "\"\"\""
      ]
    },
    {
      "cell_type": "code",
      "execution_count": 48,
      "metadata": {
        "id": "UZPSejq45CJu"
      },
      "outputs": [],
      "source": [
        "# Load embeddings and metadata\n",
        "embeddings_path = \"/content/drive/MyDrive/Colab Notebooks/news_category/results/embeddings.npy\"\n",
        "embeddings = np.load(embeddings_path)\n",
        "metadata_path = \"/content/drive/MyDrive/Colab Notebooks/news_category/results/metadata.pkl\"\n",
        "with open(metadata_path, \"rb\") as f:\n",
        "    metadata = pickle.load(f)"
      ]
    },
    {
      "cell_type": "code",
      "execution_count": 49,
      "metadata": {
        "colab": {
          "base_uri": "https://localhost:8080/",
          "height": 70
        },
        "id": "TbDUPVLOp3xI",
        "outputId": "c8e0bc43-0c97-4c67-fb4a-981d86af3ada"
      },
      "outputs": [
        {
          "data": {
            "application/vnd.google.colaboratory.intrinsic+json": {
              "type": "string"
            },
            "text/plain": [
              "'\\n# Determining the optimal number of clusters using the elbow method\\n\\ndef find_optimal_k(embeddings, max_k=10):\\n    inertia = []\\n    silhouette_scores = []\\n    k_range = range(2, max_k + 1)\\n\\n    for k in k_range:\\n        kmeans = MiniBatchKMeans(n_clusters=k, random_state=42)\\n        kmeans.fit(embeddings)\\n        inertia.append(kmeans.inertia_)\\n        silhouette_scores.append(silhouette_score(embeddings, kmeans.labels_))\\n\\n    return k_range, inertia, silhouette_scores\\n'"
            ]
          },
          "execution_count": 49,
          "metadata": {},
          "output_type": "execute_result"
        }
      ],
      "source": [
        "# Imposssible to execute becouse of the needed time\n",
        "\"\"\"\n",
        "# Determining the optimal number of clusters using the elbow method\n",
        "\n",
        "def find_optimal_k(embeddings, max_k=10):\n",
        "    inertia = []\n",
        "    silhouette_scores = []\n",
        "    k_range = range(2, max_k + 1)\n",
        "\n",
        "    for k in k_range:\n",
        "        kmeans = MiniBatchKMeans(n_clusters=k, random_state=42)\n",
        "        kmeans.fit(embeddings)\n",
        "        inertia.append(kmeans.inertia_)\n",
        "        silhouette_scores.append(silhouette_score(embeddings, kmeans.labels_))\n",
        "\n",
        "    return k_range, inertia, silhouette_scores\n",
        "\"\"\""
      ]
    },
    {
      "cell_type": "code",
      "execution_count": 50,
      "metadata": {
        "id": "-HvWIp7n2yej"
      },
      "outputs": [],
      "source": [
        "# k_range, inertia, silhouette_scores = find_optimal_k(embeddings)"
      ]
    },
    {
      "cell_type": "code",
      "execution_count": 51,
      "metadata": {
        "colab": {
          "base_uri": "https://localhost:8080/",
          "height": 53
        },
        "id": "Df5sECuS21Qv",
        "outputId": "c114614a-0d08-4e86-a985-f95bfd5d4b0b"
      },
      "outputs": [
        {
          "data": {
            "application/vnd.google.colaboratory.intrinsic+json": {
              "type": "string"
            },
            "text/plain": [
              "\"\\n# Visualization of the elbow method\\nplt.figure(figsize=(10, 5))\\nplt.plot(k_range, inertia, marker='o', label='Inertia')\\nplt.xlabel('Number of Clusters (k)')\\nplt.ylabel('Inertia')\\nplt.title('Elbow Method for Optimal k')\\nplt.legend()\\nplt.show()\\n\""
            ]
          },
          "execution_count": 51,
          "metadata": {},
          "output_type": "execute_result"
        }
      ],
      "source": [
        "\"\"\"\n",
        "# Visualization of the elbow method\n",
        "plt.figure(figsize=(10, 5))\n",
        "plt.plot(k_range, inertia, marker='o', label='Inertia')\n",
        "plt.xlabel('Number of Clusters (k)')\n",
        "plt.ylabel('Inertia')\n",
        "plt.title('Elbow Method for Optimal k')\n",
        "plt.legend()\n",
        "plt.show()\n",
        "\"\"\""
      ]
    },
    {
      "cell_type": "code",
      "execution_count": 52,
      "metadata": {
        "colab": {
          "base_uri": "https://localhost:8080/",
          "height": 53
        },
        "id": "0gsG_g-e26Lr",
        "outputId": "9e40e654-d5bf-48f9-c3ce-114e1d95b4f6"
      },
      "outputs": [
        {
          "data": {
            "application/vnd.google.colaboratory.intrinsic+json": {
              "type": "string"
            },
            "text/plain": [
              "\"\\n# Display of the silhouette score\\nplt.figure(figsize=(10, 5))\\nplt.plot(k_range, silhouette_scores, marker='o', label='Silhouette Score', color='orange')\\nplt.xlabel('Number of Clusters (k)')\\nplt.ylabel('Silhouette Score')\\nplt.title('Silhouette Analysis for Optimal k')\\nplt.legend()\\nplt.show()\\n\""
            ]
          },
          "execution_count": 52,
          "metadata": {},
          "output_type": "execute_result"
        }
      ],
      "source": [
        "\"\"\"\n",
        "# Display of the silhouette score\n",
        "plt.figure(figsize=(10, 5))\n",
        "plt.plot(k_range, silhouette_scores, marker='o', label='Silhouette Score', color='orange')\n",
        "plt.xlabel('Number of Clusters (k)')\n",
        "plt.ylabel('Silhouette Score')\n",
        "plt.title('Silhouette Analysis for Optimal k')\n",
        "plt.legend()\n",
        "plt.show()\n",
        "\"\"\""
      ]
    },
    {
      "cell_type": "code",
      "execution_count": 53,
      "metadata": {
        "id": "iLopUQUN3CrN"
      },
      "outputs": [],
      "source": [
        "# Choose the optimal number of clusters\n",
        "optimal_k = 21 # Half of the possible categories\n",
        "\n",
        "# Create K-Means model with optimal number of clusters\n",
        "kmeans = KMeans(n_clusters=optimal_k, random_state=42)\n",
        "labels = kmeans.fit_predict(embeddings)"
      ]
    },
    {
      "cell_type": "code",
      "execution_count": 54,
      "metadata": {
        "colab": {
          "base_uri": "https://localhost:8080/"
        },
        "id": "-Pn1gyI63nsn",
        "outputId": "df85922d-db48-4059-cc75-1e30c4467867"
      },
      "outputs": [
        {
          "name": "stdout",
          "output_type": "stream",
          "text": [
            "Cluster 15: 8580 documents\n",
            "  - Over 4 Million Americans Roll Up Sleeves For Omicron-Targeted COVID Boosters (Category: U.S. NEWS)\n",
            "  - CDC Director To Overhaul Agency With COVID Shortcomings In Mind (Category: POLITICS)\n",
            "  - General Motors Recalls Over 484,000 Vehicles Over 'Improperly'-Formed Seat Belts (Category: U.S. NEWS)\n",
            "  - Planned Parenthood To Spend Record $50 Million For Midterms (Category: POLITICS)\n",
            "  - Dog Catches Monkeypox In France In First Suspected Human-To-Pet Transmission (Category: U.S. NEWS)\n",
            "\n",
            "Cluster 0: 8726 documents\n",
            "  - American Airlines Flyer Charged, Banned For Life After Punching Flight Attendant On Video (Category: U.S. NEWS)\n",
            "  - Cleaner Was Dead In Belk Bathroom For 4 Days Before Body Found: Police (Category: U.S. NEWS)\n",
            "  - Man Sets Himself On Fire In Apparent Protest Of Funeral For Japan's Abe (Category: WORLD NEWS)\n",
            "  - Russian Cosmonaut Valery Polyakov Who Broke Record With 437-Day Stay In Space Dies At 80 (Category: WORLD NEWS)\n",
            "  - Maury Wills, Base-Stealing Shortstop For Dodgers, Dies At 89 (Category: SPORTS)\n",
            "\n",
            "Cluster 8: 11012 documents\n",
            "  - 23 Of The Funniest Tweets About Cats And Dogs This Week (Sept. 17-23) (Category: COMEDY)\n",
            "  - Wendy's Pulls Lettuce From Sandwiches After Dozens Fall Sick From E. Coli (Category: U.S. NEWS)\n",
            "  - French Scientist Trolls Twitter By Claiming Chorizo Slice Is Actually A Distant Star (Category: WEIRD NEWS)\n",
            "  - I Cooked For The World's 1%, But I Traded It To Make School Lunches (Category: FOOD & DRINK)\n",
            "  - Orange Wine: Everything You Need To Know And Probably Didn't (Category: FOOD & DRINK)\n",
            "\n",
            "Cluster 17: 12018 documents\n",
            "  - The Funniest Tweets From Parents This Week (Sept. 17-23) (Category: PARENTING)\n",
            "  - This Breastfeeding Condition Makes Moms Feel Dread, Disgust And Despair (Category: PARENTING)\n",
            "  - Parents Arrested After Attempting To Grab Their Children During School Lockdown (Category: U.S. NEWS)\n",
            "  - The Problem With The AAP's New Breastfeeding Guidelines (Category: PARENTING)\n",
            "  - Elon Musk Reportedly Had Twins Last Year With One Of His Company Execs (Category: U.S. NEWS)\n",
            "\n",
            "Cluster 12: 8882 documents\n",
            "  - Woman Who Called Cops On Black Bird-Watcher Loses Lawsuit Against Ex-Employer (Category: U.S. NEWS)\n",
            "  - Virginia Thomas Agrees To Interview With Jan. 6 Panel (Category: U.S. NEWS)\n",
            "  - Watchdog Report Finds Some Census Takers Who Fudged 2020 Data Didn’t Get Fired (Category: U.S. NEWS)\n",
            "  - Mark Meadows Complies With Justice Dept. Subpoena: Report (Category: POLITICS)\n",
            "  - Bill Richardson Visits Moscow As Brittney Griner, Paul Whelan Remain Jailed (Category: WORLD NEWS)\n",
            "\n",
            "Cluster 1: 12472 documents\n",
            "  - Reporter Gets Adorable Surprise From Her Boyfriend While Live On TV (Category: U.S. NEWS)\n",
            "  - How A New Documentary Captures The Complexity Of Being A Child Of Immigrants (Category: CULTURE & ARTS)\n",
            "  - Las Vegas Aces Win First WNBA Title, Chelsea Gray Named MVP (Category: SPORTS)\n",
            "  - World Leaders Pay Respects To Queen Elizabeth II (Category: WORLD NEWS)\n",
            "  - Meet Alex Aster, The TikToker Changing The Publishing Industry For The Better (Category: CULTURE & ARTS)\n",
            "\n",
            "Cluster 6: 5537 documents\n",
            "  - Puerto Ricans Desperate For Water After Hurricane Fiona’s Rampage (Category: WORLD NEWS)\n",
            "  - Fiona Threatens To Become Category 4 Storm Headed To Bermuda (Category: WORLD NEWS)\n",
            "  - Fiona Barrels Toward Turks And Caicos Islands As Category 3 Hurricane (Category: WORLD NEWS)\n",
            "  - Hurricane Fiona Bears Down On Dominican Republic After Pounding Puerto Rico (Category: WORLD NEWS)\n",
            "  - First Public Global Database Of Fossil Fuels Launches (Category: ENVIRONMENT)\n",
            "\n",
            "Cluster 4: 8170 documents\n",
            "  - Biden At UN To Call Russian War An Affront To Body's Charter (Category: WORLD NEWS)\n",
            "  - World Cup Captains Want To Wear Rainbow Armbands In Qatar (Category: WORLD NEWS)\n",
            "  - 4 Russian-Controlled Ukrainian Regions Schedule Votes This Week To Join Russia (Category: WORLD NEWS)\n",
            "  - Biden Says U.S. Forces Would Defend Taiwan If China Invaded (Category: POLITICS)\n",
            "  - Biden Honors 9/11 Victims, Vows Commitment To Thwart Terror (Category: POLITICS)\n",
            "\n",
            "Cluster 7: 11332 documents\n",
            "  - Twitch Bans Gambling Sites After Streamer Scams Folks Out Of $200,000 (Category: TECH)\n",
            "  - Possible Nationwide Rail Strike Is Already Impacting Travelers, Businesses (Category: U.S. NEWS)\n",
            "  - TikTok Search Results Riddled With Misinformation: Report (Category: TECH)\n",
            "  - U.S. Inflation Falls For 2nd Straight Month On Lower Gas Costs (Category: U.S. NEWS)\n",
            "  - Thousands Of Minnesota Nurses Launch 3-day Strike Over Pay (Category: U.S. NEWS)\n",
            "\n",
            "Cluster 11: 15768 documents\n",
            "  - 'Reboot' Is A Clever And Not Too Navel-Gazey Look Inside TV Reboots (Category: CULTURE & ARTS)\n",
            "  - Golden Globes Returning To NBC In January After Year Off-Air (Category: ENTERTAINMENT)\n",
            "  - James Cameron Says He 'Clashed' With Studio Before 'Avatar' Release (Category: ENTERTAINMENT)\n",
            "  - Biden Says Queen's Death Left 'Giant Hole' For Royal Family (Category: POLITICS)\n",
            "  - Amazon Greenlights 'Blade Runner 2099' Limited Series Produced By Ridley Scott (Category: ENTERTAINMENT)\n",
            "\n",
            "Cluster 13: 9888 documents\n",
            "  - ‘Beautiful And Sad At The Same Time’: Ukrainian Cultural Festival Takes On A Deeper Meaning This Year (Category: POLITICS)\n",
            "  - Tiger To Meet With Top Players Against LIV Golf (Category: SPORTS)\n",
            "  - Volcano Near Iceland’s Main Airport Erupts Again (Category: WORLD NEWS)\n",
            "  - Ancient Tomb Linked By Legend To King Arthur To Be Excavated For First Time (Category: SCIENCE)\n",
            "  - UK Royals’ Spending Up 17%, Mostly For Palace Overhaul Costs (Category: WORLD NEWS)\n",
            "\n",
            "Cluster 9: 11530 documents\n",
            "  - 'French Spider-Man' Celebrates 60th Birthday With A Massive Skyscraper Climb (Category: WEIRD NEWS)\n",
            "  - German Customs Officials Follow Trail Of Slime And Find Bags Of Giant Snails (Category: WEIRD NEWS)\n",
            "  - A Fisherman Thought He Caught A Rock. He Snagged A Prehistoric Treasure Instead. (Category: WEIRD NEWS)\n",
            "  - Feathers Fly As Wild Turkey Dodges Cops In Slapstick Apartment Chase (Category: WEIRD NEWS)\n",
            "  - Canadian Man Uses Giant Billboard To Get Rid Of Leftover Dairy Product In Fridge (Category: WEIRD NEWS)\n",
            "\n",
            "Cluster 16: 12092 documents\n",
            "  - Bill To Help Afghans Who Escaped Taliban Faces Long Odds In The Senate (Category: POLITICS)\n",
            "  - Democrats Nominate Seth Magaziner In Key Rhode Island House Race (Category: POLITICS)\n",
            "  - Sen. Tim Scott Downplays Electability Concerns Over Struggling Senate GOP Candidates (Category: POLITICS)\n",
            "  - Electability Is On The Ballot In Key Rhode Island House Primary (Category: POLITICS)\n",
            "  - Trump-Endorsed Wisconsin Gubernatorial Candidate Tells Voters To Take Up Pitchforks (Category: POLITICS)\n",
            "\n",
            "Cluster 5: 6516 documents\n",
            "  - Podcasters Offer $100K Reward For Information On 2Pac’s Killers (Category: ENTERTAINMENT)\n",
            "  - Cardi B Donates $100,000 To Her Old Middle School In The Bronx (Category: ENTERTAINMENT)\n",
            "  - Watch Harry Styles Pay Tribute To Queen Elizabeth II At NYC Concert (Category: ENTERTAINMENT)\n",
            "  - Harry Styles Say He Feels Like He Has 'No Idea What I'm Doing' When Acting (Category: ENTERTAINMENT)\n",
            "  - Lisa Loeb Paved Her Own Way In The '90s — A Rare Feat For Independent Artists Of The Time (Category: CULTURE & ARTS)\n",
            "\n",
            "Cluster 20: 8773 documents\n",
            "  - Joe Biden Urges National Unity In Speech On Renewed ‘Cancer Moonshot’ (Category: POLITICS)\n",
            "  - Mississippi Governor Says Water Pressure Is Now 'Solid' In Jackson (Category: U.S. NEWS)\n",
            "  - A Ku Klux Klan Plaque Is Mounted At West Point's Science Center, Commission Finds (Category: U.S. NEWS)\n",
            "  - Teachers In Ohio's Largest School District Go On Strike (Category: POLITICS)\n",
            "  - Minneapolis Teacher Contract Race Language Ignites Firestorm (Category: EDUCATION)\n",
            "\n",
            "Cluster 3: 6496 documents\n",
            "  - Boston Marathon To Make Race More Inclusive For Nonbinary Runners (Category: SPORTS)\n",
            "  - Trans Woman Can't Be Considered Parent Of Her Own Child, Rules Tokyo Court (Category: WORLD NEWS)\n",
            "  - LGBTQ Pride Events Will Have Priority Access To Monkeypox Vaccines, Health Officials Say (Category: U.S. NEWS)\n",
            "  - Spirituality Has A New Face — And It’s Queer As Hell (Category: QUEER VOICES)\n",
            "  - Charles Barkley: 'If You're Gay Or Transgender, I Love You!' (Category: SPORTS)\n",
            "\n",
            "Cluster 2: 14527 documents\n",
            "  - In A Nod To JFK, Joe Biden Pushing 'Moonshot' To Fight Cancer (Category: POLITICS)\n",
            "  - Rep. Jim Jordan's Judiciary Twitter Account Finds 'Threat' In Pic Of Docs At Trump Home (Category: POLITICS)\n",
            "  - Republicans Ignore Trump's Hoarding Of Classified Documents (Category: POLITICS)\n",
            "  - ‘Fox & Friends’ Host Questions Why Trump Kept Classified Documents At Mar-A-Lago (Category: POLITICS)\n",
            "  - Secret Service Official And Ex-Trump Aide Tony Ornato Retires Amid Jan. 6 Probe (Category: POLITICS)\n",
            "\n",
            "Cluster 18: 10127 documents\n",
            "  - Michelle Obama Celebrated For Wearing Braids To Her White House Portrait Unveiling (Category: ENTERTAINMENT)\n",
            "  - 2022 MTV VMAs Red Carpet: All The Wildest Looks You Need To See (Category: ENTERTAINMENT)\n",
            "  - How To Hide Even The Worst Tan Lines, According To Makeup Pros (Category: STYLE & BEAUTY)\n",
            "  - Miley Cyrus Has A Very On-Brand Response To Selena Gomez's 'SNL' Impression (Category: ENTERTAINMENT)\n",
            "  - The Rise Of The BBL: How Getting A Brazilian Butt Lift Impacted These Patients (Category: CULTURE & ARTS)\n",
            "\n",
            "Cluster 14: 7420 documents\n",
            "  - Should You Freeze-Dry Your Breast Milk? (Category: PARENTING)\n",
            "  - 6 Signs You’re Grinding Your Teeth At Night (And What To Do About It) (Category: WELLNESS)\n",
            "  - How To Tell If Your Chest Pain Is A Heart Problem (Category: WELLNESS)\n",
            "  - 4 'Micro-Transitions' In Your Day That May Be Causing You Anxiety (Category: WELLNESS)\n",
            "  - Why You Feel Hungover After An Anxiety Or Panic Attack (Category: WELLNESS)\n",
            "\n",
            "Cluster 10: 12686 documents\n",
            "  - What Is Compassion Fatigue? Here Are The Signs You're Experiencing It. (Category: WELLNESS)\n",
            "  - This Made Me: How Pop Culture Has Shaped Our Lives (Category: CULTURE & ARTS)\n",
            "  - 22 Tiny Mental Health Habits That Can Improve Your Life In 2022 (Category: WELLNESS)\n",
            "  - Are You Self-Gaslighting? Here's How To Spot The Destructive Behavior. (Category: WELLNESS)\n",
            "  - The Best Happiness Advice People Learned In Therapy (Category: WELLNESS)\n",
            "\n",
            "Cluster 19: 6975 documents\n",
            "  - Kellyanne Conway Finally Admits Marriage With George Conway Is On The Rocks (Category: POLITICS)\n",
            "  - Man Pops The Question After Engagement Ring Survives Car Fire (Category: WEIRD NEWS)\n",
            "  - Donald Trump Says Prince Harry Is 'Whipped' In Marriage To Meghan Markle (Category: POLITICS)\n",
            "  - Engaged Hockey Star And Bobsledder Reunite At Winter Olympics — After 3 Months Apart (Category: SPORTS)\n",
            "  - Adam Rippon Married Jussi-Pekka Kajaala In Secret New Year's Eve Ceremony (Category: ENTERTAINMENT)\n",
            "\n"
          ]
        }
      ],
      "source": [
        "# Associate each item with its cluster\n",
        "clustered_documents = {}\n",
        "for idx, label in enumerate(labels):\n",
        "    if label not in clustered_documents:\n",
        "        clustered_documents[label] = []\n",
        "    clustered_documents[label].append(metadata[idx])\n",
        "\n",
        "# Show document distribution by cluster\n",
        "for cluster_id, docs in clustered_documents.items():\n",
        "    print(f\"Cluster {cluster_id}: {len(docs)} documents\")\n",
        "    for doc in docs[:5]:\n",
        "        print(f\"  - {doc['headline']} (Category: {doc['category']})\")\n",
        "    print()"
      ]
    },
    {
      "cell_type": "markdown",
      "metadata": {
        "id": "pJmFvtq35C6e"
      },
      "source": [
        "###  Naming and Explaining Clusters"
      ]
    },
    {
      "cell_type": "code",
      "execution_count": 55,
      "metadata": {
        "id": "QW-vAlUY7VLU"
      },
      "outputs": [],
      "source": [
        "# Initialize the LLM model with higher temperature\n",
        "llm_mistralai_2 = ChatMistralAI(\n",
        "    model=\"open-mistral-nemo\",\n",
        "    temperature=0.5,\n",
        "    #max_tokens=500\n",
        "    )"
      ]
    },
    {
      "cell_type": "code",
      "execution_count": 56,
      "metadata": {
        "id": "wMe590dq5EEk"
      },
      "outputs": [],
      "source": [
        "# Define prompt for naming and explaining clusters\n",
        "prompt_template_2 = \"\"\"\n",
        "You are an expert in summarizing and analyzing content clusters.\n",
        "For each group of documents, you will:\n",
        "1. Provide a **name** that summarizes the main theme of the group.\n",
        "2. Provide a **short explanation** (2-3 sentences) describing the common traits or topics covered in the documents.\n",
        "\n",
        "Here is an example cluster of documents:\n",
        "{examples}\n",
        "\n",
        "Respond in this format:\n",
        "Cluster Name: <Name>\n",
        "Explanation: <Explanation>\n",
        "\"\"\""
      ]
    },
    {
      "cell_type": "code",
      "execution_count": 57,
      "metadata": {
        "id": "AioqwyJR61uQ"
      },
      "outputs": [],
      "source": [
        "prompt_2 = ChatPromptTemplate.from_template(prompt_template_2)"
      ]
    },
    {
      "cell_type": "code",
      "execution_count": 58,
      "metadata": {
        "id": "Ja44irPJ7KI0"
      },
      "outputs": [],
      "source": [
        "# Create the pipeline using RunnableSequence\n",
        "pipeline = prompt_2 | llm_mistralai_2 | StrOutputParser()"
      ]
    },
    {
      "cell_type": "code",
      "execution_count": 75,
      "metadata": {
        "id": "MZT1hEIf7n8p"
      },
      "outputs": [],
      "source": [
        "TIME_BETWEEN_REQUESTS = 5\n",
        "\n",
        "# Function for generating cluster names and explanations\n",
        "def generate_cluster_descriptions(clustered_documents, num_examples=5, delay=TIME_BETWEEN_REQUESTS):\n",
        "    \"\"\"\n",
        "    Generates cluster names and explanations using an LLM.\n",
        "\n",
        "    Args:\n",
        "        clustered_documents (dict): Dictionary with cluster IDs as keys and lists of document metadata as values.\n",
        "        num_examples (int): Number of examples from each cluster to pass to the LLM.\n",
        "\n",
        "    Returns:\n",
        "        dict: A dictionary with cluster IDs as keys and cluster descriptions as values.\n",
        "    \"\"\"\n",
        "    cluster_descriptions = {}\n",
        "    for cluster_id, docs in clustered_documents.items():\n",
        "        # Create a sample of representative examples of the cluster\n",
        "        examples = \"\\n\".join(\n",
        "            [f\"- {doc['headline']} (Category: {doc['category']})\" for doc in docs[:num_examples]]\n",
        "        )\n",
        "\n",
        "        try:\n",
        "            # Generate cluster name and explanation\n",
        "            response = pipeline.invoke({\"examples\": examples})\n",
        "            cluster_descriptions[cluster_id] = response\n",
        "\n",
        "            print(f\"Processed Cluster {cluster_id}:\\n{response}\\n\")\n",
        "\n",
        "        except Exception as e:\n",
        "            print(f\"Error processing Cluster {cluster_id}: {e}\")\n",
        "            cluster_descriptions[cluster_id] = f\"Error: {e}\"\n",
        "\n",
        "        # Wait\n",
        "        time.sleep(delay)\n",
        "\n",
        "    return cluster_descriptions"
      ]
    },
    {
      "cell_type": "code",
      "execution_count": 76,
      "metadata": {
        "colab": {
          "base_uri": "https://localhost:8080/"
        },
        "id": "mWMcb9AW7n7W",
        "outputId": "090cdbee-f271-4b26-ba45-4268abb59730"
      },
      "outputs": [
        {
          "name": "stdout",
          "output_type": "stream",
          "text": [
            "Processed Cluster 15:\n",
            "**Cluster Name:** Public Health and Safety Concerns\n",
            "\n",
            "**Explanation:** This cluster of documents revolves around public health and safety issues, including the rollout of COVID-19 boosters, the overhaul of the CDC due to COVID-19 shortcomings, and the first suspected human-to-pet transmission of Monkeypox. Additionally, it covers a significant vehicle recall for safety reasons.\n",
            "\n",
            "Processed Cluster 0:\n",
            "**Cluster Name:** Unusual Incidents and Celebrity Deaths\n",
            "\n",
            "**Explanation:** This cluster of documents covers a mix of unusual and disturbing incidents, such as a passenger assaulting a flight attendant and a cleaner's body going unnoticed for days, as well as the deaths of notable figures, including a Russian cosmonaut and a baseball player.\n",
            "\n",
            "Processed Cluster 8:\n",
            "**Cluster Name:** Animal Antics & Oddities\n",
            "\n",
            "**Explanation:** This cluster revolves around humorous and unusual content, with a focus on animals and food. It includes funny tweets about cats and dogs, a peculiar claim about chorizo, and an unexpected career swap involving cooking for the elite. Additionally, it provides information on an unconventional wine type, further adding to the cluster's eccentric theme.\n",
            "\n",
            "Processed Cluster 17:\n",
            "**Cluster Name:** Parenting Challenges and Celebrations\n",
            "**Explanation:** This cluster revolves around the highs and lows of parenting, from the humor and joy found in everyday family life to the serious challenges and controversies faced by parents, such as breastfeeding struggles and school lockdown incidents.\n",
            "\n",
            "Processed Cluster 12:\n",
            "**Cluster Name:** Legal and Political Accountability\n",
            "**Explanation:** This cluster revolves around legal and political accountability, featuring cases involving lawsuits, investigations, and subpoenas. It includes a woman suing her former employer after facing consequences for a racial incident, a high-profile figure agreeing to testify in a major political investigation, an audit of government employees' honesty, and a former political official complying with a legal demand.\n",
            "\n",
            "Processed Cluster 1:\n",
            "**Cluster Name:** Celebrations, Surprises, and Tributes\n",
            "\n",
            "**Explanation:** This cluster revolves around joyous moments and unexpected events, such as a reporter's surprise proposal (U.S. News) and a TikToker's impact on the publishing industry (Culture & Arts). It also includes significant achievements like the Las Vegas Aces winning the WNBA title (Sports) and global tributes to Queen Elizabeth II (World News).\n",
            "\n",
            "Processed Cluster 6:\n",
            "**Cluster Name:** Hurricane Fiona's Impact and Global Climate Concerns\n",
            "**Explanation:** This cluster revolves around the devastating effects of Hurricane Fiona, particularly its impact on Puerto Rico and other Caribbean islands, as well as the broader global concern of climate change, highlighted by the launch of the first public global database of fossil fuels.\n",
            "\n",
            "Processed Cluster 4:\n",
            "**Cluster Name:** Global Tensions and Political Stance\n",
            "**Explanation:** This cluster revolves around international relations and political stance, with a focus on U.S. President Biden's responses to global conflicts and human rights issues. It includes his address at the UN regarding Russia's war in Ukraine, his commitment to countering terrorism, and his stance on potential military interventions in Taiwan and the Middle East. Additionally, it covers the World Cup captains' protest against Qatar's human rights record.\n",
            "\n",
            "Processed Cluster 7:\n",
            "**Cluster Name:** Tech Platforms & U.S. Labor Unrest\n",
            "**Explanation:** This cluster revolves around recent developments in tech platforms' policies and enforcement, as well as ongoing labor disputes in the U.S., particularly in the healthcare sector.\n",
            "\n",
            "Processed Cluster 11:\n",
            "**Cluster Name:** Hollywood & Media Spotlight\n",
            "**Explanation:** This cluster revolves around the entertainment industry, focusing on TV and movie reboots, award shows, and high-profile productions. It also includes a political perspective on the passing of a significant royal figure, highlighting the intersection of entertainment and politics.\n",
            "\n",
            "Processed Cluster 13:\n",
            "**Cluster Name:** Global Events and Royal Affairs\n",
            "\n",
            "**Explanation:** This cluster revolves around significant happenings around the world, including a cultural festival in Ukraine that has taken on a deeper political meaning due to the ongoing conflict, a volcanic eruption near Iceland's main airport causing potential travel disruptions, and an update on the spending of the UK's royal family, which has increased by 17% mainly due to palace overhaul costs. Additionally, the cluster includes a sports news story about the Tiger Woods' meeting with top players against the LIV Golf series, indicating a significant event in the world of sports.\n",
            "\n",
            "Processed Cluster 9:\n",
            "**Cluster Name:** Unusual Encounters and Events\n",
            "**Explanation:** This cluster revolves around peculiar and amusing news stories that defy everyday expectations, ranging from a French Spider-Man celebrating his birthday in an unconventional manner to a Canadian man disposing of leftover dairy in a creative way, and various odd occurrences involving animals and customs officials.\n",
            "\n",
            "Processed Cluster 16:\n",
            "**Cluster Name:** Political Dynamics and Elections\n",
            "**Explanation:** This cluster revolves around political dynamics and elections, focusing on the U.S. Senate and House races. It covers the challenges faced by Afghan refugees, the nomination process for Democratic candidates, electability concerns, and the influence of endorsements, as exemplified by Trump's backing in Wisconsin.\n",
            "\n",
            "Processed Cluster 5:\n",
            "**Cluster Name:** Celebrity News and Achievements\n",
            "**Explanation:** This cluster revolves around recent and notable events involving celebrities, including rewards offered for information, charitable donations, tributes, and personal reflections on their careers.\n",
            "\n",
            "Processed Cluster 20:\n",
            "**Cluster Name:** Political and Social Unrest in the U.S.\n",
            "**Explanation:** This cluster revolves around contentious political and social issues in the U.S., including national unity and healthcare initiatives (Biden's 'Cancer Moonshot'), racial tensions and discrimination (KKK plaque at West Point), and labor disputes in education (teacher strikes in Ohio and Minneapolis).\n",
            "\n",
            "Processed Cluster 3:\n",
            "**Cluster Name:** Advancements and Inclusivity in LGBTQ+ Rights and Representation\n",
            "**Explanation:** This cluster of documents revolves around the progress and challenges faced by the LGBTQ+ community, focusing on topics such as nonbinary inclusivity in sports, legal battles for trans rights, prioritization of LGBTQ+ individuals in healthcare, and the increasing visibility and acceptance of LGBTQ+ individuals in various aspects of society, including spirituality and public figures' support.\n",
            "\n",
            "Processed Cluster 2:\n",
            "**Cluster Name:** Trump's Handling of Classified Documents and Related Political Fallout\n",
            "**Explanation:** This cluster revolves around the political implications and reactions to former President Trump's retention of classified documents at his Mar-a-Lago residence, including the Secret Service's involvement in the matter and the Republican Party's stance on the issue.\n",
            "\n",
            "Processed Cluster 18:\n",
            "**Cluster Name:** Celebrity Fashion, Beauty, and Body Trends\n",
            "\n",
            "**Explanation:** This cluster revolves around the intersection of celebrity culture, fashion, and beauty trends. It includes discussions on Michelle Obama's hairstyle choice at a public event, the red carpet looks at a major music awards show, makeup tips for concealing tan lines, and a celebrity's response to another's impersonation. Additionally, it explores the cultural impact of a specific cosmetic surgery procedure, the Brazilian Butt Lift, tying in the theme of body trends and transformations.\n",
            "\n",
            "Processed Cluster 14:\n",
            "**Cluster Name:** Health and Well-being Concerns\n",
            "**Explanation:** This cluster revolves around personal health and wellness, with articles discussing specific health issues (teeth grinding, chest pain, anxiety), their causes, and potential solutions. It also includes a parenting article that touches on health-related practices (freeze-drying breast milk).\n",
            "\n",
            "Processed Cluster 10:\n",
            "**Cluster Name:** Mental Health and Well-being in Daily Life\n",
            "**Explanation:** This cluster revolves around mental health and wellness, exploring various aspects such as compassion fatigue, self-gaslighting, and happiness advice from therapy. It also delves into how pop culture influences our lives, tying in with the mental health theme as it affects our daily experiences and emotions.\n",
            "\n",
            "Processed Cluster 19:\n",
            "**Cluster Name:** Celebrity & Political Marriages in Turmoil and Triumph\n",
            "**Explanation:** This cluster revolves around the ups and downs of marriages involving prominent political figures and celebrities, including admissions of marital strain, unusual engagement stories, and secret weddings.\n",
            "\n",
            "Cluster 15:\n",
            "**Cluster Name:** Public Health and Safety Concerns\n",
            "\n",
            "**Explanation:** This cluster of documents revolves around public health and safety issues, including the rollout of COVID-19 boosters, the overhaul of the CDC due to COVID-19 shortcomings, and the first suspected human-to-pet transmission of Monkeypox. Additionally, it covers a significant vehicle recall for safety reasons.\n",
            "\n",
            "Cluster 0:\n",
            "**Cluster Name:** Unusual Incidents and Celebrity Deaths\n",
            "\n",
            "**Explanation:** This cluster of documents covers a mix of unusual and disturbing incidents, such as a passenger assaulting a flight attendant and a cleaner's body going unnoticed for days, as well as the deaths of notable figures, including a Russian cosmonaut and a baseball player.\n",
            "\n",
            "Cluster 8:\n",
            "**Cluster Name:** Animal Antics & Oddities\n",
            "\n",
            "**Explanation:** This cluster revolves around humorous and unusual content, with a focus on animals and food. It includes funny tweets about cats and dogs, a peculiar claim about chorizo, and an unexpected career swap involving cooking for the elite. Additionally, it provides information on an unconventional wine type, further adding to the cluster's eccentric theme.\n",
            "\n",
            "Cluster 17:\n",
            "**Cluster Name:** Parenting Challenges and Celebrations\n",
            "**Explanation:** This cluster revolves around the highs and lows of parenting, from the humor and joy found in everyday family life to the serious challenges and controversies faced by parents, such as breastfeeding struggles and school lockdown incidents.\n",
            "\n",
            "Cluster 12:\n",
            "**Cluster Name:** Legal and Political Accountability\n",
            "**Explanation:** This cluster revolves around legal and political accountability, featuring cases involving lawsuits, investigations, and subpoenas. It includes a woman suing her former employer after facing consequences for a racial incident, a high-profile figure agreeing to testify in a major political investigation, an audit of government employees' honesty, and a former political official complying with a legal demand.\n",
            "\n",
            "Cluster 1:\n",
            "**Cluster Name:** Celebrations, Surprises, and Tributes\n",
            "\n",
            "**Explanation:** This cluster revolves around joyous moments and unexpected events, such as a reporter's surprise proposal (U.S. News) and a TikToker's impact on the publishing industry (Culture & Arts). It also includes significant achievements like the Las Vegas Aces winning the WNBA title (Sports) and global tributes to Queen Elizabeth II (World News).\n",
            "\n",
            "Cluster 6:\n",
            "**Cluster Name:** Hurricane Fiona's Impact and Global Climate Concerns\n",
            "**Explanation:** This cluster revolves around the devastating effects of Hurricane Fiona, particularly its impact on Puerto Rico and other Caribbean islands, as well as the broader global concern of climate change, highlighted by the launch of the first public global database of fossil fuels.\n",
            "\n",
            "Cluster 4:\n",
            "**Cluster Name:** Global Tensions and Political Stance\n",
            "**Explanation:** This cluster revolves around international relations and political stance, with a focus on U.S. President Biden's responses to global conflicts and human rights issues. It includes his address at the UN regarding Russia's war in Ukraine, his commitment to countering terrorism, and his stance on potential military interventions in Taiwan and the Middle East. Additionally, it covers the World Cup captains' protest against Qatar's human rights record.\n",
            "\n",
            "Cluster 7:\n",
            "**Cluster Name:** Tech Platforms & U.S. Labor Unrest\n",
            "**Explanation:** This cluster revolves around recent developments in tech platforms' policies and enforcement, as well as ongoing labor disputes in the U.S., particularly in the healthcare sector.\n",
            "\n",
            "Cluster 11:\n",
            "**Cluster Name:** Hollywood & Media Spotlight\n",
            "**Explanation:** This cluster revolves around the entertainment industry, focusing on TV and movie reboots, award shows, and high-profile productions. It also includes a political perspective on the passing of a significant royal figure, highlighting the intersection of entertainment and politics.\n",
            "\n",
            "Cluster 13:\n",
            "**Cluster Name:** Global Events and Royal Affairs\n",
            "\n",
            "**Explanation:** This cluster revolves around significant happenings around the world, including a cultural festival in Ukraine that has taken on a deeper political meaning due to the ongoing conflict, a volcanic eruption near Iceland's main airport causing potential travel disruptions, and an update on the spending of the UK's royal family, which has increased by 17% mainly due to palace overhaul costs. Additionally, the cluster includes a sports news story about the Tiger Woods' meeting with top players against the LIV Golf series, indicating a significant event in the world of sports.\n",
            "\n",
            "Cluster 9:\n",
            "**Cluster Name:** Unusual Encounters and Events\n",
            "**Explanation:** This cluster revolves around peculiar and amusing news stories that defy everyday expectations, ranging from a French Spider-Man celebrating his birthday in an unconventional manner to a Canadian man disposing of leftover dairy in a creative way, and various odd occurrences involving animals and customs officials.\n",
            "\n",
            "Cluster 16:\n",
            "**Cluster Name:** Political Dynamics and Elections\n",
            "**Explanation:** This cluster revolves around political dynamics and elections, focusing on the U.S. Senate and House races. It covers the challenges faced by Afghan refugees, the nomination process for Democratic candidates, electability concerns, and the influence of endorsements, as exemplified by Trump's backing in Wisconsin.\n",
            "\n",
            "Cluster 5:\n",
            "**Cluster Name:** Celebrity News and Achievements\n",
            "**Explanation:** This cluster revolves around recent and notable events involving celebrities, including rewards offered for information, charitable donations, tributes, and personal reflections on their careers.\n",
            "\n",
            "Cluster 20:\n",
            "**Cluster Name:** Political and Social Unrest in the U.S.\n",
            "**Explanation:** This cluster revolves around contentious political and social issues in the U.S., including national unity and healthcare initiatives (Biden's 'Cancer Moonshot'), racial tensions and discrimination (KKK plaque at West Point), and labor disputes in education (teacher strikes in Ohio and Minneapolis).\n",
            "\n",
            "Cluster 3:\n",
            "**Cluster Name:** Advancements and Inclusivity in LGBTQ+ Rights and Representation\n",
            "**Explanation:** This cluster of documents revolves around the progress and challenges faced by the LGBTQ+ community, focusing on topics such as nonbinary inclusivity in sports, legal battles for trans rights, prioritization of LGBTQ+ individuals in healthcare, and the increasing visibility and acceptance of LGBTQ+ individuals in various aspects of society, including spirituality and public figures' support.\n",
            "\n",
            "Cluster 2:\n",
            "**Cluster Name:** Trump's Handling of Classified Documents and Related Political Fallout\n",
            "**Explanation:** This cluster revolves around the political implications and reactions to former President Trump's retention of classified documents at his Mar-a-Lago residence, including the Secret Service's involvement in the matter and the Republican Party's stance on the issue.\n",
            "\n",
            "Cluster 18:\n",
            "**Cluster Name:** Celebrity Fashion, Beauty, and Body Trends\n",
            "\n",
            "**Explanation:** This cluster revolves around the intersection of celebrity culture, fashion, and beauty trends. It includes discussions on Michelle Obama's hairstyle choice at a public event, the red carpet looks at a major music awards show, makeup tips for concealing tan lines, and a celebrity's response to another's impersonation. Additionally, it explores the cultural impact of a specific cosmetic surgery procedure, the Brazilian Butt Lift, tying in the theme of body trends and transformations.\n",
            "\n",
            "Cluster 14:\n",
            "**Cluster Name:** Health and Well-being Concerns\n",
            "**Explanation:** This cluster revolves around personal health and wellness, with articles discussing specific health issues (teeth grinding, chest pain, anxiety), their causes, and potential solutions. It also includes a parenting article that touches on health-related practices (freeze-drying breast milk).\n",
            "\n",
            "Cluster 10:\n",
            "**Cluster Name:** Mental Health and Well-being in Daily Life\n",
            "**Explanation:** This cluster revolves around mental health and wellness, exploring various aspects such as compassion fatigue, self-gaslighting, and happiness advice from therapy. It also delves into how pop culture influences our lives, tying in with the mental health theme as it affects our daily experiences and emotions.\n",
            "\n",
            "Cluster 19:\n",
            "**Cluster Name:** Celebrity & Political Marriages in Turmoil and Triumph\n",
            "**Explanation:** This cluster revolves around the ups and downs of marriages involving prominent political figures and celebrities, including admissions of marital strain, unusual engagement stories, and secret weddings.\n",
            "\n"
          ]
        }
      ],
      "source": [
        "# Clusters description\n",
        "cluster_descriptions = generate_cluster_descriptions(clustered_documents)\n",
        "\n",
        "for cluster_id, description in cluster_descriptions.items():\n",
        "    print(f\"Cluster {cluster_id}:\\n{description}\\n\")"
      ]
    },
    {
      "cell_type": "markdown",
      "metadata": {
        "id": "nAQsJEOTDHhD"
      },
      "source": [
        "## 4.8. Expansion Opportunities - Tagging"
      ]
    },
    {
      "cell_type": "code",
      "execution_count": 77,
      "metadata": {
        "id": "_PTndPQ4Df7e"
      },
      "outputs": [],
      "source": [
        "# Define the classification model\n",
        "class ArticleClassification(BaseModel):\n",
        "    sentiment: str = Field(description=\"The sentiment of the text (positive, neutral, negative)\")\n",
        "    language: str = Field(description=\"The language the text is written in (e.g., English, Spanish)\")\n",
        "    style: str = Field(description=\"The style of the text (e.g., formal, informal)\")\n",
        "    topics: str = Field(description=\"The main topics covered in the text (comma-separated)\")\n",
        "    political_tendency: str = Field(\n",
        "        description=\"The political tendency of the text (e.g., left-wing, right-wing, centrist, unknown)\"\n",
        "    )"
      ]
    },
    {
      "cell_type": "code",
      "execution_count": 78,
      "metadata": {
        "id": "gDBL2wRlElHc"
      },
      "outputs": [],
      "source": [
        "# Create LLM model with structured output\n",
        "llm_mistralai_3 = ChatMistralAI(\n",
        "    model=\"open-mistral-nemo\",\n",
        "    temperature=0,\n",
        "    #max_tokens=500\n",
        "    ).with_structured_output(ArticleClassification)"
      ]
    },
    {
      "cell_type": "code",
      "execution_count": 79,
      "metadata": {
        "id": "gnq5_GjBE7vR"
      },
      "outputs": [],
      "source": [
        "# Define the prompt for labeling text\n",
        "tagging_prompt = ChatPromptTemplate.from_template(\n",
        "    \"\"\"\n",
        "Extract the desired information from the following article.\n",
        "\n",
        "Only extract the properties mentioned in the 'ArticleClassification' schema.\n",
        "\n",
        "Article:\n",
        "{input}\n",
        "\"\"\"\n",
        ")"
      ]
    },
    {
      "cell_type": "code",
      "execution_count": 80,
      "metadata": {
        "id": "TeJHJ6oaFBes"
      },
      "outputs": [],
      "source": [
        "# Create the labeling pipeline\n",
        "tagging_chain = tagging_prompt | llm_mistralai_3"
      ]
    },
    {
      "cell_type": "code",
      "execution_count": 81,
      "metadata": {
        "id": "TT08z_TqFQ-v"
      },
      "outputs": [],
      "source": [
        "# Article labeling function\n",
        "\n",
        "TIME_BETWEEN_REQUESTS = 5\n",
        "\n",
        "def classify_selected_articles(retriever, query=None, category=None, num_articles=5, delay=TIME_BETWEEN_REQUESTS):\n",
        "    \"\"\"\n",
        "    Retrieves and classifies articles from the dataset based on query or category.\n",
        "\n",
        "    Args:\n",
        "        retriever: The VectorStoreRetriever object.\n",
        "        query (str, optional): A query string to search for relevant documents.\n",
        "        category (str, optional): Filter by category.\n",
        "        num_articles (int, optional): Number of articles to retrieve and classify. Defaults to 5.\n",
        "\n",
        "    Returns:\n",
        "        list of dict: List of classifications for each article.\n",
        "    \"\"\"\n",
        "    # Retrieve articles\n",
        "    search_kwargs = {\"k\": num_articles}\n",
        "    if category:\n",
        "        search_kwargs[\"filter\"] = {\"category\": category}\n",
        "\n",
        "    # Query documents\n",
        "    if query:\n",
        "        results = retriever.get_relevant_documents(query, **search_kwargs)\n",
        "    else:\n",
        "        results = retriever.get_relevant_documents(\"\", **search_kwargs)  # Empty query for category-only filter\n",
        "\n",
        "    # Classify retrieved documents\n",
        "    classifications = []\n",
        "    for idx, doc in enumerate(results):\n",
        "        try:\n",
        "            print(f\"Classifying Article {idx + 1}: {doc.metadata['headline']}\")\n",
        "            result = tagging_chain.invoke({\"input\": doc.page_content})\n",
        "            classifications.append({\"metadata\": doc.metadata, \"classification\": result.dict()})\n",
        "        except Exception as e:\n",
        "            print(f\"Error classifying article {idx + 1}: {e}\")\n",
        "            classifications.append({\"metadata\": doc.metadata, \"classification\": None})\n",
        "\n",
        "        # Wait\n",
        "        time.sleep(delay)\n",
        "\n",
        "    return classifications"
      ]
    },
    {
      "cell_type": "code",
      "execution_count": 82,
      "metadata": {
        "colab": {
          "base_uri": "https://localhost:8080/"
        },
        "id": "-rNMZNptJlkY",
        "outputId": "12f1e7bf-c0ad-4a51-9ce2-8806515e1450"
      },
      "outputs": [
        {
          "name": "stdout",
          "output_type": "stream",
          "text": [
            "Classifying Article 1: HUFFPOLLSTER: Republicans And Democrats Are Growing Even Further Apart\n"
          ]
        },
        {
          "name": "stderr",
          "output_type": "stream",
          "text": [
            "<ipython-input-81-a67345380cd6>:35: PydanticDeprecatedSince20: The `dict` method is deprecated; use `model_dump` instead. Deprecated in Pydantic V2.0 to be removed in V3.0. See Pydantic V2 Migration Guide at https://errors.pydantic.dev/2.10/migration/\n",
            "  classifications.append({\"metadata\": doc.metadata, \"classification\": result.dict()})\n"
          ]
        },
        {
          "name": "stdout",
          "output_type": "stream",
          "text": [
            "Classifying Article 2: See The Latest Updates On Elections From Around The Nation\n"
          ]
        },
        {
          "name": "stderr",
          "output_type": "stream",
          "text": [
            "<ipython-input-81-a67345380cd6>:35: PydanticDeprecatedSince20: The `dict` method is deprecated; use `model_dump` instead. Deprecated in Pydantic V2.0 to be removed in V3.0. See Pydantic V2 Migration Guide at https://errors.pydantic.dev/2.10/migration/\n",
            "  classifications.append({\"metadata\": doc.metadata, \"classification\": result.dict()})\n"
          ]
        },
        {
          "name": "stdout",
          "output_type": "stream",
          "text": [
            "Classifying Article 3: Top 10 Tech Trends Transforming Humanity\n"
          ]
        },
        {
          "name": "stderr",
          "output_type": "stream",
          "text": [
            "<ipython-input-81-a67345380cd6>:35: PydanticDeprecatedSince20: The `dict` method is deprecated; use `model_dump` instead. Deprecated in Pydantic V2.0 to be removed in V3.0. See Pydantic V2 Migration Guide at https://errors.pydantic.dev/2.10/migration/\n",
            "  classifications.append({\"metadata\": doc.metadata, \"classification\": result.dict()})\n"
          ]
        },
        {
          "name": "stdout",
          "output_type": "stream",
          "text": [
            "Classifying Article 4: Congress Sets Politics Aside for Critical Development and Humanitarian Issues\n"
          ]
        },
        {
          "name": "stderr",
          "output_type": "stream",
          "text": [
            "<ipython-input-81-a67345380cd6>:35: PydanticDeprecatedSince20: The `dict` method is deprecated; use `model_dump` instead. Deprecated in Pydantic V2.0 to be removed in V3.0. See Pydantic V2 Migration Guide at https://errors.pydantic.dev/2.10/migration/\n",
            "  classifications.append({\"metadata\": doc.metadata, \"classification\": result.dict()})\n"
          ]
        },
        {
          "name": "stdout",
          "output_type": "stream",
          "text": [
            "Classifying Article 5: Leadership and Transparency 2015: The Social Media Imperative\n"
          ]
        },
        {
          "name": "stderr",
          "output_type": "stream",
          "text": [
            "<ipython-input-81-a67345380cd6>:35: PydanticDeprecatedSince20: The `dict` method is deprecated; use `model_dump` instead. Deprecated in Pydantic V2.0 to be removed in V3.0. See Pydantic V2 Migration Guide at https://errors.pydantic.dev/2.10/migration/\n",
            "  classifications.append({\"metadata\": doc.metadata, \"classification\": result.dict()})\n"
          ]
        },
        {
          "name": "stdout",
          "output_type": "stream",
          "text": [
            "Classifying Article 6: Five Emerging Trends for the U.S. Elections\n"
          ]
        },
        {
          "name": "stderr",
          "output_type": "stream",
          "text": [
            "<ipython-input-81-a67345380cd6>:35: PydanticDeprecatedSince20: The `dict` method is deprecated; use `model_dump` instead. Deprecated in Pydantic V2.0 to be removed in V3.0. See Pydantic V2 Migration Guide at https://errors.pydantic.dev/2.10/migration/\n",
            "  classifications.append({\"metadata\": doc.metadata, \"classification\": result.dict()})\n"
          ]
        },
        {
          "name": "stdout",
          "output_type": "stream",
          "text": [
            "Classifying Article 7: The Future of Elections\n"
          ]
        },
        {
          "name": "stderr",
          "output_type": "stream",
          "text": [
            "<ipython-input-81-a67345380cd6>:35: PydanticDeprecatedSince20: The `dict` method is deprecated; use `model_dump` instead. Deprecated in Pydantic V2.0 to be removed in V3.0. See Pydantic V2 Migration Guide at https://errors.pydantic.dev/2.10/migration/\n",
            "  classifications.append({\"metadata\": doc.metadata, \"classification\": result.dict()})\n"
          ]
        },
        {
          "name": "stdout",
          "output_type": "stream",
          "text": [
            "Classifying Article 8: Changing The Political Climate\n"
          ]
        },
        {
          "name": "stderr",
          "output_type": "stream",
          "text": [
            "<ipython-input-81-a67345380cd6>:35: PydanticDeprecatedSince20: The `dict` method is deprecated; use `model_dump` instead. Deprecated in Pydantic V2.0 to be removed in V3.0. See Pydantic V2 Migration Guide at https://errors.pydantic.dev/2.10/migration/\n",
            "  classifications.append({\"metadata\": doc.metadata, \"classification\": result.dict()})\n"
          ]
        },
        {
          "name": "stdout",
          "output_type": "stream",
          "text": [
            "Classifying Article 9: 2018: Moving Beyond Trump — Rebuilding Our Civilizations From Source\n"
          ]
        },
        {
          "name": "stderr",
          "output_type": "stream",
          "text": [
            "<ipython-input-81-a67345380cd6>:35: PydanticDeprecatedSince20: The `dict` method is deprecated; use `model_dump` instead. Deprecated in Pydantic V2.0 to be removed in V3.0. See Pydantic V2 Migration Guide at https://errors.pydantic.dev/2.10/migration/\n",
            "  classifications.append({\"metadata\": doc.metadata, \"classification\": result.dict()})\n"
          ]
        },
        {
          "name": "stdout",
          "output_type": "stream",
          "text": [
            "Classifying Article 10: Data: The Next Political Casualty?\n"
          ]
        },
        {
          "name": "stderr",
          "output_type": "stream",
          "text": [
            "<ipython-input-81-a67345380cd6>:35: PydanticDeprecatedSince20: The `dict` method is deprecated; use `model_dump` instead. Deprecated in Pydantic V2.0 to be removed in V3.0. See Pydantic V2 Migration Guide at https://errors.pydantic.dev/2.10/migration/\n",
            "  classifications.append({\"metadata\": doc.metadata, \"classification\": result.dict()})\n"
          ]
        },
        {
          "name": "stdout",
          "output_type": "stream",
          "text": [
            "\n",
            "Classification Results:\n",
            "Article 1 Metadata: {'id': '56761', 'category': 'POLITICS', 'date': '2016-09-13', 'headline': 'HUFFPOLLSTER: Republicans And Democrats Are Growing Even Further Apart'}\n",
            "Classification: {'sentiment': 'neutral', 'language': 'English', 'style': 'formal', 'topics': 'politics, demographics', 'political_tendency': 'unknown'}\n",
            "\n",
            "Article 2 Metadata: {'id': '116223', 'category': 'POLITICS', 'date': '2014-11-04', 'headline': 'See The Latest Updates On Elections From Around The Nation'}\n",
            "Classification: {'sentiment': 'neutral', 'language': 'English', 'style': 'formal', 'topics': 'elections', 'political_tendency': 'unknown'}\n",
            "\n",
            "Article 3 Metadata: {'id': '47046', 'category': 'TECH', 'date': '2017-01-02', 'headline': 'Top 10 Tech Trends Transforming Humanity'}\n",
            "Classification: {'sentiment': 'positive', 'language': 'English', 'style': 'formal', 'topics': 'technology, trends', 'political_tendency': 'unknown'}\n",
            "\n",
            "Article 4 Metadata: {'id': '111662', 'category': 'IMPACT', 'date': '2014-12-27', 'headline': 'Congress Sets Politics Aside for Critical Development and Humanitarian Issues'}\n",
            "Classification: {'sentiment': 'neutral', 'language': 'English', 'style': 'formal', 'topics': 'humanitarian crises, mid-term congressional elections', 'political_tendency': 'centrist'}\n",
            "\n",
            "Article 5 Metadata: {'id': '110834', 'category': 'BUSINESS', 'date': '2015-01-05', 'headline': 'Leadership and Transparency 2015: The Social Media Imperative'}\n",
            "Classification: {'sentiment': 'neutral', 'language': 'English', 'style': 'formal', 'topics': 'leadership, transparency, social media', 'political_tendency': 'unknown'}\n",
            "\n",
            "Article 6 Metadata: {'id': '76589', 'category': 'POLITICS', 'date': '2016-01-31', 'headline': 'Five Emerging Trends for the U.S. Elections'}\n",
            "Classification: {'sentiment': 'negative', 'language': 'English', 'style': 'formal', 'topics': 'U.S. Elections, Iowa caucuses, election fever', 'political_tendency': 'unknown'}\n",
            "\n",
            "Article 7 Metadata: {'id': '101009', 'category': 'POLITICS', 'date': '2015-04-29', 'headline': 'The Future of Elections'}\n",
            "Classification: {'sentiment': 'positive', 'language': 'English', 'style': 'formal', 'topics': 'democracy, governance, elections', 'political_tendency': 'centrist'}\n",
            "\n",
            "Article 8 Metadata: {'id': '38630', 'category': 'POLITICS', 'date': '2017-04-07', 'headline': 'Changing The Political Climate'}\n",
            "Classification: {'sentiment': 'neutral', 'language': 'English', 'style': 'formal', 'topics': 'politics, activism', 'political_tendency': 'unknown'}\n",
            "\n",
            "Article 9 Metadata: {'id': '17298', 'category': 'IMPACT', 'date': '2017-12-30', 'headline': '2018: Moving Beyond Trump — Rebuilding Our Civilizations From Source'}\n",
            "Classification: {'sentiment': 'negative', 'language': 'English', 'style': 'formal', 'topics': 'politics, society', 'political_tendency': 'left-wing'}\n",
            "\n",
            "Article 10 Metadata: {'id': '47448', 'category': 'POLITICS', 'date': '2016-12-28', 'headline': 'Data: The Next Political Casualty?'}\n",
            "Classification: {'sentiment': 'neutral', 'language': 'English', 'style': 'formal', 'topics': 'public release of data, U.S. government, governments at all levels', 'political_tendency': 'unknown'}\n",
            "\n"
          ]
        }
      ],
      "source": [
        "# Example of use: Sort articles related to politics\n",
        "\n",
        "query = \"What are the latest political developments?\"\n",
        "results = classify_selected_articles(retriever, query=query, num_articles=10)\n",
        "\n",
        "print(\"\\nClassification Results:\")\n",
        "for idx, result in enumerate(results):\n",
        "    print(f\"Article {idx + 1} Metadata: {result['metadata']}\")\n",
        "    print(f\"Classification: {result['classification']}\\n\")"
      ]
    },
    {
      "cell_type": "markdown",
      "metadata": {
        "id": "OhTrvouGDjGQ"
      },
      "source": [
        "# 5. Evaluation"
      ]
    },
    {
      "cell_type": "markdown",
      "metadata": {
        "id": "UAVeB4_AG-eN"
      },
      "source": [
        "## 5.1. Information Retrival System"
      ]
    },
    {
      "cell_type": "code",
      "execution_count": 84,
      "metadata": {
        "id": "aCcehV7t5m_k"
      },
      "outputs": [],
      "source": [
        "def evaluate_retrieval(retriever, query, ground_truth_category, k=5):\n",
        "    \"\"\"\n",
        "    Evaluates document retrieval based on precision and recall.\n",
        "\n",
        "    Args:\n",
        "        retriever: The document retrieval model.\n",
        "        query (str): The search query.\n",
        "        ground_truth_category (str or list): Category considered as relevant.\n",
        "        k (int): Number of retrieved documents to evaluate.\n",
        "\n",
        "    returns:\n",
        "        dict: Evaluation metrics (precision@k, recall@k, mrr).\n",
        "    \"\"\"\n",
        "    # Retrieve relevant documents\n",
        "    retrieved_docs = retriever.get_relevant_documents(query)[:k]\n",
        "\n",
        "    # Determine whether the retrieved documents are relevant\n",
        "    relevant_flags = [\n",
        "        #1 if doc.metadata[\"category\"] in ground_truth_category else 0\n",
        "        1 if doc.metadata[\"category\"] == ground_truth_category else 0\n",
        "        for doc in retrieved_docs\n",
        "    ]\n",
        "\n",
        "    # Precision@K\n",
        "    precision_at_k = sum(relevant_flags) / k\n",
        "\n",
        "    # Recall@K\n",
        "    total_relevant = sum(\n",
        "        1 for doc in retriever.vectorstore.docstore._dict.values()\n",
        "        #if doc.metadata[\"category\"] in ground_truth_category\n",
        "        if doc.metadata[\"category\"] == ground_truth_category\n",
        "    )\n",
        "    recall_at_k = sum(relevant_flags) / total_relevant if total_relevant > 0 else 0\n",
        "    print(total_relevant)\n",
        "\n",
        "    # MRR\n",
        "    mrr = 0\n",
        "    for rank, flag in enumerate(relevant_flags, start=1):\n",
        "        if flag:\n",
        "            mrr = 1 / rank\n",
        "            break\n",
        "\n",
        "    return {\n",
        "        \"precision_at_k\": precision_at_k,\n",
        "        \"recall_at_k\": recall_at_k,\n",
        "        \"mrr\": mrr,\n",
        "    }"
      ]
    },
    {
      "cell_type": "markdown",
      "metadata": {
        "id": "EIx9e8YAHdgv"
      },
      "source": [
        "The label \"category\" will be used as relevance approximation."
      ]
    },
    {
      "cell_type": "markdown",
      "metadata": {
        "id": "sb-hETZ0OaNh"
      },
      "source": [
        "6340 articles of FOOD & DRINK"
      ]
    },
    {
      "cell_type": "code",
      "execution_count": 85,
      "metadata": {
        "id": "7ClLOGNMNRCE"
      },
      "outputs": [],
      "source": [
        "# Create the object Document Retriver (VectorStoreRetriever instance)\n",
        "retriever_eval = vectorstore.as_retriever(\n",
        "    search_type=\"similarity\",\n",
        "    search_kwargs={\n",
        "        \"k\": 6340,\n",
        "        #\"filter\": {\"category\": \"politics\"}  # Ejemplo: filtrar por categoría\n",
        "    }\n",
        ")"
      ]
    },
    {
      "cell_type": "code",
      "execution_count": 86,
      "metadata": {
        "id": "rMdmWi4CNqNZ"
      },
      "outputs": [],
      "source": [
        "# Create the retrieval chain that retrieves documents and then passes them on.\n",
        "rag_chain_eval = create_retrieval_chain(retriever_eval, question_answer_chain)"
      ]
    },
    {
      "cell_type": "code",
      "execution_count": 88,
      "metadata": {
        "colab": {
          "base_uri": "https://localhost:8080/",
          "height": 321
        },
        "id": "P7-iMX7VErcl",
        "outputId": "82d5b7e4-6534-4fd4-fa17-e080cf1a014c"
      },
      "outputs": [
        {
          "ename": "HTTPStatusError",
          "evalue": "Error response 429 while fetching https://api.mistral.ai/v1/chat/completions: {\"message\":\"Requests rate limit exceeded\"}",
          "output_type": "error",
          "traceback": [
            "\u001b[0;31m---------------------------------------------------------------------------\u001b[0m",
            "\u001b[0;31mHTTPStatusError\u001b[0m                           Traceback (most recent call last)",
            "\u001b[0;32m<ipython-input-88-db843f74221b>\u001b[0m in \u001b[0;36m<cell line: 0>\u001b[0;34m()\u001b[0m\n\u001b[1;32m      1\u001b[0m \u001b[0;31m# RAG\u001b[0m\u001b[0;34m\u001b[0m\u001b[0;34m\u001b[0m\u001b[0m\n\u001b[0;32m----> 2\u001b[0;31m \u001b[0mresponse\u001b[0m \u001b[0;34m=\u001b[0m \u001b[0mrag_chain_eval\u001b[0m\u001b[0;34m.\u001b[0m\u001b[0minvoke\u001b[0m\u001b[0;34m(\u001b[0m\u001b[0;34m{\u001b[0m\u001b[0;34m\"input\"\u001b[0m\u001b[0;34m:\u001b[0m \u001b[0;34m\"What are the latest food and drink developments?\"\u001b[0m\u001b[0;34m}\u001b[0m\u001b[0;34m)\u001b[0m\u001b[0;34m\u001b[0m\u001b[0;34m\u001b[0m\u001b[0m\n\u001b[0m\u001b[1;32m      3\u001b[0m \u001b[0mprint\u001b[0m\u001b[0;34m(\u001b[0m\u001b[0mresponse\u001b[0m\u001b[0;34m[\u001b[0m\u001b[0;34m\"answer\"\u001b[0m\u001b[0;34m]\u001b[0m\u001b[0;34m)\u001b[0m\u001b[0;34m\u001b[0m\u001b[0;34m\u001b[0m\u001b[0m\n",
            "\u001b[0;32m/usr/local/lib/python3.11/dist-packages/langchain_core/runnables/base.py\u001b[0m in \u001b[0;36minvoke\u001b[0;34m(self, input, config, **kwargs)\u001b[0m\n\u001b[1;32m   5350\u001b[0m         \u001b[0;34m**\u001b[0m\u001b[0mkwargs\u001b[0m\u001b[0;34m:\u001b[0m \u001b[0mOptional\u001b[0m\u001b[0;34m[\u001b[0m\u001b[0mAny\u001b[0m\u001b[0;34m]\u001b[0m\u001b[0;34m,\u001b[0m\u001b[0;34m\u001b[0m\u001b[0;34m\u001b[0m\u001b[0m\n\u001b[1;32m   5351\u001b[0m     ) -> Output:\n\u001b[0;32m-> 5352\u001b[0;31m         return self.bound.invoke(\n\u001b[0m\u001b[1;32m   5353\u001b[0m             \u001b[0minput\u001b[0m\u001b[0;34m,\u001b[0m\u001b[0;34m\u001b[0m\u001b[0;34m\u001b[0m\u001b[0m\n\u001b[1;32m   5354\u001b[0m             \u001b[0mself\u001b[0m\u001b[0;34m.\u001b[0m\u001b[0m_merge_configs\u001b[0m\u001b[0;34m(\u001b[0m\u001b[0mconfig\u001b[0m\u001b[0;34m)\u001b[0m\u001b[0;34m,\u001b[0m\u001b[0;34m\u001b[0m\u001b[0;34m\u001b[0m\u001b[0m\n",
            "\u001b[0;32m/usr/local/lib/python3.11/dist-packages/langchain_core/runnables/base.py\u001b[0m in \u001b[0;36minvoke\u001b[0;34m(self, input, config, **kwargs)\u001b[0m\n\u001b[1;32m   3020\u001b[0m                     \u001b[0minput\u001b[0m \u001b[0;34m=\u001b[0m \u001b[0mcontext\u001b[0m\u001b[0;34m.\u001b[0m\u001b[0mrun\u001b[0m\u001b[0;34m(\u001b[0m\u001b[0mstep\u001b[0m\u001b[0;34m.\u001b[0m\u001b[0minvoke\u001b[0m\u001b[0;34m,\u001b[0m \u001b[0minput\u001b[0m\u001b[0;34m,\u001b[0m \u001b[0mconfig\u001b[0m\u001b[0;34m,\u001b[0m \u001b[0;34m**\u001b[0m\u001b[0mkwargs\u001b[0m\u001b[0;34m)\u001b[0m\u001b[0;34m\u001b[0m\u001b[0;34m\u001b[0m\u001b[0m\n\u001b[1;32m   3021\u001b[0m                 \u001b[0;32melse\u001b[0m\u001b[0;34m:\u001b[0m\u001b[0;34m\u001b[0m\u001b[0;34m\u001b[0m\u001b[0m\n\u001b[0;32m-> 3022\u001b[0;31m                     \u001b[0minput\u001b[0m \u001b[0;34m=\u001b[0m \u001b[0mcontext\u001b[0m\u001b[0;34m.\u001b[0m\u001b[0mrun\u001b[0m\u001b[0;34m(\u001b[0m\u001b[0mstep\u001b[0m\u001b[0;34m.\u001b[0m\u001b[0minvoke\u001b[0m\u001b[0;34m,\u001b[0m \u001b[0minput\u001b[0m\u001b[0;34m,\u001b[0m \u001b[0mconfig\u001b[0m\u001b[0;34m)\u001b[0m\u001b[0;34m\u001b[0m\u001b[0;34m\u001b[0m\u001b[0m\n\u001b[0m\u001b[1;32m   3023\u001b[0m         \u001b[0;31m# finish the root run\u001b[0m\u001b[0;34m\u001b[0m\u001b[0;34m\u001b[0m\u001b[0m\n\u001b[1;32m   3024\u001b[0m         \u001b[0;32mexcept\u001b[0m \u001b[0mBaseException\u001b[0m \u001b[0;32mas\u001b[0m \u001b[0me\u001b[0m\u001b[0;34m:\u001b[0m\u001b[0;34m\u001b[0m\u001b[0;34m\u001b[0m\u001b[0m\n",
            "\u001b[0;32m/usr/local/lib/python3.11/dist-packages/langchain_core/runnables/passthrough.py\u001b[0m in \u001b[0;36minvoke\u001b[0;34m(self, input, config, **kwargs)\u001b[0m\n\u001b[1;32m    492\u001b[0m         \u001b[0;34m**\u001b[0m\u001b[0mkwargs\u001b[0m\u001b[0;34m:\u001b[0m \u001b[0mAny\u001b[0m\u001b[0;34m,\u001b[0m\u001b[0;34m\u001b[0m\u001b[0;34m\u001b[0m\u001b[0m\n\u001b[1;32m    493\u001b[0m     ) -> dict[str, Any]:\n\u001b[0;32m--> 494\u001b[0;31m         \u001b[0;32mreturn\u001b[0m \u001b[0mself\u001b[0m\u001b[0;34m.\u001b[0m\u001b[0m_call_with_config\u001b[0m\u001b[0;34m(\u001b[0m\u001b[0mself\u001b[0m\u001b[0;34m.\u001b[0m\u001b[0m_invoke\u001b[0m\u001b[0;34m,\u001b[0m \u001b[0minput\u001b[0m\u001b[0;34m,\u001b[0m \u001b[0mconfig\u001b[0m\u001b[0;34m,\u001b[0m \u001b[0;34m**\u001b[0m\u001b[0mkwargs\u001b[0m\u001b[0;34m)\u001b[0m\u001b[0;34m\u001b[0m\u001b[0;34m\u001b[0m\u001b[0m\n\u001b[0m\u001b[1;32m    495\u001b[0m \u001b[0;34m\u001b[0m\u001b[0m\n\u001b[1;32m    496\u001b[0m     async def _ainvoke(\n",
            "\u001b[0;32m/usr/local/lib/python3.11/dist-packages/langchain_core/runnables/base.py\u001b[0m in \u001b[0;36m_call_with_config\u001b[0;34m(self, func, input, config, run_type, serialized, **kwargs)\u001b[0m\n\u001b[1;32m   1923\u001b[0m             output = cast(\n\u001b[1;32m   1924\u001b[0m                 \u001b[0mOutput\u001b[0m\u001b[0;34m,\u001b[0m\u001b[0;34m\u001b[0m\u001b[0;34m\u001b[0m\u001b[0m\n\u001b[0;32m-> 1925\u001b[0;31m                 context.run(\n\u001b[0m\u001b[1;32m   1926\u001b[0m                     \u001b[0mcall_func_with_variable_args\u001b[0m\u001b[0;34m,\u001b[0m  \u001b[0;31m# type: ignore[arg-type]\u001b[0m\u001b[0;34m\u001b[0m\u001b[0;34m\u001b[0m\u001b[0m\n\u001b[1;32m   1927\u001b[0m                     \u001b[0mfunc\u001b[0m\u001b[0;34m,\u001b[0m  \u001b[0;31m# type: ignore[arg-type]\u001b[0m\u001b[0;34m\u001b[0m\u001b[0;34m\u001b[0m\u001b[0m\n",
            "\u001b[0;32m/usr/local/lib/python3.11/dist-packages/langchain_core/runnables/config.py\u001b[0m in \u001b[0;36mcall_func_with_variable_args\u001b[0;34m(func, input, config, run_manager, **kwargs)\u001b[0m\n\u001b[1;32m    394\u001b[0m     \u001b[0;32mif\u001b[0m \u001b[0mrun_manager\u001b[0m \u001b[0;32mis\u001b[0m \u001b[0;32mnot\u001b[0m \u001b[0;32mNone\u001b[0m \u001b[0;32mand\u001b[0m \u001b[0maccepts_run_manager\u001b[0m\u001b[0;34m(\u001b[0m\u001b[0mfunc\u001b[0m\u001b[0;34m)\u001b[0m\u001b[0;34m:\u001b[0m\u001b[0;34m\u001b[0m\u001b[0;34m\u001b[0m\u001b[0m\n\u001b[1;32m    395\u001b[0m         \u001b[0mkwargs\u001b[0m\u001b[0;34m[\u001b[0m\u001b[0;34m\"run_manager\"\u001b[0m\u001b[0;34m]\u001b[0m \u001b[0;34m=\u001b[0m \u001b[0mrun_manager\u001b[0m\u001b[0;34m\u001b[0m\u001b[0;34m\u001b[0m\u001b[0m\n\u001b[0;32m--> 396\u001b[0;31m     \u001b[0;32mreturn\u001b[0m \u001b[0mfunc\u001b[0m\u001b[0;34m(\u001b[0m\u001b[0minput\u001b[0m\u001b[0;34m,\u001b[0m \u001b[0;34m**\u001b[0m\u001b[0mkwargs\u001b[0m\u001b[0;34m)\u001b[0m  \u001b[0;31m# type: ignore[call-arg]\u001b[0m\u001b[0;34m\u001b[0m\u001b[0;34m\u001b[0m\u001b[0m\n\u001b[0m\u001b[1;32m    397\u001b[0m \u001b[0;34m\u001b[0m\u001b[0m\n\u001b[1;32m    398\u001b[0m \u001b[0;34m\u001b[0m\u001b[0m\n",
            "\u001b[0;32m/usr/local/lib/python3.11/dist-packages/langchain_core/runnables/passthrough.py\u001b[0m in \u001b[0;36m_invoke\u001b[0;34m(self, input, run_manager, config, **kwargs)\u001b[0m\n\u001b[1;32m    479\u001b[0m         return {\n\u001b[1;32m    480\u001b[0m             \u001b[0;34m**\u001b[0m\u001b[0minput\u001b[0m\u001b[0;34m,\u001b[0m\u001b[0;34m\u001b[0m\u001b[0;34m\u001b[0m\u001b[0m\n\u001b[0;32m--> 481\u001b[0;31m             **self.mapper.invoke(\n\u001b[0m\u001b[1;32m    482\u001b[0m                 \u001b[0minput\u001b[0m\u001b[0;34m,\u001b[0m\u001b[0;34m\u001b[0m\u001b[0;34m\u001b[0m\u001b[0m\n\u001b[1;32m    483\u001b[0m                 \u001b[0mpatch_config\u001b[0m\u001b[0;34m(\u001b[0m\u001b[0mconfig\u001b[0m\u001b[0;34m,\u001b[0m \u001b[0mcallbacks\u001b[0m\u001b[0;34m=\u001b[0m\u001b[0mrun_manager\u001b[0m\u001b[0;34m.\u001b[0m\u001b[0mget_child\u001b[0m\u001b[0;34m(\u001b[0m\u001b[0;34m)\u001b[0m\u001b[0;34m)\u001b[0m\u001b[0;34m,\u001b[0m\u001b[0;34m\u001b[0m\u001b[0;34m\u001b[0m\u001b[0m\n",
            "\u001b[0;32m/usr/local/lib/python3.11/dist-packages/langchain_core/runnables/base.py\u001b[0m in \u001b[0;36minvoke\u001b[0;34m(self, input, config, **kwargs)\u001b[0m\n\u001b[1;32m   3723\u001b[0m                     \u001b[0;32mfor\u001b[0m \u001b[0mkey\u001b[0m\u001b[0;34m,\u001b[0m \u001b[0mstep\u001b[0m \u001b[0;32min\u001b[0m \u001b[0msteps\u001b[0m\u001b[0;34m.\u001b[0m\u001b[0mitems\u001b[0m\u001b[0;34m(\u001b[0m\u001b[0;34m)\u001b[0m\u001b[0;34m\u001b[0m\u001b[0;34m\u001b[0m\u001b[0m\n\u001b[1;32m   3724\u001b[0m                 ]\n\u001b[0;32m-> 3725\u001b[0;31m                 \u001b[0moutput\u001b[0m \u001b[0;34m=\u001b[0m \u001b[0;34m{\u001b[0m\u001b[0mkey\u001b[0m\u001b[0;34m:\u001b[0m \u001b[0mfuture\u001b[0m\u001b[0;34m.\u001b[0m\u001b[0mresult\u001b[0m\u001b[0;34m(\u001b[0m\u001b[0;34m)\u001b[0m \u001b[0;32mfor\u001b[0m \u001b[0mkey\u001b[0m\u001b[0;34m,\u001b[0m \u001b[0mfuture\u001b[0m \u001b[0;32min\u001b[0m \u001b[0mzip\u001b[0m\u001b[0;34m(\u001b[0m\u001b[0msteps\u001b[0m\u001b[0;34m,\u001b[0m \u001b[0mfutures\u001b[0m\u001b[0;34m)\u001b[0m\u001b[0;34m}\u001b[0m\u001b[0;34m\u001b[0m\u001b[0;34m\u001b[0m\u001b[0m\n\u001b[0m\u001b[1;32m   3726\u001b[0m         \u001b[0;31m# finish the root run\u001b[0m\u001b[0;34m\u001b[0m\u001b[0;34m\u001b[0m\u001b[0m\n\u001b[1;32m   3727\u001b[0m         \u001b[0;32mexcept\u001b[0m \u001b[0mBaseException\u001b[0m \u001b[0;32mas\u001b[0m \u001b[0me\u001b[0m\u001b[0;34m:\u001b[0m\u001b[0;34m\u001b[0m\u001b[0;34m\u001b[0m\u001b[0m\n",
            "\u001b[0;32m/usr/local/lib/python3.11/dist-packages/langchain_core/runnables/base.py\u001b[0m in \u001b[0;36m<dictcomp>\u001b[0;34m(.0)\u001b[0m\n\u001b[1;32m   3723\u001b[0m                     \u001b[0;32mfor\u001b[0m \u001b[0mkey\u001b[0m\u001b[0;34m,\u001b[0m \u001b[0mstep\u001b[0m \u001b[0;32min\u001b[0m \u001b[0msteps\u001b[0m\u001b[0;34m.\u001b[0m\u001b[0mitems\u001b[0m\u001b[0;34m(\u001b[0m\u001b[0;34m)\u001b[0m\u001b[0;34m\u001b[0m\u001b[0;34m\u001b[0m\u001b[0m\n\u001b[1;32m   3724\u001b[0m                 ]\n\u001b[0;32m-> 3725\u001b[0;31m                 \u001b[0moutput\u001b[0m \u001b[0;34m=\u001b[0m \u001b[0;34m{\u001b[0m\u001b[0mkey\u001b[0m\u001b[0;34m:\u001b[0m \u001b[0mfuture\u001b[0m\u001b[0;34m.\u001b[0m\u001b[0mresult\u001b[0m\u001b[0;34m(\u001b[0m\u001b[0;34m)\u001b[0m \u001b[0;32mfor\u001b[0m \u001b[0mkey\u001b[0m\u001b[0;34m,\u001b[0m \u001b[0mfuture\u001b[0m \u001b[0;32min\u001b[0m \u001b[0mzip\u001b[0m\u001b[0;34m(\u001b[0m\u001b[0msteps\u001b[0m\u001b[0;34m,\u001b[0m \u001b[0mfutures\u001b[0m\u001b[0;34m)\u001b[0m\u001b[0;34m}\u001b[0m\u001b[0;34m\u001b[0m\u001b[0;34m\u001b[0m\u001b[0m\n\u001b[0m\u001b[1;32m   3726\u001b[0m         \u001b[0;31m# finish the root run\u001b[0m\u001b[0;34m\u001b[0m\u001b[0;34m\u001b[0m\u001b[0m\n\u001b[1;32m   3727\u001b[0m         \u001b[0;32mexcept\u001b[0m \u001b[0mBaseException\u001b[0m \u001b[0;32mas\u001b[0m \u001b[0me\u001b[0m\u001b[0;34m:\u001b[0m\u001b[0;34m\u001b[0m\u001b[0;34m\u001b[0m\u001b[0m\n",
            "\u001b[0;32m/usr/lib/python3.11/concurrent/futures/_base.py\u001b[0m in \u001b[0;36mresult\u001b[0;34m(self, timeout)\u001b[0m\n\u001b[1;32m    454\u001b[0m                     \u001b[0;32mraise\u001b[0m \u001b[0mCancelledError\u001b[0m\u001b[0;34m(\u001b[0m\u001b[0;34m)\u001b[0m\u001b[0;34m\u001b[0m\u001b[0;34m\u001b[0m\u001b[0m\n\u001b[1;32m    455\u001b[0m                 \u001b[0;32melif\u001b[0m \u001b[0mself\u001b[0m\u001b[0;34m.\u001b[0m\u001b[0m_state\u001b[0m \u001b[0;34m==\u001b[0m \u001b[0mFINISHED\u001b[0m\u001b[0;34m:\u001b[0m\u001b[0;34m\u001b[0m\u001b[0;34m\u001b[0m\u001b[0m\n\u001b[0;32m--> 456\u001b[0;31m                     \u001b[0;32mreturn\u001b[0m \u001b[0mself\u001b[0m\u001b[0;34m.\u001b[0m\u001b[0m__get_result\u001b[0m\u001b[0;34m(\u001b[0m\u001b[0;34m)\u001b[0m\u001b[0;34m\u001b[0m\u001b[0;34m\u001b[0m\u001b[0m\n\u001b[0m\u001b[1;32m    457\u001b[0m                 \u001b[0;32melse\u001b[0m\u001b[0;34m:\u001b[0m\u001b[0;34m\u001b[0m\u001b[0;34m\u001b[0m\u001b[0m\n\u001b[1;32m    458\u001b[0m                     \u001b[0;32mraise\u001b[0m \u001b[0mTimeoutError\u001b[0m\u001b[0;34m(\u001b[0m\u001b[0;34m)\u001b[0m\u001b[0;34m\u001b[0m\u001b[0;34m\u001b[0m\u001b[0m\n",
            "\u001b[0;32m/usr/lib/python3.11/concurrent/futures/_base.py\u001b[0m in \u001b[0;36m__get_result\u001b[0;34m(self)\u001b[0m\n\u001b[1;32m    399\u001b[0m         \u001b[0;32mif\u001b[0m \u001b[0mself\u001b[0m\u001b[0;34m.\u001b[0m\u001b[0m_exception\u001b[0m\u001b[0;34m:\u001b[0m\u001b[0;34m\u001b[0m\u001b[0;34m\u001b[0m\u001b[0m\n\u001b[1;32m    400\u001b[0m             \u001b[0;32mtry\u001b[0m\u001b[0;34m:\u001b[0m\u001b[0;34m\u001b[0m\u001b[0;34m\u001b[0m\u001b[0m\n\u001b[0;32m--> 401\u001b[0;31m                 \u001b[0;32mraise\u001b[0m \u001b[0mself\u001b[0m\u001b[0;34m.\u001b[0m\u001b[0m_exception\u001b[0m\u001b[0;34m\u001b[0m\u001b[0;34m\u001b[0m\u001b[0m\n\u001b[0m\u001b[1;32m    402\u001b[0m             \u001b[0;32mfinally\u001b[0m\u001b[0;34m:\u001b[0m\u001b[0;34m\u001b[0m\u001b[0;34m\u001b[0m\u001b[0m\n\u001b[1;32m    403\u001b[0m                 \u001b[0;31m# Break a reference cycle with the exception in self._exception\u001b[0m\u001b[0;34m\u001b[0m\u001b[0;34m\u001b[0m\u001b[0m\n",
            "\u001b[0;32m/usr/lib/python3.11/concurrent/futures/thread.py\u001b[0m in \u001b[0;36mrun\u001b[0;34m(self)\u001b[0m\n\u001b[1;32m     56\u001b[0m \u001b[0;34m\u001b[0m\u001b[0m\n\u001b[1;32m     57\u001b[0m         \u001b[0;32mtry\u001b[0m\u001b[0;34m:\u001b[0m\u001b[0;34m\u001b[0m\u001b[0;34m\u001b[0m\u001b[0m\n\u001b[0;32m---> 58\u001b[0;31m             \u001b[0mresult\u001b[0m \u001b[0;34m=\u001b[0m \u001b[0mself\u001b[0m\u001b[0;34m.\u001b[0m\u001b[0mfn\u001b[0m\u001b[0;34m(\u001b[0m\u001b[0;34m*\u001b[0m\u001b[0mself\u001b[0m\u001b[0;34m.\u001b[0m\u001b[0margs\u001b[0m\u001b[0;34m,\u001b[0m \u001b[0;34m**\u001b[0m\u001b[0mself\u001b[0m\u001b[0;34m.\u001b[0m\u001b[0mkwargs\u001b[0m\u001b[0;34m)\u001b[0m\u001b[0;34m\u001b[0m\u001b[0;34m\u001b[0m\u001b[0m\n\u001b[0m\u001b[1;32m     59\u001b[0m         \u001b[0;32mexcept\u001b[0m \u001b[0mBaseException\u001b[0m \u001b[0;32mas\u001b[0m \u001b[0mexc\u001b[0m\u001b[0;34m:\u001b[0m\u001b[0;34m\u001b[0m\u001b[0;34m\u001b[0m\u001b[0m\n\u001b[1;32m     60\u001b[0m             \u001b[0mself\u001b[0m\u001b[0;34m.\u001b[0m\u001b[0mfuture\u001b[0m\u001b[0;34m.\u001b[0m\u001b[0mset_exception\u001b[0m\u001b[0;34m(\u001b[0m\u001b[0mexc\u001b[0m\u001b[0;34m)\u001b[0m\u001b[0;34m\u001b[0m\u001b[0;34m\u001b[0m\u001b[0m\n",
            "\u001b[0;32m/usr/local/lib/python3.11/dist-packages/langchain_core/runnables/base.py\u001b[0m in \u001b[0;36m_invoke_step\u001b[0;34m(step, input, config, key)\u001b[0m\n\u001b[1;32m   3707\u001b[0m             \u001b[0mcontext\u001b[0m \u001b[0;34m=\u001b[0m \u001b[0mcopy_context\u001b[0m\u001b[0;34m(\u001b[0m\u001b[0;34m)\u001b[0m\u001b[0;34m\u001b[0m\u001b[0;34m\u001b[0m\u001b[0m\n\u001b[1;32m   3708\u001b[0m             \u001b[0mcontext\u001b[0m\u001b[0;34m.\u001b[0m\u001b[0mrun\u001b[0m\u001b[0;34m(\u001b[0m\u001b[0m_set_config_context\u001b[0m\u001b[0;34m,\u001b[0m \u001b[0mchild_config\u001b[0m\u001b[0;34m)\u001b[0m\u001b[0;34m\u001b[0m\u001b[0;34m\u001b[0m\u001b[0m\n\u001b[0;32m-> 3709\u001b[0;31m             return context.run(\n\u001b[0m\u001b[1;32m   3710\u001b[0m                 \u001b[0mstep\u001b[0m\u001b[0;34m.\u001b[0m\u001b[0minvoke\u001b[0m\u001b[0;34m,\u001b[0m\u001b[0;34m\u001b[0m\u001b[0;34m\u001b[0m\u001b[0m\n\u001b[1;32m   3711\u001b[0m                 \u001b[0minput\u001b[0m\u001b[0;34m,\u001b[0m\u001b[0;34m\u001b[0m\u001b[0;34m\u001b[0m\u001b[0m\n",
            "\u001b[0;32m/usr/local/lib/python3.11/dist-packages/langchain_core/runnables/base.py\u001b[0m in \u001b[0;36minvoke\u001b[0;34m(self, input, config, **kwargs)\u001b[0m\n\u001b[1;32m   5350\u001b[0m         \u001b[0;34m**\u001b[0m\u001b[0mkwargs\u001b[0m\u001b[0;34m:\u001b[0m \u001b[0mOptional\u001b[0m\u001b[0;34m[\u001b[0m\u001b[0mAny\u001b[0m\u001b[0;34m]\u001b[0m\u001b[0;34m,\u001b[0m\u001b[0;34m\u001b[0m\u001b[0;34m\u001b[0m\u001b[0m\n\u001b[1;32m   5351\u001b[0m     ) -> Output:\n\u001b[0;32m-> 5352\u001b[0;31m         return self.bound.invoke(\n\u001b[0m\u001b[1;32m   5353\u001b[0m             \u001b[0minput\u001b[0m\u001b[0;34m,\u001b[0m\u001b[0;34m\u001b[0m\u001b[0;34m\u001b[0m\u001b[0m\n\u001b[1;32m   5354\u001b[0m             \u001b[0mself\u001b[0m\u001b[0;34m.\u001b[0m\u001b[0m_merge_configs\u001b[0m\u001b[0;34m(\u001b[0m\u001b[0mconfig\u001b[0m\u001b[0;34m)\u001b[0m\u001b[0;34m,\u001b[0m\u001b[0;34m\u001b[0m\u001b[0;34m\u001b[0m\u001b[0m\n",
            "\u001b[0;32m/usr/local/lib/python3.11/dist-packages/langchain_core/runnables/base.py\u001b[0m in \u001b[0;36minvoke\u001b[0;34m(self, input, config, **kwargs)\u001b[0m\n\u001b[1;32m   3020\u001b[0m                     \u001b[0minput\u001b[0m \u001b[0;34m=\u001b[0m \u001b[0mcontext\u001b[0m\u001b[0;34m.\u001b[0m\u001b[0mrun\u001b[0m\u001b[0;34m(\u001b[0m\u001b[0mstep\u001b[0m\u001b[0;34m.\u001b[0m\u001b[0minvoke\u001b[0m\u001b[0;34m,\u001b[0m \u001b[0minput\u001b[0m\u001b[0;34m,\u001b[0m \u001b[0mconfig\u001b[0m\u001b[0;34m,\u001b[0m \u001b[0;34m**\u001b[0m\u001b[0mkwargs\u001b[0m\u001b[0;34m)\u001b[0m\u001b[0;34m\u001b[0m\u001b[0;34m\u001b[0m\u001b[0m\n\u001b[1;32m   3021\u001b[0m                 \u001b[0;32melse\u001b[0m\u001b[0;34m:\u001b[0m\u001b[0;34m\u001b[0m\u001b[0;34m\u001b[0m\u001b[0m\n\u001b[0;32m-> 3022\u001b[0;31m                     \u001b[0minput\u001b[0m \u001b[0;34m=\u001b[0m \u001b[0mcontext\u001b[0m\u001b[0;34m.\u001b[0m\u001b[0mrun\u001b[0m\u001b[0;34m(\u001b[0m\u001b[0mstep\u001b[0m\u001b[0;34m.\u001b[0m\u001b[0minvoke\u001b[0m\u001b[0;34m,\u001b[0m \u001b[0minput\u001b[0m\u001b[0;34m,\u001b[0m \u001b[0mconfig\u001b[0m\u001b[0;34m)\u001b[0m\u001b[0;34m\u001b[0m\u001b[0;34m\u001b[0m\u001b[0m\n\u001b[0m\u001b[1;32m   3023\u001b[0m         \u001b[0;31m# finish the root run\u001b[0m\u001b[0;34m\u001b[0m\u001b[0;34m\u001b[0m\u001b[0m\n\u001b[1;32m   3024\u001b[0m         \u001b[0;32mexcept\u001b[0m \u001b[0mBaseException\u001b[0m \u001b[0;32mas\u001b[0m \u001b[0me\u001b[0m\u001b[0;34m:\u001b[0m\u001b[0;34m\u001b[0m\u001b[0;34m\u001b[0m\u001b[0m\n",
            "\u001b[0;32m/usr/local/lib/python3.11/dist-packages/langchain_core/language_models/chat_models.py\u001b[0m in \u001b[0;36minvoke\u001b[0;34m(self, input, config, stop, **kwargs)\u001b[0m\n\u001b[1;32m    284\u001b[0m         return cast(\n\u001b[1;32m    285\u001b[0m             \u001b[0mChatGeneration\u001b[0m\u001b[0;34m,\u001b[0m\u001b[0;34m\u001b[0m\u001b[0;34m\u001b[0m\u001b[0m\n\u001b[0;32m--> 286\u001b[0;31m             self.generate_prompt(\n\u001b[0m\u001b[1;32m    287\u001b[0m                 \u001b[0;34m[\u001b[0m\u001b[0mself\u001b[0m\u001b[0;34m.\u001b[0m\u001b[0m_convert_input\u001b[0m\u001b[0;34m(\u001b[0m\u001b[0minput\u001b[0m\u001b[0;34m)\u001b[0m\u001b[0;34m]\u001b[0m\u001b[0;34m,\u001b[0m\u001b[0;34m\u001b[0m\u001b[0;34m\u001b[0m\u001b[0m\n\u001b[1;32m    288\u001b[0m                 \u001b[0mstop\u001b[0m\u001b[0;34m=\u001b[0m\u001b[0mstop\u001b[0m\u001b[0;34m,\u001b[0m\u001b[0;34m\u001b[0m\u001b[0;34m\u001b[0m\u001b[0m\n",
            "\u001b[0;32m/usr/local/lib/python3.11/dist-packages/langchain_core/language_models/chat_models.py\u001b[0m in \u001b[0;36mgenerate_prompt\u001b[0;34m(self, prompts, stop, callbacks, **kwargs)\u001b[0m\n\u001b[1;32m    784\u001b[0m     ) -> LLMResult:\n\u001b[1;32m    785\u001b[0m         \u001b[0mprompt_messages\u001b[0m \u001b[0;34m=\u001b[0m \u001b[0;34m[\u001b[0m\u001b[0mp\u001b[0m\u001b[0;34m.\u001b[0m\u001b[0mto_messages\u001b[0m\u001b[0;34m(\u001b[0m\u001b[0;34m)\u001b[0m \u001b[0;32mfor\u001b[0m \u001b[0mp\u001b[0m \u001b[0;32min\u001b[0m \u001b[0mprompts\u001b[0m\u001b[0;34m]\u001b[0m\u001b[0;34m\u001b[0m\u001b[0;34m\u001b[0m\u001b[0m\n\u001b[0;32m--> 786\u001b[0;31m         \u001b[0;32mreturn\u001b[0m \u001b[0mself\u001b[0m\u001b[0;34m.\u001b[0m\u001b[0mgenerate\u001b[0m\u001b[0;34m(\u001b[0m\u001b[0mprompt_messages\u001b[0m\u001b[0;34m,\u001b[0m \u001b[0mstop\u001b[0m\u001b[0;34m=\u001b[0m\u001b[0mstop\u001b[0m\u001b[0;34m,\u001b[0m \u001b[0mcallbacks\u001b[0m\u001b[0;34m=\u001b[0m\u001b[0mcallbacks\u001b[0m\u001b[0;34m,\u001b[0m \u001b[0;34m**\u001b[0m\u001b[0mkwargs\u001b[0m\u001b[0;34m)\u001b[0m\u001b[0;34m\u001b[0m\u001b[0;34m\u001b[0m\u001b[0m\n\u001b[0m\u001b[1;32m    787\u001b[0m \u001b[0;34m\u001b[0m\u001b[0m\n\u001b[1;32m    788\u001b[0m     async def agenerate_prompt(\n",
            "\u001b[0;32m/usr/local/lib/python3.11/dist-packages/langchain_core/language_models/chat_models.py\u001b[0m in \u001b[0;36mgenerate\u001b[0;34m(self, messages, stop, callbacks, tags, metadata, run_name, run_id, **kwargs)\u001b[0m\n\u001b[1;32m    641\u001b[0m                 \u001b[0;32mif\u001b[0m \u001b[0mrun_managers\u001b[0m\u001b[0;34m:\u001b[0m\u001b[0;34m\u001b[0m\u001b[0;34m\u001b[0m\u001b[0m\n\u001b[1;32m    642\u001b[0m                     \u001b[0mrun_managers\u001b[0m\u001b[0;34m[\u001b[0m\u001b[0mi\u001b[0m\u001b[0;34m]\u001b[0m\u001b[0;34m.\u001b[0m\u001b[0mon_llm_error\u001b[0m\u001b[0;34m(\u001b[0m\u001b[0me\u001b[0m\u001b[0;34m,\u001b[0m \u001b[0mresponse\u001b[0m\u001b[0;34m=\u001b[0m\u001b[0mLLMResult\u001b[0m\u001b[0;34m(\u001b[0m\u001b[0mgenerations\u001b[0m\u001b[0;34m=\u001b[0m\u001b[0;34m[\u001b[0m\u001b[0;34m]\u001b[0m\u001b[0;34m)\u001b[0m\u001b[0;34m)\u001b[0m\u001b[0;34m\u001b[0m\u001b[0;34m\u001b[0m\u001b[0m\n\u001b[0;32m--> 643\u001b[0;31m                 \u001b[0;32mraise\u001b[0m \u001b[0me\u001b[0m\u001b[0;34m\u001b[0m\u001b[0;34m\u001b[0m\u001b[0m\n\u001b[0m\u001b[1;32m    644\u001b[0m         flattened_outputs = [\n\u001b[1;32m    645\u001b[0m             \u001b[0mLLMResult\u001b[0m\u001b[0;34m(\u001b[0m\u001b[0mgenerations\u001b[0m\u001b[0;34m=\u001b[0m\u001b[0;34m[\u001b[0m\u001b[0mres\u001b[0m\u001b[0;34m.\u001b[0m\u001b[0mgenerations\u001b[0m\u001b[0;34m]\u001b[0m\u001b[0;34m,\u001b[0m \u001b[0mllm_output\u001b[0m\u001b[0;34m=\u001b[0m\u001b[0mres\u001b[0m\u001b[0;34m.\u001b[0m\u001b[0mllm_output\u001b[0m\u001b[0;34m)\u001b[0m  \u001b[0;31m# type: ignore[list-item]\u001b[0m\u001b[0;34m\u001b[0m\u001b[0;34m\u001b[0m\u001b[0m\n",
            "\u001b[0;32m/usr/local/lib/python3.11/dist-packages/langchain_core/language_models/chat_models.py\u001b[0m in \u001b[0;36mgenerate\u001b[0;34m(self, messages, stop, callbacks, tags, metadata, run_name, run_id, **kwargs)\u001b[0m\n\u001b[1;32m    631\u001b[0m             \u001b[0;32mtry\u001b[0m\u001b[0;34m:\u001b[0m\u001b[0;34m\u001b[0m\u001b[0;34m\u001b[0m\u001b[0m\n\u001b[1;32m    632\u001b[0m                 results.append(\n\u001b[0;32m--> 633\u001b[0;31m                     self._generate_with_cache(\n\u001b[0m\u001b[1;32m    634\u001b[0m                         \u001b[0mm\u001b[0m\u001b[0;34m,\u001b[0m\u001b[0;34m\u001b[0m\u001b[0;34m\u001b[0m\u001b[0m\n\u001b[1;32m    635\u001b[0m                         \u001b[0mstop\u001b[0m\u001b[0;34m=\u001b[0m\u001b[0mstop\u001b[0m\u001b[0;34m,\u001b[0m\u001b[0;34m\u001b[0m\u001b[0;34m\u001b[0m\u001b[0m\n",
            "\u001b[0;32m/usr/local/lib/python3.11/dist-packages/langchain_core/language_models/chat_models.py\u001b[0m in \u001b[0;36m_generate_with_cache\u001b[0;34m(self, messages, stop, run_manager, **kwargs)\u001b[0m\n\u001b[1;32m    849\u001b[0m         \u001b[0;32melse\u001b[0m\u001b[0;34m:\u001b[0m\u001b[0;34m\u001b[0m\u001b[0;34m\u001b[0m\u001b[0m\n\u001b[1;32m    850\u001b[0m             \u001b[0;32mif\u001b[0m \u001b[0minspect\u001b[0m\u001b[0;34m.\u001b[0m\u001b[0msignature\u001b[0m\u001b[0;34m(\u001b[0m\u001b[0mself\u001b[0m\u001b[0;34m.\u001b[0m\u001b[0m_generate\u001b[0m\u001b[0;34m)\u001b[0m\u001b[0;34m.\u001b[0m\u001b[0mparameters\u001b[0m\u001b[0;34m.\u001b[0m\u001b[0mget\u001b[0m\u001b[0;34m(\u001b[0m\u001b[0;34m\"run_manager\"\u001b[0m\u001b[0;34m)\u001b[0m\u001b[0;34m:\u001b[0m\u001b[0;34m\u001b[0m\u001b[0;34m\u001b[0m\u001b[0m\n\u001b[0;32m--> 851\u001b[0;31m                 result = self._generate(\n\u001b[0m\u001b[1;32m    852\u001b[0m                     \u001b[0mmessages\u001b[0m\u001b[0;34m,\u001b[0m \u001b[0mstop\u001b[0m\u001b[0;34m=\u001b[0m\u001b[0mstop\u001b[0m\u001b[0;34m,\u001b[0m \u001b[0mrun_manager\u001b[0m\u001b[0;34m=\u001b[0m\u001b[0mrun_manager\u001b[0m\u001b[0;34m,\u001b[0m \u001b[0;34m**\u001b[0m\u001b[0mkwargs\u001b[0m\u001b[0;34m\u001b[0m\u001b[0;34m\u001b[0m\u001b[0m\n\u001b[1;32m    853\u001b[0m                 )\n",
            "\u001b[0;32m/usr/local/lib/python3.11/dist-packages/langchain_mistralai/chat_models.py\u001b[0m in \u001b[0;36m_generate\u001b[0;34m(self, messages, stop, run_manager, stream, **kwargs)\u001b[0m\n\u001b[1;32m    543\u001b[0m         \u001b[0mmessage_dicts\u001b[0m\u001b[0;34m,\u001b[0m \u001b[0mparams\u001b[0m \u001b[0;34m=\u001b[0m \u001b[0mself\u001b[0m\u001b[0;34m.\u001b[0m\u001b[0m_create_message_dicts\u001b[0m\u001b[0;34m(\u001b[0m\u001b[0mmessages\u001b[0m\u001b[0;34m,\u001b[0m \u001b[0mstop\u001b[0m\u001b[0;34m)\u001b[0m\u001b[0;34m\u001b[0m\u001b[0;34m\u001b[0m\u001b[0m\n\u001b[1;32m    544\u001b[0m         \u001b[0mparams\u001b[0m \u001b[0;34m=\u001b[0m \u001b[0;34m{\u001b[0m\u001b[0;34m**\u001b[0m\u001b[0mparams\u001b[0m\u001b[0;34m,\u001b[0m \u001b[0;34m**\u001b[0m\u001b[0mkwargs\u001b[0m\u001b[0;34m}\u001b[0m\u001b[0;34m\u001b[0m\u001b[0;34m\u001b[0m\u001b[0m\n\u001b[0;32m--> 545\u001b[0;31m         response = self.completion_with_retry(\n\u001b[0m\u001b[1;32m    546\u001b[0m             \u001b[0mmessages\u001b[0m\u001b[0;34m=\u001b[0m\u001b[0mmessage_dicts\u001b[0m\u001b[0;34m,\u001b[0m \u001b[0mrun_manager\u001b[0m\u001b[0;34m=\u001b[0m\u001b[0mrun_manager\u001b[0m\u001b[0;34m,\u001b[0m \u001b[0;34m**\u001b[0m\u001b[0mparams\u001b[0m\u001b[0;34m\u001b[0m\u001b[0;34m\u001b[0m\u001b[0m\n\u001b[1;32m    547\u001b[0m         )\n",
            "\u001b[0;32m/usr/local/lib/python3.11/dist-packages/langchain_mistralai/chat_models.py\u001b[0m in \u001b[0;36mcompletion_with_retry\u001b[0;34m(self, run_manager, **kwargs)\u001b[0m\n\u001b[1;32m    462\u001b[0m                 \u001b[0;32mreturn\u001b[0m \u001b[0mresponse\u001b[0m\u001b[0;34m.\u001b[0m\u001b[0mjson\u001b[0m\u001b[0;34m(\u001b[0m\u001b[0;34m)\u001b[0m\u001b[0;34m\u001b[0m\u001b[0;34m\u001b[0m\u001b[0m\n\u001b[1;32m    463\u001b[0m \u001b[0;34m\u001b[0m\u001b[0m\n\u001b[0;32m--> 464\u001b[0;31m         \u001b[0mrtn\u001b[0m \u001b[0;34m=\u001b[0m \u001b[0m_completion_with_retry\u001b[0m\u001b[0;34m(\u001b[0m\u001b[0;34m**\u001b[0m\u001b[0mkwargs\u001b[0m\u001b[0;34m)\u001b[0m\u001b[0;34m\u001b[0m\u001b[0;34m\u001b[0m\u001b[0m\n\u001b[0m\u001b[1;32m    465\u001b[0m         \u001b[0;32mreturn\u001b[0m \u001b[0mrtn\u001b[0m\u001b[0;34m\u001b[0m\u001b[0;34m\u001b[0m\u001b[0m\n\u001b[1;32m    466\u001b[0m \u001b[0;34m\u001b[0m\u001b[0m\n",
            "\u001b[0;32m/usr/local/lib/python3.11/dist-packages/langchain_mistralai/chat_models.py\u001b[0m in \u001b[0;36m_completion_with_retry\u001b[0;34m(**kwargs)\u001b[0m\n\u001b[1;32m    459\u001b[0m             \u001b[0;32melse\u001b[0m\u001b[0;34m:\u001b[0m\u001b[0;34m\u001b[0m\u001b[0;34m\u001b[0m\u001b[0m\n\u001b[1;32m    460\u001b[0m                 \u001b[0mresponse\u001b[0m \u001b[0;34m=\u001b[0m \u001b[0mself\u001b[0m\u001b[0;34m.\u001b[0m\u001b[0mclient\u001b[0m\u001b[0;34m.\u001b[0m\u001b[0mpost\u001b[0m\u001b[0;34m(\u001b[0m\u001b[0murl\u001b[0m\u001b[0;34m=\u001b[0m\u001b[0;34m\"/chat/completions\"\u001b[0m\u001b[0;34m,\u001b[0m \u001b[0mjson\u001b[0m\u001b[0;34m=\u001b[0m\u001b[0mkwargs\u001b[0m\u001b[0;34m)\u001b[0m\u001b[0;34m\u001b[0m\u001b[0;34m\u001b[0m\u001b[0m\n\u001b[0;32m--> 461\u001b[0;31m                 \u001b[0m_raise_on_error\u001b[0m\u001b[0;34m(\u001b[0m\u001b[0mresponse\u001b[0m\u001b[0;34m)\u001b[0m\u001b[0;34m\u001b[0m\u001b[0;34m\u001b[0m\u001b[0m\n\u001b[0m\u001b[1;32m    462\u001b[0m                 \u001b[0;32mreturn\u001b[0m \u001b[0mresponse\u001b[0m\u001b[0;34m.\u001b[0m\u001b[0mjson\u001b[0m\u001b[0;34m(\u001b[0m\u001b[0;34m)\u001b[0m\u001b[0;34m\u001b[0m\u001b[0;34m\u001b[0m\u001b[0m\n\u001b[1;32m    463\u001b[0m \u001b[0;34m\u001b[0m\u001b[0m\n",
            "\u001b[0;32m/usr/local/lib/python3.11/dist-packages/langchain_mistralai/chat_models.py\u001b[0m in \u001b[0;36m_raise_on_error\u001b[0;34m(response)\u001b[0m\n\u001b[1;32m    168\u001b[0m     \u001b[0;32mif\u001b[0m \u001b[0mhttpx\u001b[0m\u001b[0;34m.\u001b[0m\u001b[0mcodes\u001b[0m\u001b[0;34m.\u001b[0m\u001b[0mis_error\u001b[0m\u001b[0;34m(\u001b[0m\u001b[0mresponse\u001b[0m\u001b[0;34m.\u001b[0m\u001b[0mstatus_code\u001b[0m\u001b[0;34m)\u001b[0m\u001b[0;34m:\u001b[0m\u001b[0;34m\u001b[0m\u001b[0;34m\u001b[0m\u001b[0m\n\u001b[1;32m    169\u001b[0m         \u001b[0merror_message\u001b[0m \u001b[0;34m=\u001b[0m \u001b[0mresponse\u001b[0m\u001b[0;34m.\u001b[0m\u001b[0mread\u001b[0m\u001b[0;34m(\u001b[0m\u001b[0;34m)\u001b[0m\u001b[0;34m.\u001b[0m\u001b[0mdecode\u001b[0m\u001b[0;34m(\u001b[0m\u001b[0;34m\"utf-8\"\u001b[0m\u001b[0;34m)\u001b[0m\u001b[0;34m\u001b[0m\u001b[0;34m\u001b[0m\u001b[0m\n\u001b[0;32m--> 170\u001b[0;31m         raise httpx.HTTPStatusError(\n\u001b[0m\u001b[1;32m    171\u001b[0m             \u001b[0;34mf\"Error response {response.status_code} \"\u001b[0m\u001b[0;34m\u001b[0m\u001b[0;34m\u001b[0m\u001b[0m\n\u001b[1;32m    172\u001b[0m             \u001b[0;34mf\"while fetching {response.url}: {error_message}\"\u001b[0m\u001b[0;34m,\u001b[0m\u001b[0;34m\u001b[0m\u001b[0;34m\u001b[0m\u001b[0m\n",
            "\u001b[0;31mHTTPStatusError\u001b[0m: Error response 429 while fetching https://api.mistral.ai/v1/chat/completions: {\"message\":\"Requests rate limit exceeded\"}"
          ]
        }
      ],
      "source": [
        "# RAG\n",
        "response = rag_chain_eval.invoke({\"input\": \"What are the latest food and drink developments?\"})\n",
        "print(response[\"answer\"])\n",
        "\n",
        "# NOTA: Celda con error. Antes no se superaba el número de tokens. La siguiente celda es la ejecución de hace 2 meses, cuando el resultado si funcionó."
      ]
    },
    {
      "cell_type": "code",
      "execution_count": null,
      "metadata": {
        "colab": {
          "base_uri": "https://localhost:8080/"
        },
        "id": "BuGMviV_FZgs",
        "outputId": "b1700d7a-a1e7-4521-8f3b-1230d222787f"
      },
      "outputs": [
        {
          "name": "stdout",
          "output_type": "stream",
          "text": [
            "page_content='All The New Food And Drink You Can Look Forward To In 2021. Breakfast foods (because you're probably at home in the mornings now), better plant-based products and more.' metadata={'id': '3482', 'category': 'FOOD & DRINK', 'date': '2020-12-28', 'headline': 'All The New Food And Drink You Can Look Forward To In 2021'}\n",
            "\n",
            "page_content='The Biggest Food Trends Of 2015. ' metadata={'id': '113882', 'category': 'TASTE', 'date': '2014-12-01', 'headline': 'The Biggest Food Trends Of 2015'}\n",
            "\n",
            "page_content='6 Food Trends To Help You Eat Better In 2016. Get ready for power bowls, spiralized veggies, ancient grains and more.' metadata={'id': '79653', 'category': 'HEALTHY LIVING', 'date': '2015-12-27', 'headline': '6 Food Trends To Help You Eat Better In 2016'}\n",
            "\n",
            "page_content='10 Food Trends to Watch. We're going to live in a world with Coke robots, apparently.' metadata={'id': '146112', 'category': 'FOOD & DRINK', 'date': '2013-12-04', 'headline': '10 Food Trends to Watch'}\n",
            "\n",
            "page_content='10 Unexpected Food Trends, From Middle Eastern Cuisine to Cheesy Fermentation. Although the list curiously avoids any mentions of Nutella, bacon or even Sriracha, it's an interesting look into the future of culinary trends via the perspective of an experienced chef -- aka, somebody other than a \"foodie\" blogger.' metadata={'id': '160492', 'category': 'FOOD & DRINK', 'date': '2013-07-05', 'headline': '10 Unexpected Food Trends, From Middle Eastern Cuisine to Cheesy Fermentation'}\n",
            "\n",
            "page_content='The Best Things To Eat And Drink Right Now, According To 'GQ' (PHOTOS). Our mouths are watering.' metadata={'id': '158948', 'category': 'FOOD & DRINK', 'date': '2013-07-22', 'headline': \"The Best Things To Eat And Drink Right Now, According To 'GQ' (PHOTOS)\"}\n",
            "\n",
            "page_content='New Food Trends: Cool Condiments, Salt Infusions, Green Eggs, S'Mores Update. One of the biggest trends popping up around the country plays on the childhood Dr. Seuss story -- green eggs and ham.' metadata={'id': '136772', 'category': 'FOOD & DRINK', 'date': '2014-03-14', 'headline': \"New Food Trends: Cool Condiments, Salt Infusions, Green Eggs, S'Mores Update\"}\n",
            "\n",
            "page_content='The Must-Read Food Articles Of 2013. In case you missed these pieces earlier this year, now is your time to catch up!' metadata={'id': '144662', 'category': 'FOOD & DRINK', 'date': '2013-12-20', 'headline': 'The Must-Read Food Articles Of 2013'}\n",
            "\n",
            "page_content='Drinks With Dinner: Working the Hot Food Trend at Home. Wine, beer and liquor has been making a cool comeback in everything from chocolate to full-on meals at some of the hottest restaurants in the country.' metadata={'id': '165556', 'category': 'FOOD & DRINK', 'date': '2013-05-13', 'headline': 'Drinks With Dinner: Working the Hot Food Trend at Home'}\n",
            "\n",
            "page_content='The Recipes That Changed Our Lives In 2016. We're pretty sure they'll be great in 2017, too.' metadata={'id': '47437', 'category': 'TASTE', 'date': '2016-12-28', 'headline': 'The Recipes That Changed Our Lives In 2016'}\n",
            "\n",
            "page_content='The Top Food Trends for 2014. Here are some of my top picks for foods to watch this year!' metadata={'id': '140184', 'category': 'FOOD & DRINK', 'date': '2014-02-06', 'headline': 'The Top Food Trends for 2014'}\n",
            "\n",
            "page_content='Five Hot Food Trends in 2014. Which products caught my eye and taste-buds?  Though hardly exhaustive, these fads and foodstuffs stood out.' metadata={'id': '136437', 'category': 'FOOD & DRINK', 'date': '2014-03-18', 'headline': 'Five Hot Food Trends in 2014'}\n",
            "\n",
            "page_content='This Is What The Future Of Fast Food Looks Like. ' metadata={'id': '122473', 'category': 'BUSINESS', 'date': '2014-08-25', 'headline': 'This Is What The Future Of Fast Food Looks Like'}\n",
            "\n",
            "page_content='Top Food Trend Predictions For 2014. 2014 is going upscale, guys.' metadata={'id': '143888', 'category': 'FOOD & DRINK', 'date': '2013-12-28', 'headline': 'Top Food Trend Predictions For 2014'}\n",
            "\n",
            "page_content='11 Foods You Should Resolve To Try In 2017. Let's all be a little more adventurous in the new year.' metadata={'id': '47381', 'category': 'TASTE', 'date': '2016-12-29', 'headline': '11 Foods You Should Resolve To Try In 2017'}\n",
            "\n",
            "page_content='International Foods That Are Hard To Find, From Fish Sperm To Duck Embryos. Unless you know where to look...' metadata={'id': '142310', 'category': 'FOOD & DRINK', 'date': '2014-01-14', 'headline': 'International Foods That Are Hard To Find, From Fish Sperm To Duck Embryos'}\n",
            "\n",
            "page_content='Trend Spotting: 7 Top Food Trends. This year, the expo portion of the event drew more than 350 food and nutrition related exhibitors. It's here that new products and innovations are launched and food trends come to life.' metadata={'id': '116864', 'category': 'HEALTHY LIVING', 'date': '2014-10-28', 'headline': 'Trend Spotting: 7 Top Food Trends'}\n",
            "\n",
            "page_content='New and Healthy Food Finds. This year, I carefully planned which companies I wanted to visit at Natural Foods Expo West in each of the six huge exhibit halls. Here are my finds of the day, which are all made from whole foods with minimal ingredients.' metadata={'id': '170184', 'category': 'WELLNESS', 'date': '2013-03-25', 'headline': 'New and Healthy Food Finds'}\n",
            "\n",
            "page_content='Artisanal Fast Food. Artisanal foods, too, can be \"fast.\" Advances in technology are transforming the field, making luxuries such as small-batch coffee and forbidden rice with sun-dried mangoes instantaneous or nearly so.' metadata={'id': '159954', 'category': 'FOOD & DRINK', 'date': '2013-07-11', 'headline': 'Artisanal Fast Food'}\n",
            "\n",
            "page_content='Farm To Table: An Emerging Menu Trend. Many restaurants these days are reverting back to local farms to gather the freshest ingredients.' metadata={'id': '181621', 'category': 'FOOD & DRINK', 'date': '2012-11-23', 'headline': 'Farm To Table: An Emerging Menu Trend'}\n",
            "\n",
            "page_content='Move Over Pumpkin Spice, Banana Milk Coffee Is The New It Drink. Pumpkin spice lattes are nice during the first days of fall, but after you’ve eaten pumpkin spice-flavored bagels, hummus' metadata={'id': '56794', 'category': 'TASTE', 'date': '2016-09-13', 'headline': 'Move Over Pumpkin Spice, Banana Milk Coffee Is The New It Drink'}\n",
            "\n",
            "page_content='Dan Barber Argues That Farm-to-Table \"Is the Wrong Way to Think About the Future of Good Food\". Basically, it's time to change our entire eating and drinking paradigm.' metadata={'id': '130344', 'category': 'GREEN', 'date': '2014-05-28', 'headline': 'Dan Barber Argues That Farm-to-Table \"Is the Wrong Way to Think About the Future of Good Food\"'}\n",
            "\n",
            "page_content='Best of the Web in Food, 2012. Check out what got our taste buds going this past year.' metadata={'id': '178288', 'category': 'FOOD & DRINK', 'date': '2012-12-30', 'headline': 'Best of the Web in Food, 2012'}\n",
            "\n",
            "page_content='Black Elephants, Black Swans, and Tomorrow's Fish. Is it a bit much to say that we are in the midst of a Food Revolution? I suggest that depends on how you view the current conditions on your plate, in your family, in your community, in our nation.' metadata={'id': '113978', 'category': 'GREEN', 'date': '2014-11-30', 'headline': \"Black Elephants, Black Swans, and Tomorrow's Fish\"}\n",
            "\n",
            "page_content='Looking Ahead: 2013 Food Trends. While we set out on the dining adventure that's to be 2013, it's always fun to speculate where that adventure will lead. Here's what some of the major news outlets around the country are predicting.' metadata={'id': '175801', 'category': 'FOOD & DRINK', 'date': '2013-01-25', 'headline': 'Looking Ahead: 2013 Food Trends'}\n",
            "\n",
            "page_content='Some Really Good (And A Bit Of Bad) Health News For Regular Coffee Drinkers. ' metadata={'id': '114296', 'category': 'FIFTY', 'date': '2014-11-27', 'headline': 'Some Really Good (And A Bit Of Bad) Health News For Regular Coffee Drinkers'}\n",
            "\n",
            "page_content='Pepsi Next: The Last Thing America Needs. \"Health and wellness\" may be cited as motivators behind Pepsi NEXT, but America needs mid-calorie soda as much as the Gulf of Mexico needs another oil spill. May I suggest drinking more water? What a concept!' metadata={'id': '204780', 'category': 'WELLNESS', 'date': '2012-03-19', 'headline': 'Pepsi Next: The Last Thing America Needs'}\n",
            "\n",
            "page_content='New Technological Tools Are Ensuring That Balanced Meal Ideas Are Available For Everyone. It's a simple solution that has the potential -- the opportunity to help people facing food insecurity get more than just enough to eat, but to breakdown some of the barriers to preparing and consuming the healthful foods for herself and her family.' metadata={'id': '105299', 'category': 'IMPACT', 'date': '2015-03-10', 'headline': 'New Technological Tools Are Ensuring That Balanced Meal Ideas Are Available For Everyone'}\n",
            "\n",
            "page_content='Restaurant Trends For 2013. While pizza, cupcakes and burgers seem to be invincible, other food trends rise and fall.' metadata={'id': '175601', 'category': 'FOOD & DRINK', 'date': '2013-01-28', 'headline': 'Restaurant Trends For 2013'}\n",
            "\n",
            "page_content='As Global Demand for Dairy Products Soars, Domestic Innovation is Key. Every day, our increasingly independent children and adolescents are faced with coolers full of beverage and energy drink options, and they must have innovative and attractive milk alternatives that make it easier to make the nutritionally smart choice.' metadata={'id': '129759', 'category': 'BUSINESS', 'date': '2014-06-04', 'headline': 'As Global Demand for Dairy Products Soars, Domestic Innovation is Key'}\n",
            "\n",
            "page_content='Better Food Labels: Have We Hit the Nail on the Head?. Improving food labels, as planned by the USFDA and much in the news over the past week or so, is a welcome thing. But I do think we have cause to wonder if all the fanfare and media hype are really warranted. When all is said and done, what improvements are in the works, and how much will they really matter?' metadata={'id': '137465', 'category': 'WELLNESS', 'date': '2014-03-07', 'headline': 'Better Food Labels: Have We Hit the Nail on the Head?'}\n",
            "\n",
            "page_content='Top 25 Food Trends of 2013. The most amazing things Andrew Knowlton saw, heard, and yes, devoured during his 120-day, 26,333-mile, 22-state tour of the country's best new restaurants.' metadata={'id': '155435', 'category': 'FOOD & DRINK', 'date': '2013-08-28', 'headline': 'Top 25 Food Trends of 2013'}\n",
            "\n",
            "page_content='Trend Spotting: 5 Top Food Trends. At the Academy of Nutrition and Dietetics Food and Nutrition Conference and Expo, new products and innovations are launched and food trends come to life. Here are the top five food trends spotted there.' metadata={'id': '149461', 'category': 'WELLNESS', 'date': '2013-10-30', 'headline': 'Trend Spotting: 5 Top Food Trends'}\n",
            "\n",
            "page_content='The Genius Products That'll Help You Pack An Eco-Friendly Lunch. From bento boxes to stainless steel straws.' metadata={'id': '56547', 'category': 'TASTE', 'date': '2016-09-15', 'headline': \"The Genius Products That'll Help You Pack An Eco-Friendly Lunch\"}\n",
            "\n",
            "page_content='9 Mind-Boggling Food Facts We Learned From Reddit. Intriguing, disturbing and awesome things about the foods and drinks we consume every day.' metadata={'id': '143878', 'category': 'FOOD & DRINK', 'date': '2013-12-28', 'headline': '9 Mind-Boggling Food Facts We Learned From Reddit'}\n",
            "\n",
            "page_content='Crazy Diets, Silly Food Science and Absurd Food Inventions 2013. This year had its remarkable share of senseless diets, bizarre research and odd inventions. Here's what you might've missed.' metadata={'id': '145397', 'category': 'WELLNESS', 'date': '2013-12-12', 'headline': 'Crazy Diets, Silly Food Science and Absurd Food Inventions 2013'}\n",
            "\n",
            "page_content='Trendspotting: 5 Top Food Trends. The expo portion of the Academy of Nutrition and Dietetics Food and Nutrition Conference and Expo draws more than 350 exhibitors. Here, new products are launched and food trends come to life. Here are the top five food trends spotted at this year's expo.' metadata={'id': '184412', 'category': 'WELLNESS', 'date': '2012-10-24', 'headline': 'Trendspotting: 5 Top Food Trends'}\n",
            "\n",
            "page_content='5 Diet-Wrecking Fast Food Creations. Some of the nation's largest fast-food chains have recently unleashed spectacularly diet un-friendly menu items. Here are' metadata={'id': '187797', 'category': 'WELLNESS', 'date': '2012-09-19', 'headline': '5 Diet-Wrecking Fast Food Creations'}\n",
            "\n",
            "page_content='Chefs Predict How Restaurants Will Change In 2021. COVID-19 has changed the industry for the foreseeable future, and maybe even forever.' metadata={'id': '3475', 'category': 'FOOD & DRINK', 'date': '2020-12-30', 'headline': 'Chefs Predict How Restaurants Will Change In 2021'}\n",
            "\n",
            "page_content='The 8 Best Produce Picks For Late Summer. Now's the time to load up on tomatoes, figs, blackberries and more fresh fruit.' metadata={'id': '90915', 'category': 'HEALTHY LIVING', 'date': '2015-08-22', 'headline': 'The 8 Best Produce Picks For Late Summer'}\n",
            "\n",
            "page_content='Processing Food, Processing... You?!. Anyone living and eating in the modern world, and paying even a little attention, knows that we are a very long way from eating food, not too much, mostly plants. Not only does our food come mostly in bags, boxes, bottles, jars and cans -- but mostly, it isn't really food.' metadata={'id': '170094', 'category': 'WELLNESS', 'date': '2013-03-26', 'headline': 'Processing Food, Processing... You?!'}\n",
            "\n",
            "page_content='Superfoods Of The World. Trying different foods from around the world is a great way to find new and exciting flavors that you can incorporate into' metadata={'id': '153098', 'category': 'WELLNESS', 'date': '2013-09-22', 'headline': 'Superfoods Of The World'}\n",
            "\n",
            "page_content='The Airports With The Healthiest Food. “Healthful vegetarian meals at airports across the country are just the ticket for traveling light this holiday season,” PCRM' metadata={'id': '181225', 'category': 'WELLNESS', 'date': '2012-11-28', 'headline': 'The Airports With The Healthiest Food'}\n",
            "\n",
            "page_content='Look to Norway!. The food industry's effort to develop healthier products eventually affects what's in our refrigerators -- not only for those who find it easy to live healthy, but also for those who struggle in doing so. I am sure we will see results in the years ahead.' metadata={'id': '64999', 'category': 'IMPACT', 'date': '2016-06-12', 'headline': 'Look to Norway!'}\n",
            "\n",
            "page_content='Eat Local App: Fresh Foods at Your Fingertips. Asparagus, radishes, and spinach are trending this week in my neck of the woods. These foods are in season and likely at' metadata={'id': '198609', 'category': 'WELLNESS', 'date': '2012-05-24', 'headline': 'Eat Local App: Fresh Foods at Your Fingertips'}\n",
            "\n",
            "page_content='On the Future of Food. You could say it all started with Sir Albert Howard 80 or so years ago. He wrote a book outlining the importance of healthy' metadata={'id': '207847', 'category': 'WELLNESS', 'date': '2012-02-15', 'headline': 'On the Future of Food'}\n",
            "\n",
            "page_content='The Last Diet You Will Ever Need. Each of us has the capacity to make the small changes in our lives that will create big changes in our food landscape, our agriculture and even our government policies.' metadata={'id': '197706', 'category': 'WELLNESS', 'date': '2012-06-03', 'headline': 'The Last Diet You Will Ever Need'}\n",
            "\n",
            "page_content='The Yogurt War. How does the food industry resemble life itself?' metadata={'id': '163520', 'category': 'FOOD & DRINK', 'date': '2013-06-04', 'headline': 'The Yogurt War'}\n",
            "\n",
            "page_content='This Is What Restaurants Have To Deal With When It Comes To Dietary Restrictions. That's quite a list.' metadata={'id': '143327', 'category': 'FOOD & DRINK', 'date': '2014-01-03', 'headline': 'This Is What Restaurants Have To Deal With When It Comes To Dietary Restrictions'}\n",
            "\n",
            "page_content='The Healthy Food Transition. Include students in decision-making. Encourage them to question food production and supply systems, and to envision solutions. Challenge them -- and just as importantly, invite them to challenge you -- to think in new and forward-looking ways.' metadata={'id': '112514', 'category': 'EDUCATION', 'date': '2014-12-17', 'headline': 'The Healthy Food Transition'}\n",
            "\n"
          ]
        }
      ],
      "source": [
        "# Return the sources that were used to generate the answer\n",
        "for document in response[\"context\"]:\n",
        "    print(document)\n",
        "    print()"
      ]
    },
    {
      "cell_type": "code",
      "execution_count": null,
      "metadata": {
        "colab": {
          "base_uri": "https://localhost:8080/"
        },
        "id": "qkfqNjGnENua",
        "outputId": "8eb7341a-4d82-4583-c025-8274b385f7b0"
      },
      "outputs": [
        {
          "name": "stdout",
          "output_type": "stream",
          "text": [
            "6340\n",
            "Evaluation Metrics for Retrieval:\n",
            "precision_at_k: 0.39\n",
            "recall_at_k: 0.39\n",
            "mrr: 0.33\n"
          ]
        }
      ],
      "source": [
        "# Evaluation\n",
        "query = \"What are the latest food developments?\"\n",
        "#ground_truth_category = [\"FOOD & DRINK\"]\n",
        "ground_truth_category = \"FOOD & DRINK\"\n",
        "metrics = evaluate_retrieval(retriever_eval, query, ground_truth_category, k=6340)\n",
        "\n",
        "print(\"Evaluation Metrics for Retrieval:\")\n",
        "for metric, value in metrics.items():\n",
        "    print(f\"{metric}: {value:.2f}\")"
      ]
    },
    {
      "cell_type": "markdown",
      "metadata": {
        "id": "Biij31EDQ7Ab"
      },
      "source": [
        "### Evaluation of Retrieval Performance\n",
        "We conducted an evaluation of the document retrieval system using the query \"What are the latest food developments?\" within the FOOD & DRINK category, which contains 6340 documents in the VectorStore. The following retrieval metrics were obtained:\n",
        "\n",
        "- **Precision@k:** 0.39\n",
        "- **Recall@k:** 0.39\n",
        "- **MRR (Mean Reciprocal Rank):** 0.33\n",
        "\n",
        "#### Interpretation of Results\n",
        "\n",
        "**Precision@k (0.39**):\n",
        "\n",
        "This metric indicates that 39% of the top 6340 retrieved documents are relevant to the query. In other words, about 4 out of every 10 documents in the top retrieved results are truly related to food developments. A precision of 0.39 suggests that the retrieval system is returning a fairly mixed set of documents, where a significant portion may not be directly relevant to the user's query, requiring refinement of the ranking mechanism.\n",
        "\n",
        "**Recall@k (0.39):**\n",
        "This metric reflects the proportion of relevant documents that were retrieved, out of all available relevant documents in the FOOD & DRINK category. A recall of 0.39 means that the system is retrieving roughly 39% of all relevant documents for the query, which indicates that the retrieval system may be missing a substantial portion of relevant information. Improving recall could involve enhancing the search index or the way relevance is determined within the vector store.\n",
        "\n",
        "**MRR (0.33):**\n",
        "The Mean Reciprocal Rank (MRR) is a measure of the rank position at which the first relevant document appears in the retrieval results. With an MRR of 0.33, the system returns the first relevant document relatively early in the results, but it still suggests that a considerable number of relevant documents might be located further down in the list. Improving the relevance ranking and fine-tuning the retrieval algorithms could help bring more relevant documents closer to the top of the results.\n",
        "\n",
        "#### Discussion of Strengths and Limitations\n",
        "\n",
        "**Strengths**\n",
        "- Solid Initial Performance: A precision of 0.39 and recall of 0.39 indicate that the retrieval system is performing decently in identifying relevant documents within the FOOD & DRINK category. The MRR value suggests that, while improvements could be made, the system is retrieving relevant documents early on in most queries.\n",
        "- Scalability: The system is capable of handling large categories (with thousands of documents) and retrieves documents effectively, despite the large volume of data in the vector store.\n",
        "\n",
        "**Limitations**\n",
        "- Room for Improvement in Precision and Recall: With both precision and recall at 0.39, there is significant room for improvement. The system could be returning a large number of irrelevant documents, which indicates that the ranking of documents could be further optimized. This might involve refining the embeddings, using advanced retrieval models, or adjusting the parameters to focus more on relevance.\n",
        "- Potential Label Confusion: A key limitation in the retrieval system is the possibility of label confusion, where documents from categories with overlapping themes may be retrieved along with the intended food-related content. The FOOD & DRINK category could be confused with several other categories due to the shared topics or similar content. For example:\n",
        "\n",
        "- HEALTHY LIVING (6694 documents) may include health-focused articles on food or diets.\n",
        "- WELLNESS (17945 documents) could feature food-related content, but from a health and lifestyle perspective.\n",
        "- STYLE & BEAUTY (9814 documents) might contain content related to beauty, where food is discussed in relation to diet.\n",
        "- ENTERTAINMENT (17362 documents) might overlap with food-related entertainment such as food shows or celebrity chef content.\n",
        "- TRAVEL (9900 documents) could feature culinary tourism or local food culture.\n",
        "- TASTE (2096 documents) often addresses food trends and taste preferences, which may overlap with food development.\n",
        "- GREEN (2622 documents) includes content on sustainable food practices, which may be relevant but also overlap with topics like food sustainability and agricultural innovations.\n",
        "- SCIENCE (2206 documents) could involve articles on food science, nutritional research, or agricultural advancements.\n",
        "\n",
        "These overlapping categories could lead the retrieval system to misclassify documents or rank them inappropriately, thus diluting the relevance of the retrieved results. For instance, the system might retrieve documents from WELLNESS that discuss the health benefits of food, but not actual food development innovations.\n",
        "\n",
        "#### Conclusion\n",
        "In summary, the retrieval system demonstrates decent performance, but it faces significant challenges in improving precision, recall, and the handling of overlapping categories. Label confusion, especially with categories related to wellness, travel, and lifestyle, may contribute to the retrieval of irrelevant documents, affecting the system’s ability to provide highly relevant results. Future improvements could include fine-tuning the search algorithm, refining embeddings, and adding more sophisticated techniques for distinguishing between related but distinct topics to enhance the accuracy and relevance of the retrieved documents."
      ]
    },
    {
      "cell_type": "markdown",
      "metadata": {
        "id": "rPWFQG9mZ5oY"
      },
      "source": [
        "### 5.2. Proposed Evaluation for Extended Systems\n",
        "\n",
        "Due to time constraints, I wasn't able to fully implement evaluations for the QA with Generative AI, Topic Extraction, and Tagging systems. However, the following outlines how these systems could be effectively evaluated in the future. These methods would provide a strong framework to measure their performance and refine their functionality if further development is pursued."
      ]
    },
    {
      "cell_type": "markdown",
      "metadata": {
        "id": "Vw_vmv0faCJt"
      },
      "source": [
        "#### 5.2.1. QA with Generative AI\n",
        "**Objective:** Assess the system's ability to generate accurate and relevant answers to user queries, using information extracted from the corpus.\n",
        "\n",
        "**Evaluation Approach:**\n",
        "\n",
        "- **Quantitative Metrics:**\n",
        "  - Exact Match (EM): Measures the percentage of generated answers that exactly match the expected answers.\n",
        "  - F1-Score: Evaluates the overlap of words between the generated and expected answers, balancing precision and recall.\n",
        "  - BLEU/ROUGE: These metrics compare n-gram similarity between the generated answers and the expected ones. BLEU is often more suited for shorter answers, while ROUGE works well for longer, summary-style responses.\n",
        "  - BERTScore: Leverages semantic embeddings to evaluate conceptual similarity between the answers.\n",
        "\n",
        "- **Manual Review:**  \n",
        "Using a Likert scale (e.g., 1-5), human evaluators can provide qualitative insights that complement the automated metrics, based on:\n",
        "  - Relevance: Does the answer directly address the question?\n",
        "  - Accuracy: Is the information correct?\n",
        "  - Fluency: Is the response well-written and natural?\n",
        "\n",
        "- **Reference Dataset:**  \n",
        "Create a test set of representative questions paired with expected answers (ground truth). If such a dataset isn't available, it can be manually curated from the corpus."
      ]
    },
    {
      "cell_type": "markdown",
      "metadata": {
        "id": "tZOIZF_La1x5"
      },
      "source": [
        "#### 5.2.2. Topic Extraction\n",
        "**Objective:** Assess how well the system identifies the main themes within a set of documents.\n",
        "\n",
        "**Evaluation Approach:**\n",
        "\n",
        "- **Cohesion and Coherence Metrics:**\n",
        "  - Coherence Score (e.g., UMASS, PMI): Measures how semantically consistent the words grouped under each topic are.\n",
        "\n",
        "- **Subject matter experts can review the generated topics and assess:**\n",
        "  - Do the topics make sense?\n",
        "  - Are they useful for organizing or summarizing the content?\n",
        "\n",
        "**Visualization:**  \n",
        "Techniques like t-SNE or UMAP can project documents into a lower-dimensional space, helping visualize how well they cluster based on assigned topics."
      ]
    },
    {
      "cell_type": "markdown",
      "metadata": {
        "id": "t3JoCrCxbWvM"
      },
      "source": [
        "### 5.2.3. Tagging\n",
        "**Objective:** Evaluate the system's ability to assign relevant tags to documents based on their content.\n",
        "\n",
        "**Evaluation Approach:**\n",
        "\n",
        "- **Multilabel Classification Metrics:**\n",
        "- Accuracy: Measures the proportion of correctly assigned tags.\n",
        "- Precision, Recall, F1-Score: These can be calculated at both the micro level (treating all tags equally) and macro level (averaging metrics across tags).\n",
        "- Subset Accuracy: Checks whether the predicted set of tags matches the expected set exactly.\n",
        "- Hamming Loss: Evaluates the proportion of incorrect or missing tags.\n",
        "- Jaccard Similarity: Measures the overlap between the predicted and actual tag sets.\n",
        "\n",
        "- **Reference Dataset:**  \n",
        "Use a collection of documents with pre-assigned, validated tags as ground truth. If such a dataset doesn't exist, one can be manually curated by tagging a representative sample of the corpus.\n",
        "\n",
        "**Error Analysis:**  \n",
        "Build a confusion matrix to identify which tags are most commonly misclassified or missed, and use this to refine the model.\n",
        "\n",
        "**User Feedback:**  \n",
        "Gather input from end-users about the relevance and usefulness of the assigned tags, particularly if tagging impacts document organization or search."
      ]
    },
    {
      "cell_type": "markdown",
      "metadata": {
        "id": "ZDceqYO6R3uT"
      },
      "source": [
        "# 6. Recommendations"
      ]
    },
    {
      "cell_type": "markdown",
      "metadata": {
        "id": "MNqRwnDmR9QC"
      },
      "source": [
        "1. **Improving Data Quality and Diversity**  \n",
        "   - It would be beneficial to explore additional datasets or combine existing ones to increase the diversity of text samples. This approach could help make the model more robust and adaptable to a wider range of input scenarios.  \n",
        "   - Techniques like oversampling, undersampling, or synthetic data generation (e.g., SMOTE) should be considered to address any class imbalances in the dataset.  \n",
        "\n",
        "2. **Refining Preprocessing Techniques**  \n",
        "   - Further work is needed to develop preprocessing steps tailored to the domain, particularly for handling specific challenges such as acronyms, slang, or context-dependent expressions.  \n",
        "\n",
        "3. **Optimizing and Experimenting with Models**  \n",
        "   - Testing advanced language models like RoBERTa or GPT should be prioritized to evaluate potential improvements in task-specific performance.  \n",
        "   - Fine-tuning pre-trained large language models (LLMs) from platforms such as Hugging Face is recommended to leverage their linguistic capabilities and domain knowledge.  \n",
        "\n",
        "4. **Enhancing Evaluation and Metrics**  \n",
        "   - Current evaluation methods should be complemented with task-specific metrics such as BLEU, ROUGE, or METEOR for text generation tasks, and Mean Reciprocal Rank (MRR) for retrieval-related tasks.  \n",
        "   - Detailed error analysis should be conducted to identify recurring failure cases and refine the pipeline to address these challenges.  \n",
        "\n",
        "5. **Exploring New Use Cases**  \n",
        "   - Expanding the model’s functionality to support additional tasks, such as recommendations, could provide added value and align with future objectives.  \n",
        "\n",
        "6. **Ensuring Ethical Standards**  \n",
        "   - Ongoing evaluation of the model for biases in its outputs is essential. Measures should be implemented to address any identified issues, ensuring fair and ethical usage."
      ]
    },
    {
      "cell_type": "code",
      "execution_count": null,
      "metadata": {
        "id": "fQT_pMfsR4rx"
      },
      "outputs": [],
      "source": []
    }
  ],
  "metadata": {
    "accelerator": "GPU",
    "colab": {
      "gpuType": "T4",
      "provenance": [],
      "toc_visible": true
    },
    "kernelspec": {
      "display_name": "Python 3",
      "name": "python3"
    },
    "language_info": {
      "codemirror_mode": {
        "name": "ipython",
        "version": 3
      },
      "file_extension": ".py",
      "mimetype": "text/x-python",
      "name": "python",
      "nbconvert_exporter": "python",
      "pygments_lexer": "ipython3",
      "version": "3.11.10"
    },
    "widgets": {
      "application/vnd.jupyter.widget-state+json": {
        "0002ecee3ff74214a7aef7858265c5d8": {
          "model_module": "@jupyter-widgets/controls",
          "model_module_version": "1.5.0",
          "model_name": "HBoxModel",
          "state": {
            "_dom_classes": [],
            "_model_module": "@jupyter-widgets/controls",
            "_model_module_version": "1.5.0",
            "_model_name": "HBoxModel",
            "_view_count": null,
            "_view_module": "@jupyter-widgets/controls",
            "_view_module_version": "1.5.0",
            "_view_name": "HBoxView",
            "box_style": "",
            "children": [
              "IPY_MODEL_d6e03063e02b4a64a4c0cd9adf291322",
              "IPY_MODEL_6bfb6fdd7255479e89d9f4aab14b8b69",
              "IPY_MODEL_a68b4e94f8ce4bfca9f75f023f7d4cd1"
            ],
            "layout": "IPY_MODEL_89841e1755fa493e8b6e788c128ca6cb"
          }
        },
        "005a1ee5e17940d4b4901169a806652e": {
          "model_module": "@jupyter-widgets/base",
          "model_module_version": "1.2.0",
          "model_name": "LayoutModel",
          "state": {
            "_model_module": "@jupyter-widgets/base",
            "_model_module_version": "1.2.0",
            "_model_name": "LayoutModel",
            "_view_count": null,
            "_view_module": "@jupyter-widgets/base",
            "_view_module_version": "1.2.0",
            "_view_name": "LayoutView",
            "align_content": null,
            "align_items": null,
            "align_self": null,
            "border": null,
            "bottom": null,
            "display": null,
            "flex": null,
            "flex_flow": null,
            "grid_area": null,
            "grid_auto_columns": null,
            "grid_auto_flow": null,
            "grid_auto_rows": null,
            "grid_column": null,
            "grid_gap": null,
            "grid_row": null,
            "grid_template_areas": null,
            "grid_template_columns": null,
            "grid_template_rows": null,
            "height": null,
            "justify_content": null,
            "justify_items": null,
            "left": null,
            "margin": null,
            "max_height": null,
            "max_width": null,
            "min_height": null,
            "min_width": null,
            "object_fit": null,
            "object_position": null,
            "order": null,
            "overflow": null,
            "overflow_x": null,
            "overflow_y": null,
            "padding": null,
            "right": null,
            "top": null,
            "visibility": null,
            "width": null
          }
        },
        "009a62ec6271420b99ed4e0cbe7e3154": {
          "model_module": "@jupyter-widgets/controls",
          "model_module_version": "1.5.0",
          "model_name": "HBoxModel",
          "state": {
            "_dom_classes": [],
            "_model_module": "@jupyter-widgets/controls",
            "_model_module_version": "1.5.0",
            "_model_name": "HBoxModel",
            "_view_count": null,
            "_view_module": "@jupyter-widgets/controls",
            "_view_module_version": "1.5.0",
            "_view_name": "HBoxView",
            "box_style": "",
            "children": [
              "IPY_MODEL_d88bf03a903649faa0a28d52ae5e70f1",
              "IPY_MODEL_d8565c5c4c6547ec9c57a2beb302b7ab",
              "IPY_MODEL_b6236c0295274f5ea9dc38d17022fb0c"
            ],
            "layout": "IPY_MODEL_a6a2716e7be84afea1bcd3da47a51916"
          }
        },
        "014a938fd5734ea283fc3fdb000ce6b9": {
          "model_module": "@jupyter-widgets/base",
          "model_module_version": "1.2.0",
          "model_name": "LayoutModel",
          "state": {
            "_model_module": "@jupyter-widgets/base",
            "_model_module_version": "1.2.0",
            "_model_name": "LayoutModel",
            "_view_count": null,
            "_view_module": "@jupyter-widgets/base",
            "_view_module_version": "1.2.0",
            "_view_name": "LayoutView",
            "align_content": null,
            "align_items": null,
            "align_self": null,
            "border": null,
            "bottom": null,
            "display": null,
            "flex": null,
            "flex_flow": null,
            "grid_area": null,
            "grid_auto_columns": null,
            "grid_auto_flow": null,
            "grid_auto_rows": null,
            "grid_column": null,
            "grid_gap": null,
            "grid_row": null,
            "grid_template_areas": null,
            "grid_template_columns": null,
            "grid_template_rows": null,
            "height": null,
            "justify_content": null,
            "justify_items": null,
            "left": null,
            "margin": null,
            "max_height": null,
            "max_width": null,
            "min_height": null,
            "min_width": null,
            "object_fit": null,
            "object_position": null,
            "order": null,
            "overflow": null,
            "overflow_x": null,
            "overflow_y": null,
            "padding": null,
            "right": null,
            "top": null,
            "visibility": null,
            "width": null
          }
        },
        "037f13d93f9348e9991e92910b933ba4": {
          "model_module": "@jupyter-widgets/base",
          "model_module_version": "1.2.0",
          "model_name": "LayoutModel",
          "state": {
            "_model_module": "@jupyter-widgets/base",
            "_model_module_version": "1.2.0",
            "_model_name": "LayoutModel",
            "_view_count": null,
            "_view_module": "@jupyter-widgets/base",
            "_view_module_version": "1.2.0",
            "_view_name": "LayoutView",
            "align_content": null,
            "align_items": null,
            "align_self": null,
            "border": null,
            "bottom": null,
            "display": null,
            "flex": null,
            "flex_flow": null,
            "grid_area": null,
            "grid_auto_columns": null,
            "grid_auto_flow": null,
            "grid_auto_rows": null,
            "grid_column": null,
            "grid_gap": null,
            "grid_row": null,
            "grid_template_areas": null,
            "grid_template_columns": null,
            "grid_template_rows": null,
            "height": null,
            "justify_content": null,
            "justify_items": null,
            "left": null,
            "margin": null,
            "max_height": null,
            "max_width": null,
            "min_height": null,
            "min_width": null,
            "object_fit": null,
            "object_position": null,
            "order": null,
            "overflow": null,
            "overflow_x": null,
            "overflow_y": null,
            "padding": null,
            "right": null,
            "top": null,
            "visibility": null,
            "width": null
          }
        },
        "05ff7ddc11bf4dca83d6fec99483d184": {
          "model_module": "@jupyter-widgets/controls",
          "model_module_version": "1.5.0",
          "model_name": "HTMLModel",
          "state": {
            "_dom_classes": [],
            "_model_module": "@jupyter-widgets/controls",
            "_model_module_version": "1.5.0",
            "_model_name": "HTMLModel",
            "_view_count": null,
            "_view_module": "@jupyter-widgets/controls",
            "_view_module_version": "1.5.0",
            "_view_name": "HTMLView",
            "description": "",
            "description_tooltip": null,
            "layout": "IPY_MODEL_d6e2d4cfaabc40c2b520cd40d560ee2d",
            "placeholder": "​",
            "style": "IPY_MODEL_e39b0a82ec394aac963d080a0dae8eef",
            "value": "model.safetensors: 100%"
          }
        },
        "06e205491ab041fdb874571a7a66adb4": {
          "model_module": "@jupyter-widgets/controls",
          "model_module_version": "1.5.0",
          "model_name": "HTMLModel",
          "state": {
            "_dom_classes": [],
            "_model_module": "@jupyter-widgets/controls",
            "_model_module_version": "1.5.0",
            "_model_name": "HTMLModel",
            "_view_count": null,
            "_view_module": "@jupyter-widgets/controls",
            "_view_module_version": "1.5.0",
            "_view_name": "HTMLView",
            "description": "",
            "description_tooltip": null,
            "layout": "IPY_MODEL_e8c98bb6105b46bb94120369f4bfc9d0",
            "placeholder": "​",
            "style": "IPY_MODEL_61ac33f2c84f49ca866270b13b247e9b",
            "value": " 350/350 [00:00&lt;00:00, 18.4kB/s]"
          }
        },
        "08e847de650642969902d2201fb87b1b": {
          "model_module": "@jupyter-widgets/controls",
          "model_module_version": "1.5.0",
          "model_name": "ProgressStyleModel",
          "state": {
            "_model_module": "@jupyter-widgets/controls",
            "_model_module_version": "1.5.0",
            "_model_name": "ProgressStyleModel",
            "_view_count": null,
            "_view_module": "@jupyter-widgets/base",
            "_view_module_version": "1.2.0",
            "_view_name": "StyleView",
            "bar_color": null,
            "description_width": ""
          }
        },
        "0a29379a455a47d8861e89572970a950": {
          "model_module": "@jupyter-widgets/base",
          "model_module_version": "1.2.0",
          "model_name": "LayoutModel",
          "state": {
            "_model_module": "@jupyter-widgets/base",
            "_model_module_version": "1.2.0",
            "_model_name": "LayoutModel",
            "_view_count": null,
            "_view_module": "@jupyter-widgets/base",
            "_view_module_version": "1.2.0",
            "_view_name": "LayoutView",
            "align_content": null,
            "align_items": null,
            "align_self": null,
            "border": null,
            "bottom": null,
            "display": null,
            "flex": null,
            "flex_flow": null,
            "grid_area": null,
            "grid_auto_columns": null,
            "grid_auto_flow": null,
            "grid_auto_rows": null,
            "grid_column": null,
            "grid_gap": null,
            "grid_row": null,
            "grid_template_areas": null,
            "grid_template_columns": null,
            "grid_template_rows": null,
            "height": null,
            "justify_content": null,
            "justify_items": null,
            "left": null,
            "margin": null,
            "max_height": null,
            "max_width": null,
            "min_height": null,
            "min_width": null,
            "object_fit": null,
            "object_position": null,
            "order": null,
            "overflow": null,
            "overflow_x": null,
            "overflow_y": null,
            "padding": null,
            "right": null,
            "top": null,
            "visibility": null,
            "width": null
          }
        },
        "0a5f404df1aa4e8d8da3013181ba1b8d": {
          "model_module": "@jupyter-widgets/base",
          "model_module_version": "1.2.0",
          "model_name": "LayoutModel",
          "state": {
            "_model_module": "@jupyter-widgets/base",
            "_model_module_version": "1.2.0",
            "_model_name": "LayoutModel",
            "_view_count": null,
            "_view_module": "@jupyter-widgets/base",
            "_view_module_version": "1.2.0",
            "_view_name": "LayoutView",
            "align_content": null,
            "align_items": null,
            "align_self": null,
            "border": null,
            "bottom": null,
            "display": null,
            "flex": null,
            "flex_flow": null,
            "grid_area": null,
            "grid_auto_columns": null,
            "grid_auto_flow": null,
            "grid_auto_rows": null,
            "grid_column": null,
            "grid_gap": null,
            "grid_row": null,
            "grid_template_areas": null,
            "grid_template_columns": null,
            "grid_template_rows": null,
            "height": null,
            "justify_content": null,
            "justify_items": null,
            "left": null,
            "margin": null,
            "max_height": null,
            "max_width": null,
            "min_height": null,
            "min_width": null,
            "object_fit": null,
            "object_position": null,
            "order": null,
            "overflow": null,
            "overflow_x": null,
            "overflow_y": null,
            "padding": null,
            "right": null,
            "top": null,
            "visibility": null,
            "width": null
          }
        },
        "0cde9ce472cc47e488f1a2d28d4d9047": {
          "model_module": "@jupyter-widgets/controls",
          "model_module_version": "1.5.0",
          "model_name": "HTMLModel",
          "state": {
            "_dom_classes": [],
            "_model_module": "@jupyter-widgets/controls",
            "_model_module_version": "1.5.0",
            "_model_name": "HTMLModel",
            "_view_count": null,
            "_view_module": "@jupyter-widgets/controls",
            "_view_module_version": "1.5.0",
            "_view_name": "HTMLView",
            "description": "",
            "description_tooltip": null,
            "layout": "IPY_MODEL_722489332606459e9b366b4d5077c7f7",
            "placeholder": "​",
            "style": "IPY_MODEL_e2800eb874be4f0697193d8d94f33d5c",
            "value": "tokenizer_config.json: 100%"
          }
        },
        "0d6d8dbd30c941e5a75946166bfbc526": {
          "model_module": "@jupyter-widgets/controls",
          "model_module_version": "1.5.0",
          "model_name": "HTMLModel",
          "state": {
            "_dom_classes": [],
            "_model_module": "@jupyter-widgets/controls",
            "_model_module_version": "1.5.0",
            "_model_name": "HTMLModel",
            "_view_count": null,
            "_view_module": "@jupyter-widgets/controls",
            "_view_module_version": "1.5.0",
            "_view_name": "HTMLView",
            "description": "",
            "description_tooltip": null,
            "layout": "IPY_MODEL_d526649a612e46d58ac61c65d8f867fb",
            "placeholder": "​",
            "style": "IPY_MODEL_efaec478e6ff440981707e1010034b65",
            "value": "README.md: 100%"
          }
        },
        "13d9d660228e4dcca22a70f831328e31": {
          "model_module": "@jupyter-widgets/controls",
          "model_module_version": "1.5.0",
          "model_name": "HBoxModel",
          "state": {
            "_dom_classes": [],
            "_model_module": "@jupyter-widgets/controls",
            "_model_module_version": "1.5.0",
            "_model_name": "HBoxModel",
            "_view_count": null,
            "_view_module": "@jupyter-widgets/controls",
            "_view_module_version": "1.5.0",
            "_view_name": "HBoxView",
            "box_style": "",
            "children": [
              "IPY_MODEL_f683378210ce4f29bda8dade662910ab",
              "IPY_MODEL_b9f7b145ee944820aea90fe51d40a510",
              "IPY_MODEL_2f44337e1fd148399e0d78dca31c1895"
            ],
            "layout": "IPY_MODEL_8b93efe6247d4ca18185e1da41281cc0"
          }
        },
        "1689b5bf95ec4259977f914143a4182d": {
          "model_module": "@jupyter-widgets/controls",
          "model_module_version": "1.5.0",
          "model_name": "ProgressStyleModel",
          "state": {
            "_model_module": "@jupyter-widgets/controls",
            "_model_module_version": "1.5.0",
            "_model_name": "ProgressStyleModel",
            "_view_count": null,
            "_view_module": "@jupyter-widgets/base",
            "_view_module_version": "1.2.0",
            "_view_name": "StyleView",
            "bar_color": null,
            "description_width": ""
          }
        },
        "16d81cad7e7540dbbf33a5a583536c85": {
          "model_module": "@jupyter-widgets/base",
          "model_module_version": "1.2.0",
          "model_name": "LayoutModel",
          "state": {
            "_model_module": "@jupyter-widgets/base",
            "_model_module_version": "1.2.0",
            "_model_name": "LayoutModel",
            "_view_count": null,
            "_view_module": "@jupyter-widgets/base",
            "_view_module_version": "1.2.0",
            "_view_name": "LayoutView",
            "align_content": null,
            "align_items": null,
            "align_self": null,
            "border": null,
            "bottom": null,
            "display": null,
            "flex": null,
            "flex_flow": null,
            "grid_area": null,
            "grid_auto_columns": null,
            "grid_auto_flow": null,
            "grid_auto_rows": null,
            "grid_column": null,
            "grid_gap": null,
            "grid_row": null,
            "grid_template_areas": null,
            "grid_template_columns": null,
            "grid_template_rows": null,
            "height": null,
            "justify_content": null,
            "justify_items": null,
            "left": null,
            "margin": null,
            "max_height": null,
            "max_width": null,
            "min_height": null,
            "min_width": null,
            "object_fit": null,
            "object_position": null,
            "order": null,
            "overflow": null,
            "overflow_x": null,
            "overflow_y": null,
            "padding": null,
            "right": null,
            "top": null,
            "visibility": null,
            "width": null
          }
        },
        "1a68541eb362427e9d9bbf41ba7ae642": {
          "model_module": "@jupyter-widgets/base",
          "model_module_version": "1.2.0",
          "model_name": "LayoutModel",
          "state": {
            "_model_module": "@jupyter-widgets/base",
            "_model_module_version": "1.2.0",
            "_model_name": "LayoutModel",
            "_view_count": null,
            "_view_module": "@jupyter-widgets/base",
            "_view_module_version": "1.2.0",
            "_view_name": "LayoutView",
            "align_content": null,
            "align_items": null,
            "align_self": null,
            "border": null,
            "bottom": null,
            "display": null,
            "flex": null,
            "flex_flow": null,
            "grid_area": null,
            "grid_auto_columns": null,
            "grid_auto_flow": null,
            "grid_auto_rows": null,
            "grid_column": null,
            "grid_gap": null,
            "grid_row": null,
            "grid_template_areas": null,
            "grid_template_columns": null,
            "grid_template_rows": null,
            "height": null,
            "justify_content": null,
            "justify_items": null,
            "left": null,
            "margin": null,
            "max_height": null,
            "max_width": null,
            "min_height": null,
            "min_width": null,
            "object_fit": null,
            "object_position": null,
            "order": null,
            "overflow": null,
            "overflow_x": null,
            "overflow_y": null,
            "padding": null,
            "right": null,
            "top": null,
            "visibility": null,
            "width": null
          }
        },
        "1f7279b0e8a14ee5b1ca9a58aeacf547": {
          "model_module": "@jupyter-widgets/controls",
          "model_module_version": "1.5.0",
          "model_name": "DescriptionStyleModel",
          "state": {
            "_model_module": "@jupyter-widgets/controls",
            "_model_module_version": "1.5.0",
            "_model_name": "DescriptionStyleModel",
            "_view_count": null,
            "_view_module": "@jupyter-widgets/base",
            "_view_module_version": "1.2.0",
            "_view_name": "StyleView",
            "description_width": ""
          }
        },
        "21878d9d3b0848338bab418efe8ef936": {
          "model_module": "@jupyter-widgets/controls",
          "model_module_version": "1.5.0",
          "model_name": "HTMLModel",
          "state": {
            "_dom_classes": [],
            "_model_module": "@jupyter-widgets/controls",
            "_model_module_version": "1.5.0",
            "_model_name": "HTMLModel",
            "_view_count": null,
            "_view_module": "@jupyter-widgets/controls",
            "_view_module_version": "1.5.0",
            "_view_name": "HTMLView",
            "description": "",
            "description_tooltip": null,
            "layout": "IPY_MODEL_68fa953c76044f9aba420c4fa81af67f",
            "placeholder": "​",
            "style": "IPY_MODEL_cbc44f5d1d3d4bfe9145df584ff34407",
            "value": " 466k/466k [00:00&lt;00:00, 3.42MB/s]"
          }
        },
        "239fa9af261d437e83494e17e59d8eeb": {
          "model_module": "@jupyter-widgets/controls",
          "model_module_version": "1.5.0",
          "model_name": "DescriptionStyleModel",
          "state": {
            "_model_module": "@jupyter-widgets/controls",
            "_model_module_version": "1.5.0",
            "_model_name": "DescriptionStyleModel",
            "_view_count": null,
            "_view_module": "@jupyter-widgets/base",
            "_view_module_version": "1.2.0",
            "_view_name": "StyleView",
            "description_width": ""
          }
        },
        "26c3cbf4c3a6458cabfb32918a5bcc7c": {
          "model_module": "@jupyter-widgets/controls",
          "model_module_version": "1.5.0",
          "model_name": "FloatProgressModel",
          "state": {
            "_dom_classes": [],
            "_model_module": "@jupyter-widgets/controls",
            "_model_module_version": "1.5.0",
            "_model_name": "FloatProgressModel",
            "_view_count": null,
            "_view_module": "@jupyter-widgets/controls",
            "_view_module_version": "1.5.0",
            "_view_name": "ProgressView",
            "bar_style": "success",
            "description": "",
            "description_tooltip": null,
            "layout": "IPY_MODEL_aa6a8997a2df47ff918ac2378112adc8",
            "max": 116,
            "min": 0,
            "orientation": "horizontal",
            "style": "IPY_MODEL_ee80f32461784baa9c1a087d660a86b0",
            "value": 116
          }
        },
        "27e0d7feb67f48b4b0085b362ccde186": {
          "model_module": "@jupyter-widgets/controls",
          "model_module_version": "1.5.0",
          "model_name": "HBoxModel",
          "state": {
            "_dom_classes": [],
            "_model_module": "@jupyter-widgets/controls",
            "_model_module_version": "1.5.0",
            "_model_name": "HBoxModel",
            "_view_count": null,
            "_view_module": "@jupyter-widgets/controls",
            "_view_module_version": "1.5.0",
            "_view_name": "HBoxView",
            "box_style": "",
            "children": [
              "IPY_MODEL_453c2fc0c01d4308be05976a9369c8c4",
              "IPY_MODEL_cca2ee7b7eef47a6b203dff41d6031c5",
              "IPY_MODEL_21878d9d3b0848338bab418efe8ef936"
            ],
            "layout": "IPY_MODEL_2abfda27707d446db0113a6531eabe9a"
          }
        },
        "2abfda27707d446db0113a6531eabe9a": {
          "model_module": "@jupyter-widgets/base",
          "model_module_version": "1.2.0",
          "model_name": "LayoutModel",
          "state": {
            "_model_module": "@jupyter-widgets/base",
            "_model_module_version": "1.2.0",
            "_model_name": "LayoutModel",
            "_view_count": null,
            "_view_module": "@jupyter-widgets/base",
            "_view_module_version": "1.2.0",
            "_view_name": "LayoutView",
            "align_content": null,
            "align_items": null,
            "align_self": null,
            "border": null,
            "bottom": null,
            "display": null,
            "flex": null,
            "flex_flow": null,
            "grid_area": null,
            "grid_auto_columns": null,
            "grid_auto_flow": null,
            "grid_auto_rows": null,
            "grid_column": null,
            "grid_gap": null,
            "grid_row": null,
            "grid_template_areas": null,
            "grid_template_columns": null,
            "grid_template_rows": null,
            "height": null,
            "justify_content": null,
            "justify_items": null,
            "left": null,
            "margin": null,
            "max_height": null,
            "max_width": null,
            "min_height": null,
            "min_width": null,
            "object_fit": null,
            "object_position": null,
            "order": null,
            "overflow": null,
            "overflow_x": null,
            "overflow_y": null,
            "padding": null,
            "right": null,
            "top": null,
            "visibility": null,
            "width": null
          }
        },
        "2deef55c159748958e4440bbc4de3456": {
          "model_module": "@jupyter-widgets/controls",
          "model_module_version": "1.5.0",
          "model_name": "HBoxModel",
          "state": {
            "_dom_classes": [],
            "_model_module": "@jupyter-widgets/controls",
            "_model_module_version": "1.5.0",
            "_model_name": "HBoxModel",
            "_view_count": null,
            "_view_module": "@jupyter-widgets/controls",
            "_view_module_version": "1.5.0",
            "_view_name": "HBoxView",
            "box_style": "",
            "children": [
              "IPY_MODEL_0cde9ce472cc47e488f1a2d28d4d9047",
              "IPY_MODEL_4319de9f556d49f6b176c902a690da79",
              "IPY_MODEL_06e205491ab041fdb874571a7a66adb4"
            ],
            "layout": "IPY_MODEL_dd3910700a914e28834f4a8a154eab13"
          }
        },
        "2eda18632f88414299a38d5fc6617701": {
          "model_module": "@jupyter-widgets/base",
          "model_module_version": "1.2.0",
          "model_name": "LayoutModel",
          "state": {
            "_model_module": "@jupyter-widgets/base",
            "_model_module_version": "1.2.0",
            "_model_name": "LayoutModel",
            "_view_count": null,
            "_view_module": "@jupyter-widgets/base",
            "_view_module_version": "1.2.0",
            "_view_name": "LayoutView",
            "align_content": null,
            "align_items": null,
            "align_self": null,
            "border": null,
            "bottom": null,
            "display": null,
            "flex": null,
            "flex_flow": null,
            "grid_area": null,
            "grid_auto_columns": null,
            "grid_auto_flow": null,
            "grid_auto_rows": null,
            "grid_column": null,
            "grid_gap": null,
            "grid_row": null,
            "grid_template_areas": null,
            "grid_template_columns": null,
            "grid_template_rows": null,
            "height": null,
            "justify_content": null,
            "justify_items": null,
            "left": null,
            "margin": null,
            "max_height": null,
            "max_width": null,
            "min_height": null,
            "min_width": null,
            "object_fit": null,
            "object_position": null,
            "order": null,
            "overflow": null,
            "overflow_x": null,
            "overflow_y": null,
            "padding": null,
            "right": null,
            "top": null,
            "visibility": null,
            "width": null
          }
        },
        "2f44337e1fd148399e0d78dca31c1895": {
          "model_module": "@jupyter-widgets/controls",
          "model_module_version": "1.5.0",
          "model_name": "HTMLModel",
          "state": {
            "_dom_classes": [],
            "_model_module": "@jupyter-widgets/controls",
            "_model_module_version": "1.5.0",
            "_model_name": "HTMLModel",
            "_view_count": null,
            "_view_module": "@jupyter-widgets/controls",
            "_view_module_version": "1.5.0",
            "_view_name": "HTMLView",
            "description": "",
            "description_tooltip": null,
            "layout": "IPY_MODEL_16d81cad7e7540dbbf33a5a583536c85",
            "placeholder": "​",
            "style": "IPY_MODEL_ff8d3d36e14f48259cf35ea7bc2e937d",
            "value": " 190/190 [00:00&lt;00:00, 14.9kB/s]"
          }
        },
        "32767d3f76534b8abc9b4ceaa175eb51": {
          "model_module": "@jupyter-widgets/controls",
          "model_module_version": "1.5.0",
          "model_name": "DescriptionStyleModel",
          "state": {
            "_model_module": "@jupyter-widgets/controls",
            "_model_module_version": "1.5.0",
            "_model_name": "DescriptionStyleModel",
            "_view_count": null,
            "_view_module": "@jupyter-widgets/base",
            "_view_module_version": "1.2.0",
            "_view_name": "StyleView",
            "description_width": ""
          }
        },
        "32f3bb85b0134833ac7c57efc2e6dc5e": {
          "model_module": "@jupyter-widgets/controls",
          "model_module_version": "1.5.0",
          "model_name": "DescriptionStyleModel",
          "state": {
            "_model_module": "@jupyter-widgets/controls",
            "_model_module_version": "1.5.0",
            "_model_name": "DescriptionStyleModel",
            "_view_count": null,
            "_view_module": "@jupyter-widgets/base",
            "_view_module_version": "1.2.0",
            "_view_name": "StyleView",
            "description_width": ""
          }
        },
        "3430ea5141254604809d3257d5c4974a": {
          "model_module": "@jupyter-widgets/base",
          "model_module_version": "1.2.0",
          "model_name": "LayoutModel",
          "state": {
            "_model_module": "@jupyter-widgets/base",
            "_model_module_version": "1.2.0",
            "_model_name": "LayoutModel",
            "_view_count": null,
            "_view_module": "@jupyter-widgets/base",
            "_view_module_version": "1.2.0",
            "_view_name": "LayoutView",
            "align_content": null,
            "align_items": null,
            "align_self": null,
            "border": null,
            "bottom": null,
            "display": null,
            "flex": null,
            "flex_flow": null,
            "grid_area": null,
            "grid_auto_columns": null,
            "grid_auto_flow": null,
            "grid_auto_rows": null,
            "grid_column": null,
            "grid_gap": null,
            "grid_row": null,
            "grid_template_areas": null,
            "grid_template_columns": null,
            "grid_template_rows": null,
            "height": null,
            "justify_content": null,
            "justify_items": null,
            "left": null,
            "margin": null,
            "max_height": null,
            "max_width": null,
            "min_height": null,
            "min_width": null,
            "object_fit": null,
            "object_position": null,
            "order": null,
            "overflow": null,
            "overflow_x": null,
            "overflow_y": null,
            "padding": null,
            "right": null,
            "top": null,
            "visibility": null,
            "width": null
          }
        },
        "3a232ec8a2a9490f94c0dda6b0c7bc83": {
          "model_module": "@jupyter-widgets/controls",
          "model_module_version": "1.5.0",
          "model_name": "DescriptionStyleModel",
          "state": {
            "_model_module": "@jupyter-widgets/controls",
            "_model_module_version": "1.5.0",
            "_model_name": "DescriptionStyleModel",
            "_view_count": null,
            "_view_module": "@jupyter-widgets/base",
            "_view_module_version": "1.2.0",
            "_view_name": "StyleView",
            "description_width": ""
          }
        },
        "425ff2fe355a440384db50e0fe2c29a8": {
          "model_module": "@jupyter-widgets/controls",
          "model_module_version": "1.5.0",
          "model_name": "HTMLModel",
          "state": {
            "_dom_classes": [],
            "_model_module": "@jupyter-widgets/controls",
            "_model_module_version": "1.5.0",
            "_model_name": "HTMLModel",
            "_view_count": null,
            "_view_module": "@jupyter-widgets/controls",
            "_view_module_version": "1.5.0",
            "_view_name": "HTMLView",
            "description": "",
            "description_tooltip": null,
            "layout": "IPY_MODEL_d460872215dd4fdb87e75fb0beedebbd",
            "placeholder": "​",
            "style": "IPY_MODEL_32767d3f76534b8abc9b4ceaa175eb51",
            "value": " 112/112 [00:00&lt;00:00, 8.37kB/s]"
          }
        },
        "4319de9f556d49f6b176c902a690da79": {
          "model_module": "@jupyter-widgets/controls",
          "model_module_version": "1.5.0",
          "model_name": "FloatProgressModel",
          "state": {
            "_dom_classes": [],
            "_model_module": "@jupyter-widgets/controls",
            "_model_module_version": "1.5.0",
            "_model_name": "FloatProgressModel",
            "_view_count": null,
            "_view_module": "@jupyter-widgets/controls",
            "_view_module_version": "1.5.0",
            "_view_name": "ProgressView",
            "bar_style": "success",
            "description": "",
            "description_tooltip": null,
            "layout": "IPY_MODEL_83428e88ecf548ed8cedaa579f77da3d",
            "max": 350,
            "min": 0,
            "orientation": "horizontal",
            "style": "IPY_MODEL_f5c49e043e134be49fff584ef100e0c1",
            "value": 350
          }
        },
        "4477d4cd32ce4a05970d5ccd9150e194": {
          "model_module": "@jupyter-widgets/controls",
          "model_module_version": "1.5.0",
          "model_name": "HTMLModel",
          "state": {
            "_dom_classes": [],
            "_model_module": "@jupyter-widgets/controls",
            "_model_module_version": "1.5.0",
            "_model_name": "HTMLModel",
            "_view_count": null,
            "_view_module": "@jupyter-widgets/controls",
            "_view_module_version": "1.5.0",
            "_view_name": "HTMLView",
            "description": "",
            "description_tooltip": null,
            "layout": "IPY_MODEL_605c4e7e8fda4c7bbf27f81e55f5e030",
            "placeholder": "​",
            "style": "IPY_MODEL_d9358d503ae54c0da1575cd8a1125012",
            "value": "modules.json: 100%"
          }
        },
        "44c53b354bfe4be880ffa55943b3afd7": {
          "model_module": "@jupyter-widgets/base",
          "model_module_version": "1.2.0",
          "model_name": "LayoutModel",
          "state": {
            "_model_module": "@jupyter-widgets/base",
            "_model_module_version": "1.2.0",
            "_model_name": "LayoutModel",
            "_view_count": null,
            "_view_module": "@jupyter-widgets/base",
            "_view_module_version": "1.2.0",
            "_view_name": "LayoutView",
            "align_content": null,
            "align_items": null,
            "align_self": null,
            "border": null,
            "bottom": null,
            "display": null,
            "flex": null,
            "flex_flow": null,
            "grid_area": null,
            "grid_auto_columns": null,
            "grid_auto_flow": null,
            "grid_auto_rows": null,
            "grid_column": null,
            "grid_gap": null,
            "grid_row": null,
            "grid_template_areas": null,
            "grid_template_columns": null,
            "grid_template_rows": null,
            "height": null,
            "justify_content": null,
            "justify_items": null,
            "left": null,
            "margin": null,
            "max_height": null,
            "max_width": null,
            "min_height": null,
            "min_width": null,
            "object_fit": null,
            "object_position": null,
            "order": null,
            "overflow": null,
            "overflow_x": null,
            "overflow_y": null,
            "padding": null,
            "right": null,
            "top": null,
            "visibility": null,
            "width": null
          }
        },
        "453c2fc0c01d4308be05976a9369c8c4": {
          "model_module": "@jupyter-widgets/controls",
          "model_module_version": "1.5.0",
          "model_name": "HTMLModel",
          "state": {
            "_dom_classes": [],
            "_model_module": "@jupyter-widgets/controls",
            "_model_module_version": "1.5.0",
            "_model_name": "HTMLModel",
            "_view_count": null,
            "_view_module": "@jupyter-widgets/controls",
            "_view_module_version": "1.5.0",
            "_view_name": "HTMLView",
            "description": "",
            "description_tooltip": null,
            "layout": "IPY_MODEL_7394a75b712e410d9297719694c13f85",
            "placeholder": "​",
            "style": "IPY_MODEL_239fa9af261d437e83494e17e59d8eeb",
            "value": "tokenizer.json: 100%"
          }
        },
        "4635d516b1b6461884a4d1b1ec39e5a9": {
          "model_module": "@jupyter-widgets/controls",
          "model_module_version": "1.5.0",
          "model_name": "FloatProgressModel",
          "state": {
            "_dom_classes": [],
            "_model_module": "@jupyter-widgets/controls",
            "_model_module_version": "1.5.0",
            "_model_name": "FloatProgressModel",
            "_view_count": null,
            "_view_module": "@jupyter-widgets/controls",
            "_view_module_version": "1.5.0",
            "_view_name": "ProgressView",
            "bar_style": "success",
            "description": "",
            "description_tooltip": null,
            "layout": "IPY_MODEL_4ef596742c71402f8c3232f9ded8f80d",
            "max": 349,
            "min": 0,
            "orientation": "horizontal",
            "style": "IPY_MODEL_73ef18bfa17b4001bf31bc00410fa8e6",
            "value": 349
          }
        },
        "4a6f6b9e9eac4bc6bc3ee6137876a3ab": {
          "model_module": "@jupyter-widgets/controls",
          "model_module_version": "1.5.0",
          "model_name": "HTMLModel",
          "state": {
            "_dom_classes": [],
            "_model_module": "@jupyter-widgets/controls",
            "_model_module_version": "1.5.0",
            "_model_name": "HTMLModel",
            "_view_count": null,
            "_view_module": "@jupyter-widgets/controls",
            "_view_module_version": "1.5.0",
            "_view_name": "HTMLView",
            "description": "",
            "description_tooltip": null,
            "layout": "IPY_MODEL_ff74c64bcc804eec98fec7a1b28de68c",
            "placeholder": "​",
            "style": "IPY_MODEL_50ecad91e2504f5c94901de899c4be07",
            "value": "sentence_bert_config.json: 100%"
          }
        },
        "4c703dba73a54108a2253bc203773963": {
          "model_module": "@jupyter-widgets/base",
          "model_module_version": "1.2.0",
          "model_name": "LayoutModel",
          "state": {
            "_model_module": "@jupyter-widgets/base",
            "_model_module_version": "1.2.0",
            "_model_name": "LayoutModel",
            "_view_count": null,
            "_view_module": "@jupyter-widgets/base",
            "_view_module_version": "1.2.0",
            "_view_name": "LayoutView",
            "align_content": null,
            "align_items": null,
            "align_self": null,
            "border": null,
            "bottom": null,
            "display": null,
            "flex": null,
            "flex_flow": null,
            "grid_area": null,
            "grid_auto_columns": null,
            "grid_auto_flow": null,
            "grid_auto_rows": null,
            "grid_column": null,
            "grid_gap": null,
            "grid_row": null,
            "grid_template_areas": null,
            "grid_template_columns": null,
            "grid_template_rows": null,
            "height": null,
            "justify_content": null,
            "justify_items": null,
            "left": null,
            "margin": null,
            "max_height": null,
            "max_width": null,
            "min_height": null,
            "min_width": null,
            "object_fit": null,
            "object_position": null,
            "order": null,
            "overflow": null,
            "overflow_x": null,
            "overflow_y": null,
            "padding": null,
            "right": null,
            "top": null,
            "visibility": null,
            "width": null
          }
        },
        "4ef596742c71402f8c3232f9ded8f80d": {
          "model_module": "@jupyter-widgets/base",
          "model_module_version": "1.2.0",
          "model_name": "LayoutModel",
          "state": {
            "_model_module": "@jupyter-widgets/base",
            "_model_module_version": "1.2.0",
            "_model_name": "LayoutModel",
            "_view_count": null,
            "_view_module": "@jupyter-widgets/base",
            "_view_module_version": "1.2.0",
            "_view_name": "LayoutView",
            "align_content": null,
            "align_items": null,
            "align_self": null,
            "border": null,
            "bottom": null,
            "display": null,
            "flex": null,
            "flex_flow": null,
            "grid_area": null,
            "grid_auto_columns": null,
            "grid_auto_flow": null,
            "grid_auto_rows": null,
            "grid_column": null,
            "grid_gap": null,
            "grid_row": null,
            "grid_template_areas": null,
            "grid_template_columns": null,
            "grid_template_rows": null,
            "height": null,
            "justify_content": null,
            "justify_items": null,
            "left": null,
            "margin": null,
            "max_height": null,
            "max_width": null,
            "min_height": null,
            "min_width": null,
            "object_fit": null,
            "object_position": null,
            "order": null,
            "overflow": null,
            "overflow_x": null,
            "overflow_y": null,
            "padding": null,
            "right": null,
            "top": null,
            "visibility": null,
            "width": null
          }
        },
        "50aff91eed684c1993aa0f03bd59a92a": {
          "model_module": "@jupyter-widgets/base",
          "model_module_version": "1.2.0",
          "model_name": "LayoutModel",
          "state": {
            "_model_module": "@jupyter-widgets/base",
            "_model_module_version": "1.2.0",
            "_model_name": "LayoutModel",
            "_view_count": null,
            "_view_module": "@jupyter-widgets/base",
            "_view_module_version": "1.2.0",
            "_view_name": "LayoutView",
            "align_content": null,
            "align_items": null,
            "align_self": null,
            "border": null,
            "bottom": null,
            "display": null,
            "flex": null,
            "flex_flow": null,
            "grid_area": null,
            "grid_auto_columns": null,
            "grid_auto_flow": null,
            "grid_auto_rows": null,
            "grid_column": null,
            "grid_gap": null,
            "grid_row": null,
            "grid_template_areas": null,
            "grid_template_columns": null,
            "grid_template_rows": null,
            "height": null,
            "justify_content": null,
            "justify_items": null,
            "left": null,
            "margin": null,
            "max_height": null,
            "max_width": null,
            "min_height": null,
            "min_width": null,
            "object_fit": null,
            "object_position": null,
            "order": null,
            "overflow": null,
            "overflow_x": null,
            "overflow_y": null,
            "padding": null,
            "right": null,
            "top": null,
            "visibility": null,
            "width": null
          }
        },
        "50ecad91e2504f5c94901de899c4be07": {
          "model_module": "@jupyter-widgets/controls",
          "model_module_version": "1.5.0",
          "model_name": "DescriptionStyleModel",
          "state": {
            "_model_module": "@jupyter-widgets/controls",
            "_model_module_version": "1.5.0",
            "_model_name": "DescriptionStyleModel",
            "_view_count": null,
            "_view_module": "@jupyter-widgets/base",
            "_view_module_version": "1.2.0",
            "_view_name": "StyleView",
            "description_width": ""
          }
        },
        "5105b05e91bc4735a6fab5fd52f2ae29": {
          "model_module": "@jupyter-widgets/controls",
          "model_module_version": "1.5.0",
          "model_name": "DescriptionStyleModel",
          "state": {
            "_model_module": "@jupyter-widgets/controls",
            "_model_module_version": "1.5.0",
            "_model_name": "DescriptionStyleModel",
            "_view_count": null,
            "_view_module": "@jupyter-widgets/base",
            "_view_module_version": "1.2.0",
            "_view_name": "StyleView",
            "description_width": ""
          }
        },
        "556dc801c3e845b8906b06ffdf9d42fb": {
          "model_module": "@jupyter-widgets/controls",
          "model_module_version": "1.5.0",
          "model_name": "HTMLModel",
          "state": {
            "_dom_classes": [],
            "_model_module": "@jupyter-widgets/controls",
            "_model_module_version": "1.5.0",
            "_model_name": "HTMLModel",
            "_view_count": null,
            "_view_module": "@jupyter-widgets/controls",
            "_view_module_version": "1.5.0",
            "_view_name": "HTMLView",
            "description": "",
            "description_tooltip": null,
            "layout": "IPY_MODEL_0a5f404df1aa4e8d8da3013181ba1b8d",
            "placeholder": "​",
            "style": "IPY_MODEL_32f3bb85b0134833ac7c57efc2e6dc5e",
            "value": "special_tokens_map.json: 100%"
          }
        },
        "5911c9c48fa54292aae8aeb52c46e760": {
          "model_module": "@jupyter-widgets/controls",
          "model_module_version": "1.5.0",
          "model_name": "DescriptionStyleModel",
          "state": {
            "_model_module": "@jupyter-widgets/controls",
            "_model_module_version": "1.5.0",
            "_model_name": "DescriptionStyleModel",
            "_view_count": null,
            "_view_module": "@jupyter-widgets/base",
            "_view_module_version": "1.2.0",
            "_view_name": "StyleView",
            "description_width": ""
          }
        },
        "5a887f03a3f84dbe82e7b4605f4bc01c": {
          "model_module": "@jupyter-widgets/base",
          "model_module_version": "1.2.0",
          "model_name": "LayoutModel",
          "state": {
            "_model_module": "@jupyter-widgets/base",
            "_model_module_version": "1.2.0",
            "_model_name": "LayoutModel",
            "_view_count": null,
            "_view_module": "@jupyter-widgets/base",
            "_view_module_version": "1.2.0",
            "_view_name": "LayoutView",
            "align_content": null,
            "align_items": null,
            "align_self": null,
            "border": null,
            "bottom": null,
            "display": null,
            "flex": null,
            "flex_flow": null,
            "grid_area": null,
            "grid_auto_columns": null,
            "grid_auto_flow": null,
            "grid_auto_rows": null,
            "grid_column": null,
            "grid_gap": null,
            "grid_row": null,
            "grid_template_areas": null,
            "grid_template_columns": null,
            "grid_template_rows": null,
            "height": null,
            "justify_content": null,
            "justify_items": null,
            "left": null,
            "margin": null,
            "max_height": null,
            "max_width": null,
            "min_height": null,
            "min_width": null,
            "object_fit": null,
            "object_position": null,
            "order": null,
            "overflow": null,
            "overflow_x": null,
            "overflow_y": null,
            "padding": null,
            "right": null,
            "top": null,
            "visibility": null,
            "width": null
          }
        },
        "605c4e7e8fda4c7bbf27f81e55f5e030": {
          "model_module": "@jupyter-widgets/base",
          "model_module_version": "1.2.0",
          "model_name": "LayoutModel",
          "state": {
            "_model_module": "@jupyter-widgets/base",
            "_model_module_version": "1.2.0",
            "_model_name": "LayoutModel",
            "_view_count": null,
            "_view_module": "@jupyter-widgets/base",
            "_view_module_version": "1.2.0",
            "_view_name": "LayoutView",
            "align_content": null,
            "align_items": null,
            "align_self": null,
            "border": null,
            "bottom": null,
            "display": null,
            "flex": null,
            "flex_flow": null,
            "grid_area": null,
            "grid_auto_columns": null,
            "grid_auto_flow": null,
            "grid_auto_rows": null,
            "grid_column": null,
            "grid_gap": null,
            "grid_row": null,
            "grid_template_areas": null,
            "grid_template_columns": null,
            "grid_template_rows": null,
            "height": null,
            "justify_content": null,
            "justify_items": null,
            "left": null,
            "margin": null,
            "max_height": null,
            "max_width": null,
            "min_height": null,
            "min_width": null,
            "object_fit": null,
            "object_position": null,
            "order": null,
            "overflow": null,
            "overflow_x": null,
            "overflow_y": null,
            "padding": null,
            "right": null,
            "top": null,
            "visibility": null,
            "width": null
          }
        },
        "6122d007c8d34757a94f62d2a743da9a": {
          "model_module": "@jupyter-widgets/controls",
          "model_module_version": "1.5.0",
          "model_name": "HTMLModel",
          "state": {
            "_dom_classes": [],
            "_model_module": "@jupyter-widgets/controls",
            "_model_module_version": "1.5.0",
            "_model_name": "HTMLModel",
            "_view_count": null,
            "_view_module": "@jupyter-widgets/controls",
            "_view_module_version": "1.5.0",
            "_view_name": "HTMLView",
            "description": "",
            "description_tooltip": null,
            "layout": "IPY_MODEL_44c53b354bfe4be880ffa55943b3afd7",
            "placeholder": "​",
            "style": "IPY_MODEL_9f717e047b044a80904ef55bc75c49d5",
            "value": " 349/349 [00:00&lt;00:00, 17.0kB/s]"
          }
        },
        "61ac33f2c84f49ca866270b13b247e9b": {
          "model_module": "@jupyter-widgets/controls",
          "model_module_version": "1.5.0",
          "model_name": "DescriptionStyleModel",
          "state": {
            "_model_module": "@jupyter-widgets/controls",
            "_model_module_version": "1.5.0",
            "_model_name": "DescriptionStyleModel",
            "_view_count": null,
            "_view_module": "@jupyter-widgets/base",
            "_view_module_version": "1.2.0",
            "_view_name": "StyleView",
            "description_width": ""
          }
        },
        "642cc1e590064a778273119463a3a2f5": {
          "model_module": "@jupyter-widgets/base",
          "model_module_version": "1.2.0",
          "model_name": "LayoutModel",
          "state": {
            "_model_module": "@jupyter-widgets/base",
            "_model_module_version": "1.2.0",
            "_model_name": "LayoutModel",
            "_view_count": null,
            "_view_module": "@jupyter-widgets/base",
            "_view_module_version": "1.2.0",
            "_view_name": "LayoutView",
            "align_content": null,
            "align_items": null,
            "align_self": null,
            "border": null,
            "bottom": null,
            "display": null,
            "flex": null,
            "flex_flow": null,
            "grid_area": null,
            "grid_auto_columns": null,
            "grid_auto_flow": null,
            "grid_auto_rows": null,
            "grid_column": null,
            "grid_gap": null,
            "grid_row": null,
            "grid_template_areas": null,
            "grid_template_columns": null,
            "grid_template_rows": null,
            "height": null,
            "justify_content": null,
            "justify_items": null,
            "left": null,
            "margin": null,
            "max_height": null,
            "max_width": null,
            "min_height": null,
            "min_width": null,
            "object_fit": null,
            "object_position": null,
            "order": null,
            "overflow": null,
            "overflow_x": null,
            "overflow_y": null,
            "padding": null,
            "right": null,
            "top": null,
            "visibility": null,
            "width": null
          }
        },
        "651d5cb722074e60bb70767883c4c7f6": {
          "model_module": "@jupyter-widgets/base",
          "model_module_version": "1.2.0",
          "model_name": "LayoutModel",
          "state": {
            "_model_module": "@jupyter-widgets/base",
            "_model_module_version": "1.2.0",
            "_model_name": "LayoutModel",
            "_view_count": null,
            "_view_module": "@jupyter-widgets/base",
            "_view_module_version": "1.2.0",
            "_view_name": "LayoutView",
            "align_content": null,
            "align_items": null,
            "align_self": null,
            "border": null,
            "bottom": null,
            "display": null,
            "flex": null,
            "flex_flow": null,
            "grid_area": null,
            "grid_auto_columns": null,
            "grid_auto_flow": null,
            "grid_auto_rows": null,
            "grid_column": null,
            "grid_gap": null,
            "grid_row": null,
            "grid_template_areas": null,
            "grid_template_columns": null,
            "grid_template_rows": null,
            "height": null,
            "justify_content": null,
            "justify_items": null,
            "left": null,
            "margin": null,
            "max_height": null,
            "max_width": null,
            "min_height": null,
            "min_width": null,
            "object_fit": null,
            "object_position": null,
            "order": null,
            "overflow": null,
            "overflow_x": null,
            "overflow_y": null,
            "padding": null,
            "right": null,
            "top": null,
            "visibility": null,
            "width": null
          }
        },
        "6526e607718e4b2baa81c933bac754c5": {
          "model_module": "@jupyter-widgets/controls",
          "model_module_version": "1.5.0",
          "model_name": "HTMLModel",
          "state": {
            "_dom_classes": [],
            "_model_module": "@jupyter-widgets/controls",
            "_model_module_version": "1.5.0",
            "_model_name": "HTMLModel",
            "_view_count": null,
            "_view_module": "@jupyter-widgets/controls",
            "_view_module_version": "1.5.0",
            "_view_name": "HTMLView",
            "description": "",
            "description_tooltip": null,
            "layout": "IPY_MODEL_d0eeb806b77748558d10fa4741dae48d",
            "placeholder": "​",
            "style": "IPY_MODEL_5911c9c48fa54292aae8aeb52c46e760",
            "value": " 90.9M/90.9M [00:00&lt;00:00, 164MB/s]"
          }
        },
        "68fa953c76044f9aba420c4fa81af67f": {
          "model_module": "@jupyter-widgets/base",
          "model_module_version": "1.2.0",
          "model_name": "LayoutModel",
          "state": {
            "_model_module": "@jupyter-widgets/base",
            "_model_module_version": "1.2.0",
            "_model_name": "LayoutModel",
            "_view_count": null,
            "_view_module": "@jupyter-widgets/base",
            "_view_module_version": "1.2.0",
            "_view_name": "LayoutView",
            "align_content": null,
            "align_items": null,
            "align_self": null,
            "border": null,
            "bottom": null,
            "display": null,
            "flex": null,
            "flex_flow": null,
            "grid_area": null,
            "grid_auto_columns": null,
            "grid_auto_flow": null,
            "grid_auto_rows": null,
            "grid_column": null,
            "grid_gap": null,
            "grid_row": null,
            "grid_template_areas": null,
            "grid_template_columns": null,
            "grid_template_rows": null,
            "height": null,
            "justify_content": null,
            "justify_items": null,
            "left": null,
            "margin": null,
            "max_height": null,
            "max_width": null,
            "min_height": null,
            "min_width": null,
            "object_fit": null,
            "object_position": null,
            "order": null,
            "overflow": null,
            "overflow_x": null,
            "overflow_y": null,
            "padding": null,
            "right": null,
            "top": null,
            "visibility": null,
            "width": null
          }
        },
        "6bfb6fdd7255479e89d9f4aab14b8b69": {
          "model_module": "@jupyter-widgets/controls",
          "model_module_version": "1.5.0",
          "model_name": "FloatProgressModel",
          "state": {
            "_dom_classes": [],
            "_model_module": "@jupyter-widgets/controls",
            "_model_module_version": "1.5.0",
            "_model_name": "FloatProgressModel",
            "_view_count": null,
            "_view_module": "@jupyter-widgets/controls",
            "_view_module_version": "1.5.0",
            "_view_name": "ProgressView",
            "bar_style": "success",
            "description": "",
            "description_tooltip": null,
            "layout": "IPY_MODEL_b09668d05b3f49ef8f312db1283d5dc8",
            "max": 612,
            "min": 0,
            "orientation": "horizontal",
            "style": "IPY_MODEL_d8dd7139f3404d9b9db73016a63b0449",
            "value": 612
          }
        },
        "722489332606459e9b366b4d5077c7f7": {
          "model_module": "@jupyter-widgets/base",
          "model_module_version": "1.2.0",
          "model_name": "LayoutModel",
          "state": {
            "_model_module": "@jupyter-widgets/base",
            "_model_module_version": "1.2.0",
            "_model_name": "LayoutModel",
            "_view_count": null,
            "_view_module": "@jupyter-widgets/base",
            "_view_module_version": "1.2.0",
            "_view_name": "LayoutView",
            "align_content": null,
            "align_items": null,
            "align_self": null,
            "border": null,
            "bottom": null,
            "display": null,
            "flex": null,
            "flex_flow": null,
            "grid_area": null,
            "grid_auto_columns": null,
            "grid_auto_flow": null,
            "grid_auto_rows": null,
            "grid_column": null,
            "grid_gap": null,
            "grid_row": null,
            "grid_template_areas": null,
            "grid_template_columns": null,
            "grid_template_rows": null,
            "height": null,
            "justify_content": null,
            "justify_items": null,
            "left": null,
            "margin": null,
            "max_height": null,
            "max_width": null,
            "min_height": null,
            "min_width": null,
            "object_fit": null,
            "object_position": null,
            "order": null,
            "overflow": null,
            "overflow_x": null,
            "overflow_y": null,
            "padding": null,
            "right": null,
            "top": null,
            "visibility": null,
            "width": null
          }
        },
        "7394a75b712e410d9297719694c13f85": {
          "model_module": "@jupyter-widgets/base",
          "model_module_version": "1.2.0",
          "model_name": "LayoutModel",
          "state": {
            "_model_module": "@jupyter-widgets/base",
            "_model_module_version": "1.2.0",
            "_model_name": "LayoutModel",
            "_view_count": null,
            "_view_module": "@jupyter-widgets/base",
            "_view_module_version": "1.2.0",
            "_view_name": "LayoutView",
            "align_content": null,
            "align_items": null,
            "align_self": null,
            "border": null,
            "bottom": null,
            "display": null,
            "flex": null,
            "flex_flow": null,
            "grid_area": null,
            "grid_auto_columns": null,
            "grid_auto_flow": null,
            "grid_auto_rows": null,
            "grid_column": null,
            "grid_gap": null,
            "grid_row": null,
            "grid_template_areas": null,
            "grid_template_columns": null,
            "grid_template_rows": null,
            "height": null,
            "justify_content": null,
            "justify_items": null,
            "left": null,
            "margin": null,
            "max_height": null,
            "max_width": null,
            "min_height": null,
            "min_width": null,
            "object_fit": null,
            "object_position": null,
            "order": null,
            "overflow": null,
            "overflow_x": null,
            "overflow_y": null,
            "padding": null,
            "right": null,
            "top": null,
            "visibility": null,
            "width": null
          }
        },
        "73ef18bfa17b4001bf31bc00410fa8e6": {
          "model_module": "@jupyter-widgets/controls",
          "model_module_version": "1.5.0",
          "model_name": "ProgressStyleModel",
          "state": {
            "_model_module": "@jupyter-widgets/controls",
            "_model_module_version": "1.5.0",
            "_model_name": "ProgressStyleModel",
            "_view_count": null,
            "_view_module": "@jupyter-widgets/base",
            "_view_module_version": "1.2.0",
            "_view_name": "StyleView",
            "bar_color": null,
            "description_width": ""
          }
        },
        "741bd9d5837e4756b067d6a4f135a6e3": {
          "model_module": "@jupyter-widgets/controls",
          "model_module_version": "1.5.0",
          "model_name": "HBoxModel",
          "state": {
            "_dom_classes": [],
            "_model_module": "@jupyter-widgets/controls",
            "_model_module_version": "1.5.0",
            "_model_name": "HBoxModel",
            "_view_count": null,
            "_view_module": "@jupyter-widgets/controls",
            "_view_module_version": "1.5.0",
            "_view_name": "HBoxView",
            "box_style": "",
            "children": [
              "IPY_MODEL_4477d4cd32ce4a05970d5ccd9150e194",
              "IPY_MODEL_4635d516b1b6461884a4d1b1ec39e5a9",
              "IPY_MODEL_6122d007c8d34757a94f62d2a743da9a"
            ],
            "layout": "IPY_MODEL_ca385207b41745eba0ed4564f19b4096"
          }
        },
        "74bf79607b114d32a888f73d508416a5": {
          "model_module": "@jupyter-widgets/base",
          "model_module_version": "1.2.0",
          "model_name": "LayoutModel",
          "state": {
            "_model_module": "@jupyter-widgets/base",
            "_model_module_version": "1.2.0",
            "_model_name": "LayoutModel",
            "_view_count": null,
            "_view_module": "@jupyter-widgets/base",
            "_view_module_version": "1.2.0",
            "_view_name": "LayoutView",
            "align_content": null,
            "align_items": null,
            "align_self": null,
            "border": null,
            "bottom": null,
            "display": null,
            "flex": null,
            "flex_flow": null,
            "grid_area": null,
            "grid_auto_columns": null,
            "grid_auto_flow": null,
            "grid_auto_rows": null,
            "grid_column": null,
            "grid_gap": null,
            "grid_row": null,
            "grid_template_areas": null,
            "grid_template_columns": null,
            "grid_template_rows": null,
            "height": null,
            "justify_content": null,
            "justify_items": null,
            "left": null,
            "margin": null,
            "max_height": null,
            "max_width": null,
            "min_height": null,
            "min_width": null,
            "object_fit": null,
            "object_position": null,
            "order": null,
            "overflow": null,
            "overflow_x": null,
            "overflow_y": null,
            "padding": null,
            "right": null,
            "top": null,
            "visibility": null,
            "width": null
          }
        },
        "7c89570a6e7343b2bad977a6a44bed8b": {
          "model_module": "@jupyter-widgets/controls",
          "model_module_version": "1.5.0",
          "model_name": "HTMLModel",
          "state": {
            "_dom_classes": [],
            "_model_module": "@jupyter-widgets/controls",
            "_model_module_version": "1.5.0",
            "_model_name": "HTMLModel",
            "_view_count": null,
            "_view_module": "@jupyter-widgets/controls",
            "_view_module_version": "1.5.0",
            "_view_name": "HTMLView",
            "description": "",
            "description_tooltip": null,
            "layout": "IPY_MODEL_a2fbbbb9ac484347b545a0e82753ff24",
            "placeholder": "​",
            "style": "IPY_MODEL_e12fa82c29bb4c25b12f5f820b78e9f7",
            "value": "config_sentence_transformers.json: 100%"
          }
        },
        "7d5b0851bd664c038cb2b69f7a500d02": {
          "model_module": "@jupyter-widgets/controls",
          "model_module_version": "1.5.0",
          "model_name": "DescriptionStyleModel",
          "state": {
            "_model_module": "@jupyter-widgets/controls",
            "_model_module_version": "1.5.0",
            "_model_name": "DescriptionStyleModel",
            "_view_count": null,
            "_view_module": "@jupyter-widgets/base",
            "_view_module_version": "1.2.0",
            "_view_name": "StyleView",
            "description_width": ""
          }
        },
        "804fd99d280d4185bbd50b86a74386ec": {
          "model_module": "@jupyter-widgets/controls",
          "model_module_version": "1.5.0",
          "model_name": "HBoxModel",
          "state": {
            "_dom_classes": [],
            "_model_module": "@jupyter-widgets/controls",
            "_model_module_version": "1.5.0",
            "_model_name": "HBoxModel",
            "_view_count": null,
            "_view_module": "@jupyter-widgets/controls",
            "_view_module_version": "1.5.0",
            "_view_name": "HBoxView",
            "box_style": "",
            "children": [
              "IPY_MODEL_7c89570a6e7343b2bad977a6a44bed8b",
              "IPY_MODEL_26c3cbf4c3a6458cabfb32918a5bcc7c",
              "IPY_MODEL_a1e9c002701041179711c61173fde3c6"
            ],
            "layout": "IPY_MODEL_2eda18632f88414299a38d5fc6617701"
          }
        },
        "80b7cc6b26b4422eaaa4ca546e4494b3": {
          "model_module": "@jupyter-widgets/base",
          "model_module_version": "1.2.0",
          "model_name": "LayoutModel",
          "state": {
            "_model_module": "@jupyter-widgets/base",
            "_model_module_version": "1.2.0",
            "_model_name": "LayoutModel",
            "_view_count": null,
            "_view_module": "@jupyter-widgets/base",
            "_view_module_version": "1.2.0",
            "_view_name": "LayoutView",
            "align_content": null,
            "align_items": null,
            "align_self": null,
            "border": null,
            "bottom": null,
            "display": null,
            "flex": null,
            "flex_flow": null,
            "grid_area": null,
            "grid_auto_columns": null,
            "grid_auto_flow": null,
            "grid_auto_rows": null,
            "grid_column": null,
            "grid_gap": null,
            "grid_row": null,
            "grid_template_areas": null,
            "grid_template_columns": null,
            "grid_template_rows": null,
            "height": null,
            "justify_content": null,
            "justify_items": null,
            "left": null,
            "margin": null,
            "max_height": null,
            "max_width": null,
            "min_height": null,
            "min_width": null,
            "object_fit": null,
            "object_position": null,
            "order": null,
            "overflow": null,
            "overflow_x": null,
            "overflow_y": null,
            "padding": null,
            "right": null,
            "top": null,
            "visibility": null,
            "width": null
          }
        },
        "83428e88ecf548ed8cedaa579f77da3d": {
          "model_module": "@jupyter-widgets/base",
          "model_module_version": "1.2.0",
          "model_name": "LayoutModel",
          "state": {
            "_model_module": "@jupyter-widgets/base",
            "_model_module_version": "1.2.0",
            "_model_name": "LayoutModel",
            "_view_count": null,
            "_view_module": "@jupyter-widgets/base",
            "_view_module_version": "1.2.0",
            "_view_name": "LayoutView",
            "align_content": null,
            "align_items": null,
            "align_self": null,
            "border": null,
            "bottom": null,
            "display": null,
            "flex": null,
            "flex_flow": null,
            "grid_area": null,
            "grid_auto_columns": null,
            "grid_auto_flow": null,
            "grid_auto_rows": null,
            "grid_column": null,
            "grid_gap": null,
            "grid_row": null,
            "grid_template_areas": null,
            "grid_template_columns": null,
            "grid_template_rows": null,
            "height": null,
            "justify_content": null,
            "justify_items": null,
            "left": null,
            "margin": null,
            "max_height": null,
            "max_width": null,
            "min_height": null,
            "min_width": null,
            "object_fit": null,
            "object_position": null,
            "order": null,
            "overflow": null,
            "overflow_x": null,
            "overflow_y": null,
            "padding": null,
            "right": null,
            "top": null,
            "visibility": null,
            "width": null
          }
        },
        "89841e1755fa493e8b6e788c128ca6cb": {
          "model_module": "@jupyter-widgets/base",
          "model_module_version": "1.2.0",
          "model_name": "LayoutModel",
          "state": {
            "_model_module": "@jupyter-widgets/base",
            "_model_module_version": "1.2.0",
            "_model_name": "LayoutModel",
            "_view_count": null,
            "_view_module": "@jupyter-widgets/base",
            "_view_module_version": "1.2.0",
            "_view_name": "LayoutView",
            "align_content": null,
            "align_items": null,
            "align_self": null,
            "border": null,
            "bottom": null,
            "display": null,
            "flex": null,
            "flex_flow": null,
            "grid_area": null,
            "grid_auto_columns": null,
            "grid_auto_flow": null,
            "grid_auto_rows": null,
            "grid_column": null,
            "grid_gap": null,
            "grid_row": null,
            "grid_template_areas": null,
            "grid_template_columns": null,
            "grid_template_rows": null,
            "height": null,
            "justify_content": null,
            "justify_items": null,
            "left": null,
            "margin": null,
            "max_height": null,
            "max_width": null,
            "min_height": null,
            "min_width": null,
            "object_fit": null,
            "object_position": null,
            "order": null,
            "overflow": null,
            "overflow_x": null,
            "overflow_y": null,
            "padding": null,
            "right": null,
            "top": null,
            "visibility": null,
            "width": null
          }
        },
        "89d1bc9ac942468a9564ef129fd8044d": {
          "model_module": "@jupyter-widgets/controls",
          "model_module_version": "1.5.0",
          "model_name": "HBoxModel",
          "state": {
            "_dom_classes": [],
            "_model_module": "@jupyter-widgets/controls",
            "_model_module_version": "1.5.0",
            "_model_name": "HBoxModel",
            "_view_count": null,
            "_view_module": "@jupyter-widgets/controls",
            "_view_module_version": "1.5.0",
            "_view_name": "HBoxView",
            "box_style": "",
            "children": [
              "IPY_MODEL_0d6d8dbd30c941e5a75946166bfbc526",
              "IPY_MODEL_900c7f6c64c2489da1cf9e5ac2cccd68",
              "IPY_MODEL_f88bd296ffdc4ddc9658a190270c1815"
            ],
            "layout": "IPY_MODEL_037f13d93f9348e9991e92910b933ba4"
          }
        },
        "89e780875e7a4bd3a7be01d3bc35efb9": {
          "model_module": "@jupyter-widgets/controls",
          "model_module_version": "1.5.0",
          "model_name": "FloatProgressModel",
          "state": {
            "_dom_classes": [],
            "_model_module": "@jupyter-widgets/controls",
            "_model_module_version": "1.5.0",
            "_model_name": "FloatProgressModel",
            "_view_count": null,
            "_view_module": "@jupyter-widgets/controls",
            "_view_module_version": "1.5.0",
            "_view_name": "ProgressView",
            "bar_style": "success",
            "description": "",
            "description_tooltip": null,
            "layout": "IPY_MODEL_1a68541eb362427e9d9bbf41ba7ae642",
            "max": 112,
            "min": 0,
            "orientation": "horizontal",
            "style": "IPY_MODEL_af994e08198c4593ac6b90066a5d6d1c",
            "value": 112
          }
        },
        "8b93efe6247d4ca18185e1da41281cc0": {
          "model_module": "@jupyter-widgets/base",
          "model_module_version": "1.2.0",
          "model_name": "LayoutModel",
          "state": {
            "_model_module": "@jupyter-widgets/base",
            "_model_module_version": "1.2.0",
            "_model_name": "LayoutModel",
            "_view_count": null,
            "_view_module": "@jupyter-widgets/base",
            "_view_module_version": "1.2.0",
            "_view_name": "LayoutView",
            "align_content": null,
            "align_items": null,
            "align_self": null,
            "border": null,
            "bottom": null,
            "display": null,
            "flex": null,
            "flex_flow": null,
            "grid_area": null,
            "grid_auto_columns": null,
            "grid_auto_flow": null,
            "grid_auto_rows": null,
            "grid_column": null,
            "grid_gap": null,
            "grid_row": null,
            "grid_template_areas": null,
            "grid_template_columns": null,
            "grid_template_rows": null,
            "height": null,
            "justify_content": null,
            "justify_items": null,
            "left": null,
            "margin": null,
            "max_height": null,
            "max_width": null,
            "min_height": null,
            "min_width": null,
            "object_fit": null,
            "object_position": null,
            "order": null,
            "overflow": null,
            "overflow_x": null,
            "overflow_y": null,
            "padding": null,
            "right": null,
            "top": null,
            "visibility": null,
            "width": null
          }
        },
        "900c7f6c64c2489da1cf9e5ac2cccd68": {
          "model_module": "@jupyter-widgets/controls",
          "model_module_version": "1.5.0",
          "model_name": "FloatProgressModel",
          "state": {
            "_dom_classes": [],
            "_model_module": "@jupyter-widgets/controls",
            "_model_module_version": "1.5.0",
            "_model_name": "FloatProgressModel",
            "_view_count": null,
            "_view_module": "@jupyter-widgets/controls",
            "_view_module_version": "1.5.0",
            "_view_name": "ProgressView",
            "bar_style": "success",
            "description": "",
            "description_tooltip": null,
            "layout": "IPY_MODEL_005a1ee5e17940d4b4901169a806652e",
            "max": 10659,
            "min": 0,
            "orientation": "horizontal",
            "style": "IPY_MODEL_d3c0b6824d29465cbf3015209589c6f6",
            "value": 10659
          }
        },
        "90689ba2e7d94bcab2d043fa2bb73401": {
          "model_module": "@jupyter-widgets/base",
          "model_module_version": "1.2.0",
          "model_name": "LayoutModel",
          "state": {
            "_model_module": "@jupyter-widgets/base",
            "_model_module_version": "1.2.0",
            "_model_name": "LayoutModel",
            "_view_count": null,
            "_view_module": "@jupyter-widgets/base",
            "_view_module_version": "1.2.0",
            "_view_name": "LayoutView",
            "align_content": null,
            "align_items": null,
            "align_self": null,
            "border": null,
            "bottom": null,
            "display": null,
            "flex": null,
            "flex_flow": null,
            "grid_area": null,
            "grid_auto_columns": null,
            "grid_auto_flow": null,
            "grid_auto_rows": null,
            "grid_column": null,
            "grid_gap": null,
            "grid_row": null,
            "grid_template_areas": null,
            "grid_template_columns": null,
            "grid_template_rows": null,
            "height": null,
            "justify_content": null,
            "justify_items": null,
            "left": null,
            "margin": null,
            "max_height": null,
            "max_width": null,
            "min_height": null,
            "min_width": null,
            "object_fit": null,
            "object_position": null,
            "order": null,
            "overflow": null,
            "overflow_x": null,
            "overflow_y": null,
            "padding": null,
            "right": null,
            "top": null,
            "visibility": null,
            "width": null
          }
        },
        "94b7cf936e7b485cad7dedcc3f4414e0": {
          "model_module": "@jupyter-widgets/controls",
          "model_module_version": "1.5.0",
          "model_name": "FloatProgressModel",
          "state": {
            "_dom_classes": [],
            "_model_module": "@jupyter-widgets/controls",
            "_model_module_version": "1.5.0",
            "_model_name": "FloatProgressModel",
            "_view_count": null,
            "_view_module": "@jupyter-widgets/controls",
            "_view_module_version": "1.5.0",
            "_view_name": "ProgressView",
            "bar_style": "success",
            "description": "",
            "description_tooltip": null,
            "layout": "IPY_MODEL_3430ea5141254604809d3257d5c4974a",
            "max": 90868376,
            "min": 0,
            "orientation": "horizontal",
            "style": "IPY_MODEL_f16d58a4b3e84623946c1a3c2b1d2d6c",
            "value": 90868376
          }
        },
        "95796ecbd9a6413f98e60a95515f75a5": {
          "model_module": "@jupyter-widgets/controls",
          "model_module_version": "1.5.0",
          "model_name": "HBoxModel",
          "state": {
            "_dom_classes": [],
            "_model_module": "@jupyter-widgets/controls",
            "_model_module_version": "1.5.0",
            "_model_name": "HBoxModel",
            "_view_count": null,
            "_view_module": "@jupyter-widgets/controls",
            "_view_module_version": "1.5.0",
            "_view_name": "HBoxView",
            "box_style": "",
            "children": [
              "IPY_MODEL_556dc801c3e845b8906b06ffdf9d42fb",
              "IPY_MODEL_89e780875e7a4bd3a7be01d3bc35efb9",
              "IPY_MODEL_425ff2fe355a440384db50e0fe2c29a8"
            ],
            "layout": "IPY_MODEL_f628f5dba4d64263a6ba3bcd75f310ac"
          }
        },
        "98f948b911fd4ad792476f37f013dbc6": {
          "model_module": "@jupyter-widgets/base",
          "model_module_version": "1.2.0",
          "model_name": "LayoutModel",
          "state": {
            "_model_module": "@jupyter-widgets/base",
            "_model_module_version": "1.2.0",
            "_model_name": "LayoutModel",
            "_view_count": null,
            "_view_module": "@jupyter-widgets/base",
            "_view_module_version": "1.2.0",
            "_view_name": "LayoutView",
            "align_content": null,
            "align_items": null,
            "align_self": null,
            "border": null,
            "bottom": null,
            "display": null,
            "flex": null,
            "flex_flow": null,
            "grid_area": null,
            "grid_auto_columns": null,
            "grid_auto_flow": null,
            "grid_auto_rows": null,
            "grid_column": null,
            "grid_gap": null,
            "grid_row": null,
            "grid_template_areas": null,
            "grid_template_columns": null,
            "grid_template_rows": null,
            "height": null,
            "justify_content": null,
            "justify_items": null,
            "left": null,
            "margin": null,
            "max_height": null,
            "max_width": null,
            "min_height": null,
            "min_width": null,
            "object_fit": null,
            "object_position": null,
            "order": null,
            "overflow": null,
            "overflow_x": null,
            "overflow_y": null,
            "padding": null,
            "right": null,
            "top": null,
            "visibility": null,
            "width": null
          }
        },
        "99304902e5124f9ea71891a8f1021150": {
          "model_module": "@jupyter-widgets/base",
          "model_module_version": "1.2.0",
          "model_name": "LayoutModel",
          "state": {
            "_model_module": "@jupyter-widgets/base",
            "_model_module_version": "1.2.0",
            "_model_name": "LayoutModel",
            "_view_count": null,
            "_view_module": "@jupyter-widgets/base",
            "_view_module_version": "1.2.0",
            "_view_name": "LayoutView",
            "align_content": null,
            "align_items": null,
            "align_self": null,
            "border": null,
            "bottom": null,
            "display": null,
            "flex": null,
            "flex_flow": null,
            "grid_area": null,
            "grid_auto_columns": null,
            "grid_auto_flow": null,
            "grid_auto_rows": null,
            "grid_column": null,
            "grid_gap": null,
            "grid_row": null,
            "grid_template_areas": null,
            "grid_template_columns": null,
            "grid_template_rows": null,
            "height": null,
            "justify_content": null,
            "justify_items": null,
            "left": null,
            "margin": null,
            "max_height": null,
            "max_width": null,
            "min_height": null,
            "min_width": null,
            "object_fit": null,
            "object_position": null,
            "order": null,
            "overflow": null,
            "overflow_x": null,
            "overflow_y": null,
            "padding": null,
            "right": null,
            "top": null,
            "visibility": null,
            "width": null
          }
        },
        "9a1932ddcb84489493ace791a7c4eabc": {
          "model_module": "@jupyter-widgets/controls",
          "model_module_version": "1.5.0",
          "model_name": "ProgressStyleModel",
          "state": {
            "_model_module": "@jupyter-widgets/controls",
            "_model_module_version": "1.5.0",
            "_model_name": "ProgressStyleModel",
            "_view_count": null,
            "_view_module": "@jupyter-widgets/base",
            "_view_module_version": "1.2.0",
            "_view_name": "StyleView",
            "bar_color": null,
            "description_width": ""
          }
        },
        "9f717e047b044a80904ef55bc75c49d5": {
          "model_module": "@jupyter-widgets/controls",
          "model_module_version": "1.5.0",
          "model_name": "DescriptionStyleModel",
          "state": {
            "_model_module": "@jupyter-widgets/controls",
            "_model_module_version": "1.5.0",
            "_model_name": "DescriptionStyleModel",
            "_view_count": null,
            "_view_module": "@jupyter-widgets/base",
            "_view_module_version": "1.2.0",
            "_view_name": "StyleView",
            "description_width": ""
          }
        },
        "a1e9c002701041179711c61173fde3c6": {
          "model_module": "@jupyter-widgets/controls",
          "model_module_version": "1.5.0",
          "model_name": "HTMLModel",
          "state": {
            "_dom_classes": [],
            "_model_module": "@jupyter-widgets/controls",
            "_model_module_version": "1.5.0",
            "_model_name": "HTMLModel",
            "_view_count": null,
            "_view_module": "@jupyter-widgets/controls",
            "_view_module_version": "1.5.0",
            "_view_name": "HTMLView",
            "description": "",
            "description_tooltip": null,
            "layout": "IPY_MODEL_80b7cc6b26b4422eaaa4ca546e4494b3",
            "placeholder": "​",
            "style": "IPY_MODEL_1f7279b0e8a14ee5b1ca9a58aeacf547",
            "value": " 116/116 [00:00&lt;00:00, 5.94kB/s]"
          }
        },
        "a2fbbbb9ac484347b545a0e82753ff24": {
          "model_module": "@jupyter-widgets/base",
          "model_module_version": "1.2.0",
          "model_name": "LayoutModel",
          "state": {
            "_model_module": "@jupyter-widgets/base",
            "_model_module_version": "1.2.0",
            "_model_name": "LayoutModel",
            "_view_count": null,
            "_view_module": "@jupyter-widgets/base",
            "_view_module_version": "1.2.0",
            "_view_name": "LayoutView",
            "align_content": null,
            "align_items": null,
            "align_self": null,
            "border": null,
            "bottom": null,
            "display": null,
            "flex": null,
            "flex_flow": null,
            "grid_area": null,
            "grid_auto_columns": null,
            "grid_auto_flow": null,
            "grid_auto_rows": null,
            "grid_column": null,
            "grid_gap": null,
            "grid_row": null,
            "grid_template_areas": null,
            "grid_template_columns": null,
            "grid_template_rows": null,
            "height": null,
            "justify_content": null,
            "justify_items": null,
            "left": null,
            "margin": null,
            "max_height": null,
            "max_width": null,
            "min_height": null,
            "min_width": null,
            "object_fit": null,
            "object_position": null,
            "order": null,
            "overflow": null,
            "overflow_x": null,
            "overflow_y": null,
            "padding": null,
            "right": null,
            "top": null,
            "visibility": null,
            "width": null
          }
        },
        "a6339f7cd3d642ce892a19287a9b31f0": {
          "model_module": "@jupyter-widgets/controls",
          "model_module_version": "1.5.0",
          "model_name": "DescriptionStyleModel",
          "state": {
            "_model_module": "@jupyter-widgets/controls",
            "_model_module_version": "1.5.0",
            "_model_name": "DescriptionStyleModel",
            "_view_count": null,
            "_view_module": "@jupyter-widgets/base",
            "_view_module_version": "1.2.0",
            "_view_name": "StyleView",
            "description_width": ""
          }
        },
        "a68b4e94f8ce4bfca9f75f023f7d4cd1": {
          "model_module": "@jupyter-widgets/controls",
          "model_module_version": "1.5.0",
          "model_name": "HTMLModel",
          "state": {
            "_dom_classes": [],
            "_model_module": "@jupyter-widgets/controls",
            "_model_module_version": "1.5.0",
            "_model_name": "HTMLModel",
            "_view_count": null,
            "_view_module": "@jupyter-widgets/controls",
            "_view_module_version": "1.5.0",
            "_view_name": "HTMLView",
            "description": "",
            "description_tooltip": null,
            "layout": "IPY_MODEL_5a887f03a3f84dbe82e7b4605f4bc01c",
            "placeholder": "​",
            "style": "IPY_MODEL_a6339f7cd3d642ce892a19287a9b31f0",
            "value": " 612/612 [00:00&lt;00:00, 32.1kB/s]"
          }
        },
        "a6a2716e7be84afea1bcd3da47a51916": {
          "model_module": "@jupyter-widgets/base",
          "model_module_version": "1.2.0",
          "model_name": "LayoutModel",
          "state": {
            "_model_module": "@jupyter-widgets/base",
            "_model_module_version": "1.2.0",
            "_model_name": "LayoutModel",
            "_view_count": null,
            "_view_module": "@jupyter-widgets/base",
            "_view_module_version": "1.2.0",
            "_view_name": "LayoutView",
            "align_content": null,
            "align_items": null,
            "align_self": null,
            "border": null,
            "bottom": null,
            "display": null,
            "flex": null,
            "flex_flow": null,
            "grid_area": null,
            "grid_auto_columns": null,
            "grid_auto_flow": null,
            "grid_auto_rows": null,
            "grid_column": null,
            "grid_gap": null,
            "grid_row": null,
            "grid_template_areas": null,
            "grid_template_columns": null,
            "grid_template_rows": null,
            "height": null,
            "justify_content": null,
            "justify_items": null,
            "left": null,
            "margin": null,
            "max_height": null,
            "max_width": null,
            "min_height": null,
            "min_width": null,
            "object_fit": null,
            "object_position": null,
            "order": null,
            "overflow": null,
            "overflow_x": null,
            "overflow_y": null,
            "padding": null,
            "right": null,
            "top": null,
            "visibility": null,
            "width": null
          }
        },
        "aa6a8997a2df47ff918ac2378112adc8": {
          "model_module": "@jupyter-widgets/base",
          "model_module_version": "1.2.0",
          "model_name": "LayoutModel",
          "state": {
            "_model_module": "@jupyter-widgets/base",
            "_model_module_version": "1.2.0",
            "_model_name": "LayoutModel",
            "_view_count": null,
            "_view_module": "@jupyter-widgets/base",
            "_view_module_version": "1.2.0",
            "_view_name": "LayoutView",
            "align_content": null,
            "align_items": null,
            "align_self": null,
            "border": null,
            "bottom": null,
            "display": null,
            "flex": null,
            "flex_flow": null,
            "grid_area": null,
            "grid_auto_columns": null,
            "grid_auto_flow": null,
            "grid_auto_rows": null,
            "grid_column": null,
            "grid_gap": null,
            "grid_row": null,
            "grid_template_areas": null,
            "grid_template_columns": null,
            "grid_template_rows": null,
            "height": null,
            "justify_content": null,
            "justify_items": null,
            "left": null,
            "margin": null,
            "max_height": null,
            "max_width": null,
            "min_height": null,
            "min_width": null,
            "object_fit": null,
            "object_position": null,
            "order": null,
            "overflow": null,
            "overflow_x": null,
            "overflow_y": null,
            "padding": null,
            "right": null,
            "top": null,
            "visibility": null,
            "width": null
          }
        },
        "af994e08198c4593ac6b90066a5d6d1c": {
          "model_module": "@jupyter-widgets/controls",
          "model_module_version": "1.5.0",
          "model_name": "ProgressStyleModel",
          "state": {
            "_model_module": "@jupyter-widgets/controls",
            "_model_module_version": "1.5.0",
            "_model_name": "ProgressStyleModel",
            "_view_count": null,
            "_view_module": "@jupyter-widgets/base",
            "_view_module_version": "1.2.0",
            "_view_name": "StyleView",
            "bar_color": null,
            "description_width": ""
          }
        },
        "b09668d05b3f49ef8f312db1283d5dc8": {
          "model_module": "@jupyter-widgets/base",
          "model_module_version": "1.2.0",
          "model_name": "LayoutModel",
          "state": {
            "_model_module": "@jupyter-widgets/base",
            "_model_module_version": "1.2.0",
            "_model_name": "LayoutModel",
            "_view_count": null,
            "_view_module": "@jupyter-widgets/base",
            "_view_module_version": "1.2.0",
            "_view_name": "LayoutView",
            "align_content": null,
            "align_items": null,
            "align_self": null,
            "border": null,
            "bottom": null,
            "display": null,
            "flex": null,
            "flex_flow": null,
            "grid_area": null,
            "grid_auto_columns": null,
            "grid_auto_flow": null,
            "grid_auto_rows": null,
            "grid_column": null,
            "grid_gap": null,
            "grid_row": null,
            "grid_template_areas": null,
            "grid_template_columns": null,
            "grid_template_rows": null,
            "height": null,
            "justify_content": null,
            "justify_items": null,
            "left": null,
            "margin": null,
            "max_height": null,
            "max_width": null,
            "min_height": null,
            "min_width": null,
            "object_fit": null,
            "object_position": null,
            "order": null,
            "overflow": null,
            "overflow_x": null,
            "overflow_y": null,
            "padding": null,
            "right": null,
            "top": null,
            "visibility": null,
            "width": null
          }
        },
        "b313f5d4bf1d4b13b57cccc6075f09de": {
          "model_module": "@jupyter-widgets/controls",
          "model_module_version": "1.5.0",
          "model_name": "DescriptionStyleModel",
          "state": {
            "_model_module": "@jupyter-widgets/controls",
            "_model_module_version": "1.5.0",
            "_model_name": "DescriptionStyleModel",
            "_view_count": null,
            "_view_module": "@jupyter-widgets/base",
            "_view_module_version": "1.2.0",
            "_view_name": "StyleView",
            "description_width": ""
          }
        },
        "b6236c0295274f5ea9dc38d17022fb0c": {
          "model_module": "@jupyter-widgets/controls",
          "model_module_version": "1.5.0",
          "model_name": "HTMLModel",
          "state": {
            "_dom_classes": [],
            "_model_module": "@jupyter-widgets/controls",
            "_model_module_version": "1.5.0",
            "_model_name": "HTMLModel",
            "_view_count": null,
            "_view_module": "@jupyter-widgets/controls",
            "_view_module_version": "1.5.0",
            "_view_name": "HTMLView",
            "description": "",
            "description_tooltip": null,
            "layout": "IPY_MODEL_642cc1e590064a778273119463a3a2f5",
            "placeholder": "​",
            "style": "IPY_MODEL_e3e67810a8524955830b5ad8fa38ec16",
            "value": " 232k/232k [00:00&lt;00:00, 3.35MB/s]"
          }
        },
        "b9f7b145ee944820aea90fe51d40a510": {
          "model_module": "@jupyter-widgets/controls",
          "model_module_version": "1.5.0",
          "model_name": "FloatProgressModel",
          "state": {
            "_dom_classes": [],
            "_model_module": "@jupyter-widgets/controls",
            "_model_module_version": "1.5.0",
            "_model_name": "FloatProgressModel",
            "_view_count": null,
            "_view_module": "@jupyter-widgets/controls",
            "_view_module_version": "1.5.0",
            "_view_name": "ProgressView",
            "bar_style": "success",
            "description": "",
            "description_tooltip": null,
            "layout": "IPY_MODEL_651d5cb722074e60bb70767883c4c7f6",
            "max": 190,
            "min": 0,
            "orientation": "horizontal",
            "style": "IPY_MODEL_08e847de650642969902d2201fb87b1b",
            "value": 190
          }
        },
        "c936af9d6cd74a06816e55384e0af366": {
          "model_module": "@jupyter-widgets/controls",
          "model_module_version": "1.5.0",
          "model_name": "ProgressStyleModel",
          "state": {
            "_model_module": "@jupyter-widgets/controls",
            "_model_module_version": "1.5.0",
            "_model_name": "ProgressStyleModel",
            "_view_count": null,
            "_view_module": "@jupyter-widgets/base",
            "_view_module_version": "1.2.0",
            "_view_name": "StyleView",
            "bar_color": null,
            "description_width": ""
          }
        },
        "ca385207b41745eba0ed4564f19b4096": {
          "model_module": "@jupyter-widgets/base",
          "model_module_version": "1.2.0",
          "model_name": "LayoutModel",
          "state": {
            "_model_module": "@jupyter-widgets/base",
            "_model_module_version": "1.2.0",
            "_model_name": "LayoutModel",
            "_view_count": null,
            "_view_module": "@jupyter-widgets/base",
            "_view_module_version": "1.2.0",
            "_view_name": "LayoutView",
            "align_content": null,
            "align_items": null,
            "align_self": null,
            "border": null,
            "bottom": null,
            "display": null,
            "flex": null,
            "flex_flow": null,
            "grid_area": null,
            "grid_auto_columns": null,
            "grid_auto_flow": null,
            "grid_auto_rows": null,
            "grid_column": null,
            "grid_gap": null,
            "grid_row": null,
            "grid_template_areas": null,
            "grid_template_columns": null,
            "grid_template_rows": null,
            "height": null,
            "justify_content": null,
            "justify_items": null,
            "left": null,
            "margin": null,
            "max_height": null,
            "max_width": null,
            "min_height": null,
            "min_width": null,
            "object_fit": null,
            "object_position": null,
            "order": null,
            "overflow": null,
            "overflow_x": null,
            "overflow_y": null,
            "padding": null,
            "right": null,
            "top": null,
            "visibility": null,
            "width": null
          }
        },
        "cbc44f5d1d3d4bfe9145df584ff34407": {
          "model_module": "@jupyter-widgets/controls",
          "model_module_version": "1.5.0",
          "model_name": "DescriptionStyleModel",
          "state": {
            "_model_module": "@jupyter-widgets/controls",
            "_model_module_version": "1.5.0",
            "_model_name": "DescriptionStyleModel",
            "_view_count": null,
            "_view_module": "@jupyter-widgets/base",
            "_view_module_version": "1.2.0",
            "_view_name": "StyleView",
            "description_width": ""
          }
        },
        "cca2ee7b7eef47a6b203dff41d6031c5": {
          "model_module": "@jupyter-widgets/controls",
          "model_module_version": "1.5.0",
          "model_name": "FloatProgressModel",
          "state": {
            "_dom_classes": [],
            "_model_module": "@jupyter-widgets/controls",
            "_model_module_version": "1.5.0",
            "_model_name": "FloatProgressModel",
            "_view_count": null,
            "_view_module": "@jupyter-widgets/controls",
            "_view_module_version": "1.5.0",
            "_view_name": "ProgressView",
            "bar_style": "success",
            "description": "",
            "description_tooltip": null,
            "layout": "IPY_MODEL_0a29379a455a47d8861e89572970a950",
            "max": 466247,
            "min": 0,
            "orientation": "horizontal",
            "style": "IPY_MODEL_1689b5bf95ec4259977f914143a4182d",
            "value": 466247
          }
        },
        "ce9d73ac5c8f49fd8b6f419a373595eb": {
          "model_module": "@jupyter-widgets/base",
          "model_module_version": "1.2.0",
          "model_name": "LayoutModel",
          "state": {
            "_model_module": "@jupyter-widgets/base",
            "_model_module_version": "1.2.0",
            "_model_name": "LayoutModel",
            "_view_count": null,
            "_view_module": "@jupyter-widgets/base",
            "_view_module_version": "1.2.0",
            "_view_name": "LayoutView",
            "align_content": null,
            "align_items": null,
            "align_self": null,
            "border": null,
            "bottom": null,
            "display": null,
            "flex": null,
            "flex_flow": null,
            "grid_area": null,
            "grid_auto_columns": null,
            "grid_auto_flow": null,
            "grid_auto_rows": null,
            "grid_column": null,
            "grid_gap": null,
            "grid_row": null,
            "grid_template_areas": null,
            "grid_template_columns": null,
            "grid_template_rows": null,
            "height": null,
            "justify_content": null,
            "justify_items": null,
            "left": null,
            "margin": null,
            "max_height": null,
            "max_width": null,
            "min_height": null,
            "min_width": null,
            "object_fit": null,
            "object_position": null,
            "order": null,
            "overflow": null,
            "overflow_x": null,
            "overflow_y": null,
            "padding": null,
            "right": null,
            "top": null,
            "visibility": null,
            "width": null
          }
        },
        "cfae91953e51488f870df009e2f21d4c": {
          "model_module": "@jupyter-widgets/controls",
          "model_module_version": "1.5.0",
          "model_name": "FloatProgressModel",
          "state": {
            "_dom_classes": [],
            "_model_module": "@jupyter-widgets/controls",
            "_model_module_version": "1.5.0",
            "_model_name": "FloatProgressModel",
            "_view_count": null,
            "_view_module": "@jupyter-widgets/controls",
            "_view_module_version": "1.5.0",
            "_view_name": "ProgressView",
            "bar_style": "success",
            "description": "",
            "description_tooltip": null,
            "layout": "IPY_MODEL_ce9d73ac5c8f49fd8b6f419a373595eb",
            "max": 53,
            "min": 0,
            "orientation": "horizontal",
            "style": "IPY_MODEL_9a1932ddcb84489493ace791a7c4eabc",
            "value": 53
          }
        },
        "d0eeb806b77748558d10fa4741dae48d": {
          "model_module": "@jupyter-widgets/base",
          "model_module_version": "1.2.0",
          "model_name": "LayoutModel",
          "state": {
            "_model_module": "@jupyter-widgets/base",
            "_model_module_version": "1.2.0",
            "_model_name": "LayoutModel",
            "_view_count": null,
            "_view_module": "@jupyter-widgets/base",
            "_view_module_version": "1.2.0",
            "_view_name": "LayoutView",
            "align_content": null,
            "align_items": null,
            "align_self": null,
            "border": null,
            "bottom": null,
            "display": null,
            "flex": null,
            "flex_flow": null,
            "grid_area": null,
            "grid_auto_columns": null,
            "grid_auto_flow": null,
            "grid_auto_rows": null,
            "grid_column": null,
            "grid_gap": null,
            "grid_row": null,
            "grid_template_areas": null,
            "grid_template_columns": null,
            "grid_template_rows": null,
            "height": null,
            "justify_content": null,
            "justify_items": null,
            "left": null,
            "margin": null,
            "max_height": null,
            "max_width": null,
            "min_height": null,
            "min_width": null,
            "object_fit": null,
            "object_position": null,
            "order": null,
            "overflow": null,
            "overflow_x": null,
            "overflow_y": null,
            "padding": null,
            "right": null,
            "top": null,
            "visibility": null,
            "width": null
          }
        },
        "d3c0b6824d29465cbf3015209589c6f6": {
          "model_module": "@jupyter-widgets/controls",
          "model_module_version": "1.5.0",
          "model_name": "ProgressStyleModel",
          "state": {
            "_model_module": "@jupyter-widgets/controls",
            "_model_module_version": "1.5.0",
            "_model_name": "ProgressStyleModel",
            "_view_count": null,
            "_view_module": "@jupyter-widgets/base",
            "_view_module_version": "1.2.0",
            "_view_name": "StyleView",
            "bar_color": null,
            "description_width": ""
          }
        },
        "d460872215dd4fdb87e75fb0beedebbd": {
          "model_module": "@jupyter-widgets/base",
          "model_module_version": "1.2.0",
          "model_name": "LayoutModel",
          "state": {
            "_model_module": "@jupyter-widgets/base",
            "_model_module_version": "1.2.0",
            "_model_name": "LayoutModel",
            "_view_count": null,
            "_view_module": "@jupyter-widgets/base",
            "_view_module_version": "1.2.0",
            "_view_name": "LayoutView",
            "align_content": null,
            "align_items": null,
            "align_self": null,
            "border": null,
            "bottom": null,
            "display": null,
            "flex": null,
            "flex_flow": null,
            "grid_area": null,
            "grid_auto_columns": null,
            "grid_auto_flow": null,
            "grid_auto_rows": null,
            "grid_column": null,
            "grid_gap": null,
            "grid_row": null,
            "grid_template_areas": null,
            "grid_template_columns": null,
            "grid_template_rows": null,
            "height": null,
            "justify_content": null,
            "justify_items": null,
            "left": null,
            "margin": null,
            "max_height": null,
            "max_width": null,
            "min_height": null,
            "min_width": null,
            "object_fit": null,
            "object_position": null,
            "order": null,
            "overflow": null,
            "overflow_x": null,
            "overflow_y": null,
            "padding": null,
            "right": null,
            "top": null,
            "visibility": null,
            "width": null
          }
        },
        "d465e8e01c624a05ae497e5114b1b283": {
          "model_module": "@jupyter-widgets/base",
          "model_module_version": "1.2.0",
          "model_name": "LayoutModel",
          "state": {
            "_model_module": "@jupyter-widgets/base",
            "_model_module_version": "1.2.0",
            "_model_name": "LayoutModel",
            "_view_count": null,
            "_view_module": "@jupyter-widgets/base",
            "_view_module_version": "1.2.0",
            "_view_name": "LayoutView",
            "align_content": null,
            "align_items": null,
            "align_self": null,
            "border": null,
            "bottom": null,
            "display": null,
            "flex": null,
            "flex_flow": null,
            "grid_area": null,
            "grid_auto_columns": null,
            "grid_auto_flow": null,
            "grid_auto_rows": null,
            "grid_column": null,
            "grid_gap": null,
            "grid_row": null,
            "grid_template_areas": null,
            "grid_template_columns": null,
            "grid_template_rows": null,
            "height": null,
            "justify_content": null,
            "justify_items": null,
            "left": null,
            "margin": null,
            "max_height": null,
            "max_width": null,
            "min_height": null,
            "min_width": null,
            "object_fit": null,
            "object_position": null,
            "order": null,
            "overflow": null,
            "overflow_x": null,
            "overflow_y": null,
            "padding": null,
            "right": null,
            "top": null,
            "visibility": null,
            "width": null
          }
        },
        "d526649a612e46d58ac61c65d8f867fb": {
          "model_module": "@jupyter-widgets/base",
          "model_module_version": "1.2.0",
          "model_name": "LayoutModel",
          "state": {
            "_model_module": "@jupyter-widgets/base",
            "_model_module_version": "1.2.0",
            "_model_name": "LayoutModel",
            "_view_count": null,
            "_view_module": "@jupyter-widgets/base",
            "_view_module_version": "1.2.0",
            "_view_name": "LayoutView",
            "align_content": null,
            "align_items": null,
            "align_self": null,
            "border": null,
            "bottom": null,
            "display": null,
            "flex": null,
            "flex_flow": null,
            "grid_area": null,
            "grid_auto_columns": null,
            "grid_auto_flow": null,
            "grid_auto_rows": null,
            "grid_column": null,
            "grid_gap": null,
            "grid_row": null,
            "grid_template_areas": null,
            "grid_template_columns": null,
            "grid_template_rows": null,
            "height": null,
            "justify_content": null,
            "justify_items": null,
            "left": null,
            "margin": null,
            "max_height": null,
            "max_width": null,
            "min_height": null,
            "min_width": null,
            "object_fit": null,
            "object_position": null,
            "order": null,
            "overflow": null,
            "overflow_x": null,
            "overflow_y": null,
            "padding": null,
            "right": null,
            "top": null,
            "visibility": null,
            "width": null
          }
        },
        "d6e03063e02b4a64a4c0cd9adf291322": {
          "model_module": "@jupyter-widgets/controls",
          "model_module_version": "1.5.0",
          "model_name": "HTMLModel",
          "state": {
            "_dom_classes": [],
            "_model_module": "@jupyter-widgets/controls",
            "_model_module_version": "1.5.0",
            "_model_name": "HTMLModel",
            "_view_count": null,
            "_view_module": "@jupyter-widgets/controls",
            "_view_module_version": "1.5.0",
            "_view_name": "HTMLView",
            "description": "",
            "description_tooltip": null,
            "layout": "IPY_MODEL_74bf79607b114d32a888f73d508416a5",
            "placeholder": "​",
            "style": "IPY_MODEL_7d5b0851bd664c038cb2b69f7a500d02",
            "value": "config.json: 100%"
          }
        },
        "d6e2d4cfaabc40c2b520cd40d560ee2d": {
          "model_module": "@jupyter-widgets/base",
          "model_module_version": "1.2.0",
          "model_name": "LayoutModel",
          "state": {
            "_model_module": "@jupyter-widgets/base",
            "_model_module_version": "1.2.0",
            "_model_name": "LayoutModel",
            "_view_count": null,
            "_view_module": "@jupyter-widgets/base",
            "_view_module_version": "1.2.0",
            "_view_name": "LayoutView",
            "align_content": null,
            "align_items": null,
            "align_self": null,
            "border": null,
            "bottom": null,
            "display": null,
            "flex": null,
            "flex_flow": null,
            "grid_area": null,
            "grid_auto_columns": null,
            "grid_auto_flow": null,
            "grid_auto_rows": null,
            "grid_column": null,
            "grid_gap": null,
            "grid_row": null,
            "grid_template_areas": null,
            "grid_template_columns": null,
            "grid_template_rows": null,
            "height": null,
            "justify_content": null,
            "justify_items": null,
            "left": null,
            "margin": null,
            "max_height": null,
            "max_width": null,
            "min_height": null,
            "min_width": null,
            "object_fit": null,
            "object_position": null,
            "order": null,
            "overflow": null,
            "overflow_x": null,
            "overflow_y": null,
            "padding": null,
            "right": null,
            "top": null,
            "visibility": null,
            "width": null
          }
        },
        "d8565c5c4c6547ec9c57a2beb302b7ab": {
          "model_module": "@jupyter-widgets/controls",
          "model_module_version": "1.5.0",
          "model_name": "FloatProgressModel",
          "state": {
            "_dom_classes": [],
            "_model_module": "@jupyter-widgets/controls",
            "_model_module_version": "1.5.0",
            "_model_name": "FloatProgressModel",
            "_view_count": null,
            "_view_module": "@jupyter-widgets/controls",
            "_view_module_version": "1.5.0",
            "_view_name": "ProgressView",
            "bar_style": "success",
            "description": "",
            "description_tooltip": null,
            "layout": "IPY_MODEL_4c703dba73a54108a2253bc203773963",
            "max": 231508,
            "min": 0,
            "orientation": "horizontal",
            "style": "IPY_MODEL_c936af9d6cd74a06816e55384e0af366",
            "value": 231508
          }
        },
        "d88bf03a903649faa0a28d52ae5e70f1": {
          "model_module": "@jupyter-widgets/controls",
          "model_module_version": "1.5.0",
          "model_name": "HTMLModel",
          "state": {
            "_dom_classes": [],
            "_model_module": "@jupyter-widgets/controls",
            "_model_module_version": "1.5.0",
            "_model_name": "HTMLModel",
            "_view_count": null,
            "_view_module": "@jupyter-widgets/controls",
            "_view_module_version": "1.5.0",
            "_view_name": "HTMLView",
            "description": "",
            "description_tooltip": null,
            "layout": "IPY_MODEL_50aff91eed684c1993aa0f03bd59a92a",
            "placeholder": "​",
            "style": "IPY_MODEL_5105b05e91bc4735a6fab5fd52f2ae29",
            "value": "vocab.txt: 100%"
          }
        },
        "d8dd7139f3404d9b9db73016a63b0449": {
          "model_module": "@jupyter-widgets/controls",
          "model_module_version": "1.5.0",
          "model_name": "ProgressStyleModel",
          "state": {
            "_model_module": "@jupyter-widgets/controls",
            "_model_module_version": "1.5.0",
            "_model_name": "ProgressStyleModel",
            "_view_count": null,
            "_view_module": "@jupyter-widgets/base",
            "_view_module_version": "1.2.0",
            "_view_name": "StyleView",
            "bar_color": null,
            "description_width": ""
          }
        },
        "d9358d503ae54c0da1575cd8a1125012": {
          "model_module": "@jupyter-widgets/controls",
          "model_module_version": "1.5.0",
          "model_name": "DescriptionStyleModel",
          "state": {
            "_model_module": "@jupyter-widgets/controls",
            "_model_module_version": "1.5.0",
            "_model_name": "DescriptionStyleModel",
            "_view_count": null,
            "_view_module": "@jupyter-widgets/base",
            "_view_module_version": "1.2.0",
            "_view_name": "StyleView",
            "description_width": ""
          }
        },
        "dd3910700a914e28834f4a8a154eab13": {
          "model_module": "@jupyter-widgets/base",
          "model_module_version": "1.2.0",
          "model_name": "LayoutModel",
          "state": {
            "_model_module": "@jupyter-widgets/base",
            "_model_module_version": "1.2.0",
            "_model_name": "LayoutModel",
            "_view_count": null,
            "_view_module": "@jupyter-widgets/base",
            "_view_module_version": "1.2.0",
            "_view_name": "LayoutView",
            "align_content": null,
            "align_items": null,
            "align_self": null,
            "border": null,
            "bottom": null,
            "display": null,
            "flex": null,
            "flex_flow": null,
            "grid_area": null,
            "grid_auto_columns": null,
            "grid_auto_flow": null,
            "grid_auto_rows": null,
            "grid_column": null,
            "grid_gap": null,
            "grid_row": null,
            "grid_template_areas": null,
            "grid_template_columns": null,
            "grid_template_rows": null,
            "height": null,
            "justify_content": null,
            "justify_items": null,
            "left": null,
            "margin": null,
            "max_height": null,
            "max_width": null,
            "min_height": null,
            "min_width": null,
            "object_fit": null,
            "object_position": null,
            "order": null,
            "overflow": null,
            "overflow_x": null,
            "overflow_y": null,
            "padding": null,
            "right": null,
            "top": null,
            "visibility": null,
            "width": null
          }
        },
        "e12fa82c29bb4c25b12f5f820b78e9f7": {
          "model_module": "@jupyter-widgets/controls",
          "model_module_version": "1.5.0",
          "model_name": "DescriptionStyleModel",
          "state": {
            "_model_module": "@jupyter-widgets/controls",
            "_model_module_version": "1.5.0",
            "_model_name": "DescriptionStyleModel",
            "_view_count": null,
            "_view_module": "@jupyter-widgets/base",
            "_view_module_version": "1.2.0",
            "_view_name": "StyleView",
            "description_width": ""
          }
        },
        "e2800eb874be4f0697193d8d94f33d5c": {
          "model_module": "@jupyter-widgets/controls",
          "model_module_version": "1.5.0",
          "model_name": "DescriptionStyleModel",
          "state": {
            "_model_module": "@jupyter-widgets/controls",
            "_model_module_version": "1.5.0",
            "_model_name": "DescriptionStyleModel",
            "_view_count": null,
            "_view_module": "@jupyter-widgets/base",
            "_view_module_version": "1.2.0",
            "_view_name": "StyleView",
            "description_width": ""
          }
        },
        "e39b0a82ec394aac963d080a0dae8eef": {
          "model_module": "@jupyter-widgets/controls",
          "model_module_version": "1.5.0",
          "model_name": "DescriptionStyleModel",
          "state": {
            "_model_module": "@jupyter-widgets/controls",
            "_model_module_version": "1.5.0",
            "_model_name": "DescriptionStyleModel",
            "_view_count": null,
            "_view_module": "@jupyter-widgets/base",
            "_view_module_version": "1.2.0",
            "_view_name": "StyleView",
            "description_width": ""
          }
        },
        "e3e67810a8524955830b5ad8fa38ec16": {
          "model_module": "@jupyter-widgets/controls",
          "model_module_version": "1.5.0",
          "model_name": "DescriptionStyleModel",
          "state": {
            "_model_module": "@jupyter-widgets/controls",
            "_model_module_version": "1.5.0",
            "_model_name": "DescriptionStyleModel",
            "_view_count": null,
            "_view_module": "@jupyter-widgets/base",
            "_view_module_version": "1.2.0",
            "_view_name": "StyleView",
            "description_width": ""
          }
        },
        "e8c98bb6105b46bb94120369f4bfc9d0": {
          "model_module": "@jupyter-widgets/base",
          "model_module_version": "1.2.0",
          "model_name": "LayoutModel",
          "state": {
            "_model_module": "@jupyter-widgets/base",
            "_model_module_version": "1.2.0",
            "_model_name": "LayoutModel",
            "_view_count": null,
            "_view_module": "@jupyter-widgets/base",
            "_view_module_version": "1.2.0",
            "_view_name": "LayoutView",
            "align_content": null,
            "align_items": null,
            "align_self": null,
            "border": null,
            "bottom": null,
            "display": null,
            "flex": null,
            "flex_flow": null,
            "grid_area": null,
            "grid_auto_columns": null,
            "grid_auto_flow": null,
            "grid_auto_rows": null,
            "grid_column": null,
            "grid_gap": null,
            "grid_row": null,
            "grid_template_areas": null,
            "grid_template_columns": null,
            "grid_template_rows": null,
            "height": null,
            "justify_content": null,
            "justify_items": null,
            "left": null,
            "margin": null,
            "max_height": null,
            "max_width": null,
            "min_height": null,
            "min_width": null,
            "object_fit": null,
            "object_position": null,
            "order": null,
            "overflow": null,
            "overflow_x": null,
            "overflow_y": null,
            "padding": null,
            "right": null,
            "top": null,
            "visibility": null,
            "width": null
          }
        },
        "e92a47d1e36148468d0815c1d50fdafe": {
          "model_module": "@jupyter-widgets/controls",
          "model_module_version": "1.5.0",
          "model_name": "HBoxModel",
          "state": {
            "_dom_classes": [],
            "_model_module": "@jupyter-widgets/controls",
            "_model_module_version": "1.5.0",
            "_model_name": "HBoxModel",
            "_view_count": null,
            "_view_module": "@jupyter-widgets/controls",
            "_view_module_version": "1.5.0",
            "_view_name": "HBoxView",
            "box_style": "",
            "children": [
              "IPY_MODEL_05ff7ddc11bf4dca83d6fec99483d184",
              "IPY_MODEL_94b7cf936e7b485cad7dedcc3f4414e0",
              "IPY_MODEL_6526e607718e4b2baa81c933bac754c5"
            ],
            "layout": "IPY_MODEL_98f948b911fd4ad792476f37f013dbc6"
          }
        },
        "ea0c15614ebc4356a01d56e4c3285567": {
          "model_module": "@jupyter-widgets/controls",
          "model_module_version": "1.5.0",
          "model_name": "HBoxModel",
          "state": {
            "_dom_classes": [],
            "_model_module": "@jupyter-widgets/controls",
            "_model_module_version": "1.5.0",
            "_model_name": "HBoxModel",
            "_view_count": null,
            "_view_module": "@jupyter-widgets/controls",
            "_view_module_version": "1.5.0",
            "_view_name": "HBoxView",
            "box_style": "",
            "children": [
              "IPY_MODEL_4a6f6b9e9eac4bc6bc3ee6137876a3ab",
              "IPY_MODEL_cfae91953e51488f870df009e2f21d4c",
              "IPY_MODEL_efaef0769a344533b35a88b729576edd"
            ],
            "layout": "IPY_MODEL_90689ba2e7d94bcab2d043fa2bb73401"
          }
        },
        "ee80f32461784baa9c1a087d660a86b0": {
          "model_module": "@jupyter-widgets/controls",
          "model_module_version": "1.5.0",
          "model_name": "ProgressStyleModel",
          "state": {
            "_model_module": "@jupyter-widgets/controls",
            "_model_module_version": "1.5.0",
            "_model_name": "ProgressStyleModel",
            "_view_count": null,
            "_view_module": "@jupyter-widgets/base",
            "_view_module_version": "1.2.0",
            "_view_name": "StyleView",
            "bar_color": null,
            "description_width": ""
          }
        },
        "efaec478e6ff440981707e1010034b65": {
          "model_module": "@jupyter-widgets/controls",
          "model_module_version": "1.5.0",
          "model_name": "DescriptionStyleModel",
          "state": {
            "_model_module": "@jupyter-widgets/controls",
            "_model_module_version": "1.5.0",
            "_model_name": "DescriptionStyleModel",
            "_view_count": null,
            "_view_module": "@jupyter-widgets/base",
            "_view_module_version": "1.2.0",
            "_view_name": "StyleView",
            "description_width": ""
          }
        },
        "efaef0769a344533b35a88b729576edd": {
          "model_module": "@jupyter-widgets/controls",
          "model_module_version": "1.5.0",
          "model_name": "HTMLModel",
          "state": {
            "_dom_classes": [],
            "_model_module": "@jupyter-widgets/controls",
            "_model_module_version": "1.5.0",
            "_model_name": "HTMLModel",
            "_view_count": null,
            "_view_module": "@jupyter-widgets/controls",
            "_view_module_version": "1.5.0",
            "_view_name": "HTMLView",
            "description": "",
            "description_tooltip": null,
            "layout": "IPY_MODEL_99304902e5124f9ea71891a8f1021150",
            "placeholder": "​",
            "style": "IPY_MODEL_3a232ec8a2a9490f94c0dda6b0c7bc83",
            "value": " 53.0/53.0 [00:00&lt;00:00, 2.61kB/s]"
          }
        },
        "f16d58a4b3e84623946c1a3c2b1d2d6c": {
          "model_module": "@jupyter-widgets/controls",
          "model_module_version": "1.5.0",
          "model_name": "ProgressStyleModel",
          "state": {
            "_model_module": "@jupyter-widgets/controls",
            "_model_module_version": "1.5.0",
            "_model_name": "ProgressStyleModel",
            "_view_count": null,
            "_view_module": "@jupyter-widgets/base",
            "_view_module_version": "1.2.0",
            "_view_name": "StyleView",
            "bar_color": null,
            "description_width": ""
          }
        },
        "f38bebeb6fbd4fae8a4f9229bf2582d2": {
          "model_module": "@jupyter-widgets/controls",
          "model_module_version": "1.5.0",
          "model_name": "DescriptionStyleModel",
          "state": {
            "_model_module": "@jupyter-widgets/controls",
            "_model_module_version": "1.5.0",
            "_model_name": "DescriptionStyleModel",
            "_view_count": null,
            "_view_module": "@jupyter-widgets/base",
            "_view_module_version": "1.2.0",
            "_view_name": "StyleView",
            "description_width": ""
          }
        },
        "f5c49e043e134be49fff584ef100e0c1": {
          "model_module": "@jupyter-widgets/controls",
          "model_module_version": "1.5.0",
          "model_name": "ProgressStyleModel",
          "state": {
            "_model_module": "@jupyter-widgets/controls",
            "_model_module_version": "1.5.0",
            "_model_name": "ProgressStyleModel",
            "_view_count": null,
            "_view_module": "@jupyter-widgets/base",
            "_view_module_version": "1.2.0",
            "_view_name": "StyleView",
            "bar_color": null,
            "description_width": ""
          }
        },
        "f628f5dba4d64263a6ba3bcd75f310ac": {
          "model_module": "@jupyter-widgets/base",
          "model_module_version": "1.2.0",
          "model_name": "LayoutModel",
          "state": {
            "_model_module": "@jupyter-widgets/base",
            "_model_module_version": "1.2.0",
            "_model_name": "LayoutModel",
            "_view_count": null,
            "_view_module": "@jupyter-widgets/base",
            "_view_module_version": "1.2.0",
            "_view_name": "LayoutView",
            "align_content": null,
            "align_items": null,
            "align_self": null,
            "border": null,
            "bottom": null,
            "display": null,
            "flex": null,
            "flex_flow": null,
            "grid_area": null,
            "grid_auto_columns": null,
            "grid_auto_flow": null,
            "grid_auto_rows": null,
            "grid_column": null,
            "grid_gap": null,
            "grid_row": null,
            "grid_template_areas": null,
            "grid_template_columns": null,
            "grid_template_rows": null,
            "height": null,
            "justify_content": null,
            "justify_items": null,
            "left": null,
            "margin": null,
            "max_height": null,
            "max_width": null,
            "min_height": null,
            "min_width": null,
            "object_fit": null,
            "object_position": null,
            "order": null,
            "overflow": null,
            "overflow_x": null,
            "overflow_y": null,
            "padding": null,
            "right": null,
            "top": null,
            "visibility": null,
            "width": null
          }
        },
        "f683378210ce4f29bda8dade662910ab": {
          "model_module": "@jupyter-widgets/controls",
          "model_module_version": "1.5.0",
          "model_name": "HTMLModel",
          "state": {
            "_dom_classes": [],
            "_model_module": "@jupyter-widgets/controls",
            "_model_module_version": "1.5.0",
            "_model_name": "HTMLModel",
            "_view_count": null,
            "_view_module": "@jupyter-widgets/controls",
            "_view_module_version": "1.5.0",
            "_view_name": "HTMLView",
            "description": "",
            "description_tooltip": null,
            "layout": "IPY_MODEL_014a938fd5734ea283fc3fdb000ce6b9",
            "placeholder": "​",
            "style": "IPY_MODEL_b313f5d4bf1d4b13b57cccc6075f09de",
            "value": "1_Pooling/config.json: 100%"
          }
        },
        "f88bd296ffdc4ddc9658a190270c1815": {
          "model_module": "@jupyter-widgets/controls",
          "model_module_version": "1.5.0",
          "model_name": "HTMLModel",
          "state": {
            "_dom_classes": [],
            "_model_module": "@jupyter-widgets/controls",
            "_model_module_version": "1.5.0",
            "_model_name": "HTMLModel",
            "_view_count": null,
            "_view_module": "@jupyter-widgets/controls",
            "_view_module_version": "1.5.0",
            "_view_name": "HTMLView",
            "description": "",
            "description_tooltip": null,
            "layout": "IPY_MODEL_d465e8e01c624a05ae497e5114b1b283",
            "placeholder": "​",
            "style": "IPY_MODEL_f38bebeb6fbd4fae8a4f9229bf2582d2",
            "value": " 10.7k/10.7k [00:00&lt;00:00, 581kB/s]"
          }
        },
        "ff74c64bcc804eec98fec7a1b28de68c": {
          "model_module": "@jupyter-widgets/base",
          "model_module_version": "1.2.0",
          "model_name": "LayoutModel",
          "state": {
            "_model_module": "@jupyter-widgets/base",
            "_model_module_version": "1.2.0",
            "_model_name": "LayoutModel",
            "_view_count": null,
            "_view_module": "@jupyter-widgets/base",
            "_view_module_version": "1.2.0",
            "_view_name": "LayoutView",
            "align_content": null,
            "align_items": null,
            "align_self": null,
            "border": null,
            "bottom": null,
            "display": null,
            "flex": null,
            "flex_flow": null,
            "grid_area": null,
            "grid_auto_columns": null,
            "grid_auto_flow": null,
            "grid_auto_rows": null,
            "grid_column": null,
            "grid_gap": null,
            "grid_row": null,
            "grid_template_areas": null,
            "grid_template_columns": null,
            "grid_template_rows": null,
            "height": null,
            "justify_content": null,
            "justify_items": null,
            "left": null,
            "margin": null,
            "max_height": null,
            "max_width": null,
            "min_height": null,
            "min_width": null,
            "object_fit": null,
            "object_position": null,
            "order": null,
            "overflow": null,
            "overflow_x": null,
            "overflow_y": null,
            "padding": null,
            "right": null,
            "top": null,
            "visibility": null,
            "width": null
          }
        },
        "ff8d3d36e14f48259cf35ea7bc2e937d": {
          "model_module": "@jupyter-widgets/controls",
          "model_module_version": "1.5.0",
          "model_name": "DescriptionStyleModel",
          "state": {
            "_model_module": "@jupyter-widgets/controls",
            "_model_module_version": "1.5.0",
            "_model_name": "DescriptionStyleModel",
            "_view_count": null,
            "_view_module": "@jupyter-widgets/base",
            "_view_module_version": "1.2.0",
            "_view_name": "StyleView",
            "description_width": ""
          }
        }
      }
    }
  },
  "nbformat": 4,
  "nbformat_minor": 0
}
